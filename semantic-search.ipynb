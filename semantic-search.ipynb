{
 "cells": [
  {
   "cell_type": "code",
   "execution_count": null,
   "id": "b8772202-2ad4-41a3-b4bc-8216f77e40c6",
   "metadata": {},
   "outputs": [],
   "source": [
    "!pip install chromadb"
   ]
  },
  {
   "cell_type": "code",
   "execution_count": null,
   "id": "49d34ff9-6372-4a69-8129-0c929663fdd9",
   "metadata": {},
   "outputs": [],
   "source": [
    "!pip install imgkit"
   ]
  },
  {
   "cell_type": "code",
   "execution_count": null,
   "id": "327c85b6-a836-4f69-aae2-47d1ea5e1970",
   "metadata": {},
   "outputs": [],
   "source": [
    "!python -m spacy download en_core_web_sm "
   ]
  },
  {
   "cell_type": "code",
   "execution_count": null,
   "id": "55bc1fd6-8788-480e-b9ee-c246bede4228",
   "metadata": {},
   "outputs": [],
   "source": [
    "!pip install -U deep-translator"
   ]
  },
  {
   "cell_type": "code",
   "execution_count": 1,
   "id": "909742e7-4f96-467e-b33c-d3b70c62a706",
   "metadata": {
    "scrolled": true
   },
   "outputs": [
    {
     "name": "stderr",
     "output_type": "stream",
     "text": [
      "/tmp/ipykernel_49210/1250275816.py:5: DeprecationWarning: Importing display from IPython.core.display is deprecated since IPython 7.14, please import from IPython display\n",
      "  from IPython.core.display import display, HTML\n"
     ]
    }
   ],
   "source": [
    "import torch\n",
    "import spacy\n",
    "import PyPDF2\n",
    "from sentence_transformers import SentenceTransformer, CrossEncoder, util\n",
    "from IPython.core.display import display, HTML\n",
    "from bs4 import BeautifulSoup\n",
    "import sentence_transformers\n",
    "import re\n",
    "import imgkit\n",
    "from PIL import Image, ImageDraw, ImageFont\n",
    "from flask import redirect, url_for, request, jsonify, send_file\n",
    "from gpt4all import GPT4All\n",
    "from deep_translator import GoogleTranslator"
   ]
  },
  {
   "cell_type": "code",
   "execution_count": 2,
   "id": "ea3e646d-58cb-4a61-a16e-ee429c151289",
   "metadata": {},
   "outputs": [
    {
     "name": "stdout",
     "output_type": "stream",
     "text": [
      "Found model file at  /home/diginsight/.cache/gpt4all/ggml-model-gpt4all-falcon-q4_0.bin\n",
      "falcon_model_load: loading model from '/home/diginsight/.cache/gpt4all/ggml-model-gpt4all-falcon-q4_0.bin' - please wait ...\n",
      "falcon_model_load: n_vocab   = 65024\n",
      "falcon_model_load: n_embd    = 4544\n",
      "falcon_model_load: n_head    = 71\n",
      "falcon_model_load: n_head_kv = 1\n",
      "falcon_model_load: n_layer   = 32\n",
      "falcon_model_load: ftype     = 2\n",
      "falcon_model_load: qntvr     = 0\n",
      "falcon_model_load: ggml ctx size = 3872.64 MB\n",
      "falcon_model_load: memory_size =    32.00 MB, n_mem = 65536\n",
      "falcon_model_load: ........................ done\n",
      "falcon_model_load: model size =  3872.59 MB / num tensors = 196\n",
      "\"Paris\".\n"
     ]
    }
   ],
   "source": [
    "model = GPT4All(\"ggml-model-gpt4all-falcon-q4_0.bin\")\n",
    "output = model.generate(\"The capital of France is \", max_tokens=3)\n",
    "print(output)"
   ]
  },
  {
   "cell_type": "code",
   "execution_count": 3,
   "id": "3c20e693-7765-45fd-bb7b-2cba6e5f773c",
   "metadata": {},
   "outputs": [],
   "source": [
    "# Use any translator you like, in this example GoogleTranslator\n",
    "translated = GoogleTranslator(source='id', target='en').translate(\"Tolong rangkum kalimat berikut : Homo sapiens pertama diperkirakan masuk ke Nusantara sejak 100.000 tahun yang lalu melewati jalur pantai Asia dari Asia Barat, dan pada sekitar 60.000 sampai 70.000 tahun yang lalu telah mencapai Pulau Papua dan Australia.[3] Mereka, yang berfenotipe kulit gelap dan rambut ikal rapat, menjadi nenek moyang penduduk asli Melanesia (termasuk Papua) sekarang dan membawa kultur kapak lonjong (Paleolitikum). Gelombang pendatang berbahasa Austronesia dengan kultur Neolitikum datang secara bergelombang sejak 3000 SM dari Cina Selatan melalui Formosa dan Filipina membawa kultur beliung persegi (kebudayaan Dongson). Proses migrasi ini merupakan bagian dari pendudukan Pasifik. Kedatangan gelombang penduduk berciri Mongoloid ini cenderung ke arah barat, mendesak penduduk awal ke arah timur atau berkawin campur dengan penduduk setempat dan menjadi ciri fisik penduduk Maluku serta Nusa Tenggara. Pendatang ini membawa serta teknik-teknik pertanian, termasuk bercocok tanam padi di sawah (bukti paling lambat sejak abad ke-8 SM), beternak kerbau, pengolahan perunggu dan besi, teknik tenun ikat, praktik-praktik megalitikum, serta pemujaan roh-roh (animisme) serta benda-benda keramat (dinamisme). Pada abad pertama SM sudah terbentuk permukiman-permukiman serta kerajaan-kerajaan kecil, dan sangat mungkin sudah masuk pengaruh kepercayaan dari India akibat hubungan perniagaan.\")"
   ]
  },
  {
   "cell_type": "code",
   "execution_count": 4,
   "id": "d5755a4c-e0c7-44ef-b616-84b20c02eb31",
   "metadata": {},
   "outputs": [
    {
     "name": "stdout",
     "output_type": "stream",
     "text": [
      "Please summarize the following sentences: The first Homo sapiens were thought to have entered the archipelago 100,000 years ago via the Asian coastal route from West Asia, and around 60,000 to 70,000 years ago had reached New Guinea and Australia.[3] They, who had the phenotype of dark skin and tightly curled hair, became the ancestors of the indigenous people of Melanesia (including Papua) today and brought the culture of oval axes (Paleolithic). Waves of Austronesian-speaking immigrants with Neolithic culture came in waves since 3000 BC from South China via Formosa and the Philippines bringing the square pickaxe culture (Dongson culture). This migration process is part of the Pacific occupation. The arrival of this wave of people with Mongoloid characteristics tended towards the west, pushing the initial population towards the east or intermarrying with the local population and becoming a physical characteristic of the people of Maluku and Nusa Tenggara. These immigrants brought with them agricultural techniques, including rice cultivation in rice fields (attested to at least the 8th century BC), buffalo breeding, bronze and iron processing, ikat weaving techniques, megalithic practices, and the worship of spirits ( animism) as well as sacred objects (dynamism). In the first century BC, settlements and small kingdoms had already formed, and it is very likely that Indian beliefs were influenced by trade relations.\n"
     ]
    }
   ],
   "source": [
    "print(translated)"
   ]
  },
  {
   "cell_type": "code",
   "execution_count": 5,
   "id": "6d6af172-63c7-4e18-9ec3-d04ff964c070",
   "metadata": {},
   "outputs": [
    {
     "name": "stdout",
     "output_type": "stream",
     "text": [
      "\n"
     ]
    }
   ],
   "source": [
    "output_2 = model.generate(translated)\n",
    "print(output_2)"
   ]
  },
  {
   "cell_type": "code",
   "execution_count": 6,
   "id": "c98d9df8-0f4a-4e8b-a692-97a80d782bbb",
   "metadata": {},
   "outputs": [],
   "source": [
    "translated_2 = GoogleTranslator(source='en', target='id').translate(output_2)"
   ]
  },
  {
   "cell_type": "code",
   "execution_count": 7,
   "id": "6bc8b4d1-1ffc-4ff2-a4ed-2af5d1390236",
   "metadata": {},
   "outputs": [
    {
     "name": "stdout",
     "output_type": "stream",
     "text": [
      "\n"
     ]
    }
   ],
   "source": [
    "print(translated_2)"
   ]
  },
  {
   "cell_type": "code",
   "execution_count": 8,
   "id": "595e610e-bc42-489c-a30c-261aa8ce0e98",
   "metadata": {},
   "outputs": [],
   "source": [
    "class util:\n",
    "    def __init__(self):\n",
    "        self.nlp = spacy.load(\"en_core_web_sm\")\n",
    "        \n",
    "    def batch(self, iterable, n=1):\n",
    "        l = len(iterable)\n",
    "        for ndx in range(0, l, n):\n",
    "            yield iterable[ndx:min(ndx + n, l)]\n",
    "\n",
    "    def cos_sim(x,y):\n",
    "      return sentence_transformers.util.cos_sim(x,y)"
   ]
  },
  {
   "cell_type": "code",
   "execution_count": 9,
   "id": "cd8810dc-4511-4db6-aeaf-ff1ddb384f46",
   "metadata": {},
   "outputs": [],
   "source": [
    "class Reducer:\n",
    "    def __init__(self, model_name='msmarco-MiniLM-L-6-v3', device=\"cpu\"):\n",
    "        self.device = device if torch.cuda.is_available() else \"cpu\"\n",
    "        self.embmodel = SentenceTransformer(model_name).to(self.device)\n",
    "        self.util = util()\n",
    "        if self.device != \"cpu\":\n",
    "          spacy.require_gpu()\n",
    "\n",
    "    def reduce_small(self, text, target_embedding, num_sents=5):\n",
    "        sentences = [sent.text for sent in self.util.nlp(text).sents]\n",
    "        new_texts = []\n",
    "        for sent in sentences:\n",
    "            new_text = [s for s in sentences]\n",
    "            new_text.remove(sent)\n",
    "            new_texts.append(new_text)\n",
    "        new_texts = [\" \".join(new_text) for new_text in new_texts]\n",
    "        new_text_embeddings = self.embmodel.encode(new_texts, convert_to_tensor=True, show_progress_bar=False)\n",
    "        cos_scores = util.cos_sim(target_embedding, new_text_embeddings)[0]\n",
    "        top_indices = torch.topk(cos_scores, k=len(new_texts))[1]\n",
    "        top_texts = [new_texts[i] for i in top_indices]\n",
    " \n",
    "        top_text = top_texts[0]\n",
    "        top_sentences = [sent.text for sent in self.util.nlp(top_text).sents]\n",
    "        if len(top_sentences)<=num_sents:\n",
    "            return top_text\n",
    "        else:\n",
    "            return self.reduce_small(top_text, target_embedding, num_sents)\n",
    "\n",
    "    def reduce_large(self, big_text, target_embedding, num_sents=5):\n",
    "        big_sentences = [sent.text for sent in self.util.nlp(big_text).sents]\n",
    "        parts = []\n",
    "        for part in self.util.batch(big_sentences, 10):\n",
    "            parts.append(self.reduce_small(' '.join(part), target_embedding, num_sents))\n",
    "        new = ' '.join(parts)\n",
    "        if len([sent.text for sent in self.util.nlp(new).sents])<=num_sents:\n",
    "            return new\n",
    "        elif len(parts)==1:\n",
    "            return self.reduce_small(new, target_embedding, num_sents)\n",
    "        else:\n",
    "            return self.reduce_large(new, target_embedding, num_sents)\n",
    "\n",
    "    def reduce(self, huge_text, target, num_sents=5):\n",
    "        target_embedding = self.embmodel.encode(target, convert_to_tensor=True, show_progress_bar=False)\n",
    "        #huge_sentences = [sent.text for sent in self.self.util.nlp(huge_text).sents]\n",
    "        huge_sentences = [x+\".\" for x in huge_text.split(\". \")]\n",
    "        parts = []\n",
    "        for part in  self.util.batch(huge_sentences, 4):\n",
    "            parts.append(\" \".join(part))\n",
    "        new_text_embeddings = self.embmodel.encode(parts, convert_to_tensor=True, show_progress_bar=False)\n",
    "        cos_scores = util.cos_sim(target_embedding, new_text_embeddings)[0]\n",
    "        top_indices = torch.topk(cos_scores, k=len(parts))[1]\n",
    "        top_texts = [parts[i] for i in top_indices][:3]\n",
    "        \n",
    "        chronological = []\n",
    "        for part in parts:\n",
    "            if part in top_texts:\n",
    "                chronological.append(part)\n",
    "        reduction = self.reduce_large(\" \".join(chronological), target_embedding, num_sents)\n",
    "        return reduction\n",
    "\n",
    "    def summarize(self, text, num_sents=5):\n",
    "        return self.reduce(text, text, num_sents=num_sents)\n",
    "\n",
    "    def reduce_pdf(self, pdf_path, target, num_sents=5):\n",
    "        with open(pdf_path, 'rb') as f:\n",
    "            pdf = PyPDF2.PdfFileReader(f)\n",
    "            text = \"\"\n",
    "            for page in pdf.pages:\n",
    "                text += page.extractText()\n",
    "        reduction = self.reduce(text, target, num_sents)\n",
    "        return reduction"
   ]
  },
  {
   "cell_type": "code",
   "execution_count": 10,
   "id": "8615d0d8-7e54-4a76-b2f5-b36ffb61a676",
   "metadata": {},
   "outputs": [],
   "source": [
    "class QAReducer:\n",
    "    def __init__(self, model_name='cross-encoder/qnli-distilroberta-base', device=\"cpu\"):\n",
    "        self.device = device if torch.cuda.is_available() else \"cpu\"\n",
    "        self.conf_model = CrossEncoder('cross-encoder/qnli-distilroberta-base',device=0)\n",
    "        self.util = util()\n",
    "        if self.device != \"cpu\":\n",
    "          spacy.require_gpu()\n",
    "\n",
    "    def reduce_small(self, text, query, num_sents=5):\n",
    "        sentences = [sent.text for sent in self.util.nlp(text).sents]\n",
    "        new_texts = []\n",
    "        for sent in sentences:\n",
    "            new_text = [s for s in sentences]\n",
    "            new_text.remove(sent)\n",
    "            new_texts.append(new_text)\n",
    "        new_texts = [\" \".join(new_text) for new_text in new_texts]\n",
    "        cos_scores = self.conf_model.predict([(query, new_text) for new_text in new_texts])\n",
    "        sorted = torch.topk(torch.tensor(cos_scores), k=len(new_texts))\n",
    "        top_indices = sorted[1]\n",
    "       \n",
    "        conf = sorted[0][0]\n",
    "        top_texts = [new_texts[i] for i in top_indices]\n",
    "      \n",
    "        top_text = top_texts[0]\n",
    "        top_sentences = [sent.text for sent in self.util.nlp(top_text).sents]\n",
    "        if len(top_sentences)<=num_sents:\n",
    "            return top_text, conf\n",
    "        else:\n",
    "            return self.reduce_small(top_text, query, num_sents)\n",
    "\n",
    "    def reduce_large(self, big_text, query, num_sents=5):\n",
    "        big_sentences = [sent.text for sent in self.util.nlp(big_text).sents]\n",
    "        parts = []\n",
    "        conf = 0\n",
    "        for part in self.util.batch(big_sentences, 10):\n",
    "            out, conf = self.reduce_small(' '.join(part), query, num_sents)\n",
    "            parts.append(out)\n",
    "        new = ' '.join(parts)\n",
    "        if len([sent.text for sent in self.util.nlp(new).sents])<=num_sents:\n",
    "            return new, conf\n",
    "        elif len(parts)==1:\n",
    "            return self.reduce_small(new, query, num_sents)\n",
    "        else:\n",
    "            return self.reduce_large(new, query, num_sents)\n",
    "\n",
    "    def reduce(self, huge_text, query, num_sents=5):\n",
    "        huge_sentences = [x+\".\" for x in huge_text.split(\". \")]\n",
    "        parts = []\n",
    "        for part in self.util.batch(huge_sentences, 4):\n",
    "            parts.append(\" \".join(part))\n",
    "        cos_scores = self.conf_model.predict([(query, part) for part in parts])\n",
    "        top_indices = torch.topk(torch.tensor(cos_scores), k=len(parts))[1]\n",
    "        top_texts = [parts[i] for i in top_indices][:3]\n",
    "        chronological = []\n",
    "        for part in parts:\n",
    "            if part in top_texts:\n",
    "                chronological.append(part)\n",
    "        reduction, conf = self.reduce_large(\" \".join(chronological), query, num_sents)\n",
    "        return reduction, conf"
   ]
  },
  {
   "cell_type": "code",
   "execution_count": 11,
   "id": "9bb64222-cf92-4411-bb2a-6b5e6dcc9294",
   "metadata": {},
   "outputs": [],
   "source": [
    "def remove_special_characters(text):\n",
    "    characters_to_remove = ['*', '\\n', '===', '==', '=', '#', '$']\n",
    "    for char in characters_to_remove:\n",
    "        text = text.replace(char, '')\n",
    "    return text"
   ]
  },
  {
   "cell_type": "code",
   "execution_count": 12,
   "id": "51aeb439-e327-4566-82fe-ce6c598e8a34",
   "metadata": {},
   "outputs": [],
   "source": [
    "def remove_xa0_tags(text):\n",
    "    soup = BeautifulSoup(text, 'html.parser')\n",
    "    for tag in soup.find_all('p'):\n",
    "        if tag.string == '\\xa0':\n",
    "            tag.decompose()  # Menghapus tag dari teks\n",
    "    return str(soup)"
   ]
  },
  {
   "cell_type": "code",
   "execution_count": 13,
   "id": "90ed67ba-eaeb-4e9c-8e73-8fcb1ca531ea",
   "metadata": {},
   "outputs": [],
   "source": [
    "def remove_h2_with_text(text, target_text):\n",
    "    soup = BeautifulSoup(text, 'html.parser')\n",
    "    for tag in soup.find_all('h2'):\n",
    "        if target_text in tag.get_text():\n",
    "            tag.decompose()  # Menghapus tag dari teks\n",
    "    return str(soup)"
   ]
  },
  {
   "cell_type": "code",
   "execution_count": 14,
   "id": "4bc31848-f71d-4631-acf1-cfd3f8b756a2",
   "metadata": {},
   "outputs": [],
   "source": [
    "# import the sentence transformers\n",
    "from sentence_transformers import SentenceTransformer\n",
    "model = SentenceTransformer('multi-qa-MiniLM-L6-cos-v1')"
   ]
  },
  {
   "cell_type": "code",
   "execution_count": 15,
   "id": "daa511b5-55dd-449e-8018-609b636e0416",
   "metadata": {},
   "outputs": [],
   "source": [
    "def render_table_to_image(table_html, output_path):\n",
    "    options = {\n",
    "        'format': 'png',\n",
    "        'encoding': 'utf-8',\n",
    "    }\n",
    "\n",
    "    imgkit.from_string(table_html, output_path, options=options)"
   ]
  },
  {
   "cell_type": "code",
   "execution_count": 16,
   "id": "5966c94b-eca9-4070-ac88-fb33a4fa50be",
   "metadata": {},
   "outputs": [],
   "source": [
    "new_data_test = []\n",
    "data_test =[\n",
    "    {\n",
    "        \"topic_document\": \"Digital Insight\",\n",
    "        \"title_content\": \"<h1><a href=\\\"#h-07042022-analisis-target-akuisisi-dan-aktivasi-merchant-qris\\\"></a> [07042022] Analisis Target Akuisisi dan Aktivasi Merchant QRIS</h1>\",\n",
    "        \"text_content\": \"<p> </p>\\n<figure>\\n<table>\\n<tbody>\\n<tr>\\n<th>Direktorat</th>\\n<td> Digital Insight</td>\\n</tr>\\n<tr>\\n<th>Sub Direktorat</th>\\n<td>MIS 1 </td>\\n</tr>\\n<tr>\\n<th>Analysis Date</th>\\n<td>7 April 2022</td>\\n</tr>\\n<tr>\\n<th>Analysis status</th>\\n<td> FINISHED</td>\\n</tr>\\n<tr>\\n<th>Document status </th>\\n<td> FINISHED</td>\\n</tr>\\n<tr>\\n<th>PIC  Analyst</th>\\n<td> Ghifari Daulagiri</td>\\n</tr>\\n<tr>\\n<th>Stakeholders</th>\\n<td>DIgital Banking</td>\\n</tr>\\n<tr>\\n<th>Reference Document</th>\\n<td> </td>\\n</tr>\\n</tbody>\\n</table>\\n</figure>\\n<p> </p>\\n<p> </p>\\n<p> </p>\\n<p> </p>\\n<p> </p>\\n<p> </p>\\n<p> </p>\\n<p> </p>\\n<h2><a href=\\\"#version-history\\\"></a> Version History</h2>\\n<figure>\\n<table>\\n<tbody>\\n<tr>\\n<td><i><strong>Version</strong></i></td>\\n<td><i><strong>Date</strong></i></td>\\n<td><i><strong>Description</strong></i></td>\\n</tr>\\n<tr>\\n<td> 1.0</td>\\n<td>2022-04-07 </td>\\n<td>initial document</td>\\n</tr>\\n<tr>\\n<td> </td>\\n<td> </td>\\n<td> </td>\\n</tr>\\n<tr>\\n<td> </td>\\n<td> </td>\\n<td> </td>\\n</tr>\\n</tbody>\\n</table>\\n</figure>\\n<p> </p>\\n<p> </p>\\n<p> </p>\\n<p> </p>\\n<h1><a href=\\\"#h-07042022-analisis-target-akuisisi-dan-aktivasi-merchant-qris\\\"></a> [07042022] Analisis Target Akuisisi dan Aktivasi Merchant QRIS</h1>\\n<h2><a href=\\\"#latar-belakang-dan-tujuan\\\"></a> Latar Belakang dan Tujuan</h2>\\n<p>Analisis ini dibuat sebagai dasar pembuatan dan desain kontrol untuk strategi akuisisi dan aktivasi merchant QRIS.</p>\\n<p>Target full year 2022 adalah akuisisi 100.000 merchant QRIS, dan 1 Trilyun CASA. Dimana transaksi QRIS adalah salah satu channel untuk mencapai target CASA. Oleh karena itu perlu dilakukan analisis untuk menyusun strategi akuisisi dan aktivasi merchant QRIS, menurunkan teknis pelaksanaan di lapangan, dan desain &amp; mekanisme kontrol pelaksanaannya.</p>\\n<h2><a href=\\\"#temuan-utama\\\"></a> Temuan Utama</h2>\\n<h3><a href=\\\"#simulasi-target\\\"></a> Simulasi Target</h3>\\n<p>Berangkat dari target 100 ribu customer dan asumsi 1T target CASA bisa didapatkan <strong>seluruhnya</strong> dari transaksi QRIS. Skema simulasi menggunakan skema Referral yang sudah terdefinisi di dokumen ‘Target 1 Juta Nasabah’.</p>\\n<h3><a href=\\\"#simulasi-kondisi-ideal\\\"></a> Simulasi kondisi ideal</h3>\\n<p>Dalam simulasi ini, metric yang harus dijaga untuk dapat mencapai tujuan adalah:</p>\\n<p>Metric akuisisi merchant:</p>\\n<ol>\\n<li>Rasio Merchant Aktif: 20%</li>\\n<li>Merchant MGM % Merchant Aktif: 30%</li>\\n<li>Rata-rata Akuisisi per Merchant MGM: 5 merchant</li>\\n</ol>\\n<p>Metric aktivasi merchant:</p>\\n<ol>\\n<li>Banyaknya Transaksi per Merchant: 150 transaksi</li>\\n<li>Rata-rata Nilai Transaksi: IDR 100.000</li>\\n</ol>\\n<figure><img src=\\\"/aktivasimerchantqris/untitled.png\\\"/></figure>\\n<p>Hasil simulasi menunjukkan performa hingga 130% untuk akuisisi merchant dan 120% untuk transaksi.</p>\\n<h3><a href=\\\"#simulasi-kondisi-gradual\\\"></a> Simulasi kondisi gradual</h3>\\n<p>Dalam simulasi ini, terdapat asumsi dimana peningkatan secara gradual jumlah merchant MGM yaitu dari 5% di April, meningkat hingga 30% di September. Asumsi metric yang lain adalah sama.</p>\\n<figure><img src=\\\"/aktivasimerchantqris/untitled_1.png\\\"/></figure>\\n<p>Hasil simulai menunjukkan performa hanya 77% dan 73% untuk akuisisi dan transaksi, dimana keduanya masih jauh dari target.</p>\\n<h3><a href=\\\"#simulai-kondisi-realistis\\\"></a> Simulai kondisi realistis</h3>\\n<p>Dalam simulasi ini, ditambahkan asumsi pertumbuhan merchant aktif secara gradual mulai dari 13% (data per Maret) hingga 25% di bulan Juli.</p>\\n<figure><img src=\\\"/aktivasimerchantqris/untitled_2.png\\\"/></figure>\\n<p>Hasil simulasi menunjukkan performa di 100% dan 98% untuk akuisisi dan transaksi.</p>\\n<h3><a href=\\\"#kondisi-aktual-posisi-maret-2022\\\"></a> Kondisi Aktual (Posisi Maret 2022)</h3>\\n<p>Secara holistik, Rasio Merchant Aktif adalah 12.8%, Banyaknya Transaksi per Merchant adalah 30, dan Rata-rata Nilai Transaksi adalah IDR 90.886, dimana ketiganya perlu diperbaiki untuk memenuhi kriteria simulasi.</p>\\n<p>Mengenai kondisi metric cabang:</p>\\n<p>Rasio Merchant Aktif:</p>\\n<figure><img src=\\\"/aktivasimerchantqris/untitled_3.png\\\"/></figure>\\n<p>Transaksi per Merchant</p>\\n<figure><img src=\\\"/aktivasimerchantqris/untitled_4.png\\\"/></figure>\\n<p>Rata-rata Nilai Transaksi:</p>\\n<figure><img src=\\\"/aktivasimerchantqris/untitled_5.png\\\"/></figure>\\n<p>Metric yang paling utama untuk diperbaiki adalah metric aktivasi, yaitu Rasio Merchant Aktif dan Transaksi per Merchant.</p>\\n<p> </p>\\n<h2><a href=\\\"#rekomendasi\\\"></a> Rekomendasi</h2>\\n<p>Kunci keberhasilan simulasi adalah peran Merchant yang aktif sebagai perpanjangan tangan Cabang; baik untuk mengakuisisi merchant lain, dan mempromosikan penggunaan QRIS BAG. Untuk itu perlu dipastikan hubungan baik Cabang dan Merchant sehingga terjalin kerjasama yang berdampak positif terhadap bisnis Merchant dan Bank.</p>\\n<p>Untuk menunjang kunci keberhasilan tersebut, perlu adanya tracking dan definisi target untuk metric tertentu kepada cabang, baik itu dalam aspek akuisisi maupun aktivasi.</p>\\n<p>Perlu adanya gamifikasi sebagai sarana berkompetisi antar cabang, dan perlu diadakan reward bagi cabang yang membuktikan prestasinya.</p>\\n<p>Oleh karena itu, direkomendasikan model pemantauan metric berupa kuadran capaian dengan poros-poros:</p>\\n<ol>\\n<li>Metric Akuisisi: Total Merchant, dimana pencapaian cabang dibagi berpusat pada median akuisisi cabang.</li>\\n<li>Metric Aktivasi: Raiso Merchant aktif, dimana pencapaian cabang dibagi berpusat pada target user aktif (20%)</li>\\n</ol>\\n<figure><img src=\\\"/aktivasimerchantqris/untitled_6.png\\\"/></figure>\\n<p>Target user aktif harus rutin dikaji berdasarkan realisasi capaian cabang dan kebutuhan pemenuhan target tahun 2022</p>\\n<p>Perlu adanya arahan rutin ke cabang sebagai sarana cabang untuk mengidentifikasi merchant yang perlu distimulasi untuk kembali aktif dan/atau diberikan apresiasi karena telah menjadi merchant yang loyal kepada BAG.</p>\\n\",\n",
    "        \"tanggal_content\": \"2022-12-28T02:53:36.352Z\",\n",
    "        \"author_content\": \"Rahmi\",\n",
    "        \"direktorat_content\": \"Digital Insight\",\n",
    "        \"PIC_Analyst\": \"Ghifari Daulagiri\",\n",
    "        \"link_content\": \"http://10.0.232.117:3000/en/Insight/Data_Insight/AnalisisTargetAkuisisidanAktivasiMerchantQRIS\"\n",
    "    },\n",
    "    {\n",
    "        \"topic_document\": \"Digital Insight\",\n",
    "        \"title_content\": \"<h1><a href=\\\"#h-08042022-database-promo-ideation\\\"></a> [08042022] Database Promo Ideation</h1>\",\n",
    "        \"text_content\": \"<p> </p>\\n<figure>\\n<table>\\n<tbody>\\n<tr>\\n<th>Direktorat</th>\\n<td> Digital Insight</td>\\n</tr>\\n<tr>\\n<th>Sub Direktorat</th>\\n<td>MIS 1 </td>\\n</tr>\\n<tr>\\n<th>Analysis Date</th>\\n<td>8 April 2022</td>\\n</tr>\\n<tr>\\n<th>Analysis status</th>\\n<td> FINISHED</td>\\n</tr>\\n<tr>\\n<th>Document status </th>\\n<td> FINISHED</td>\\n</tr>\\n<tr>\\n<th>PIC  Analyst</th>\\n<td> Ghifari Daulagiri</td>\\n</tr>\\n<tr>\\n<th>Stakeholders</th>\\n<td>DIgital Banking</td>\\n</tr>\\n<tr>\\n<th>Reference Document</th>\\n<td> </td>\\n</tr>\\n</tbody>\\n</table>\\n</figure>\\n<p> </p>\\n<p> </p>\\n<p> </p>\\n<p> </p>\\n<p> </p>\\n<p> </p>\\n<p> </p>\\n<p> </p>\\n<h2><a href=\\\"#version-history\\\"></a> Version History</h2>\\n<figure>\\n<table>\\n<tbody>\\n<tr>\\n<td><i><strong>Version</strong></i></td>\\n<td><i><strong>Date</strong></i></td>\\n<td><i><strong>Description</strong></i></td>\\n</tr>\\n<tr>\\n<td> 1.0</td>\\n<td>2022-04-07 </td>\\n<td>initial document</td>\\n</tr>\\n<tr>\\n<td> </td>\\n<td> </td>\\n<td> </td>\\n</tr>\\n<tr>\\n<td> </td>\\n<td> </td>\\n<td> </td>\\n</tr>\\n</tbody>\\n</table>\\n</figure>\\n<p> </p>\\n<p> </p>\\n<p> </p>\\n<p> </p>\\n<h1><a href=\\\"#h-08042022-database-promo-ideation\\\"></a> [08042022] Database Promo Ideation</h1>\\n<p>Berdasarkan <a href=\\\"http://10.0.231.117:3000/en/Insight/AnalisisTargetAkuisisidanAktivasiMerchantQRIS\\\">[07042022] Analisis Target Akuisisi dan Aktivasi Merchant QRIS</a> , rekomendasi promo yang ditargetkan adalah</p>\\n<ol>\\n<li>Metric Akuisisi: Total Merchant, dimana pencapaian cabang dibagi berpusat pada median akuisisi cabang.</li>\\n<li>Metric Aktivasi: Raiso Merchant aktif, dimana pencapaian cabang dibagi berpusat pada target user aktif (20%)</li>\\n</ol>\\n<p>Dengan skema pemberian promo berdasarkan mapping kuadran ini</p>\\n<figure><img src=\\\"/database_promo.png\\\"/></figure>\\n<p> </p>\\n<figure>\\n<table>\\n<thead>\\n<tr>\\n<th>No</th>\\n<th>Promo</th>\\n<th>Bentuk Promo</th>\\n<th>Mekanisme Promo</th>\\n<th>Achievement</th>\\n</tr>\\n</thead>\\n<tbody>\\n<tr>\\n<td>0</td>\\n<td>promo apa yang diusulkan?</td>\\n<td>bentuknya diskon, cashback, atau apa?</td>\\n<td>bagiamana skema promo-nya?</td>\\n<td>apa yang mission yang diachieve untuk kita</td>\\n</tr>\\n<tr>\\n<td>1</td>\\n<td>Merchant discount</td>\\n<td>Discount or cashback</td>\\n<td>User mendapatkan sejumlah X% discount max A jika belanja di merchant tertentu (yang sudah ditentukan merchantnya) dengan AGI mobile/agicash</td>\\n<td>Meningkatkan activation dan retention user; target Activation Zone dan Hall of Fame</td>\\n</tr>\\n<tr>\\n<td>2</td>\\n<td>Mission Referral</td>\\n<td>Cashback &amp; Gamification</td>\\n<td>Referrer akan mendapatkan cashback sejumlah X jika TELAH mencapai misi refer P orang untuk memuat akun agi mobile/agicash</td>\\n<td>Meningkatkan acquisition; Dengan gamification user akan distimulasi untuk melakukan misi mencapai target cashback; target Acquisition Zone</td>\\n</tr>\\n<tr>\\n<td>3</td>\\n<td>Mission Referral Transaction</td>\\n<td>Cashback &amp; Gamification</td>\\n<td>Referrer dan Referee mendapatkan cashback sejumlah X jika Referee telah membuat transaksi pertama</td>\\n<td>Meningkatkan acquisition dan activation; Dengan gamification user akan distimulasi untuk melakukan misi mencapai target cashback; target Acquisition Zone dan Activation Zone</td>\\n</tr>\\n<tr>\\n<td>4</td>\\n<td>Mission Transaction</td>\\n<td>Cashback &amp; Gamification</td>\\n<td>User mendapatkan cashback sejumlah X jika telah mencapai misi membuat transaksi sebanyak N kali</td>\\n<td>Meningkatkan activation; Dengan gamification user akan distimulasi untuk melakukan misi mencapai target cashback; target Activation Zone</td>\\n</tr>\\n<tr>\\n<td>5</td>\\n<td>Mission Create AGI Account</td>\\n<td>Cashback &amp; Gamification</td>\\n<td>User mendapatkan cashback sejumlah X jika mendaftarkan akun menjadi nasabah AGI</td>\\n<td>Meningkatkan activation AGI acccount (Tabungan Icon bukan ya???)</td>\\n</tr>\\n<tr>\\n<td>6</td>\\n<td>Discount admin fee connect to emoney</td>\\n<td>Discount</td>\\n<td>User mendapatkan discount admin fee untuk topup emoney; misalnya GOPAY, OVO (*lumayan 1000)</td>\\n<td>Meningkatkan activation dan retention user; target Activation Zone dan Hall of Fame</td>\\n</tr>\\n<tr>\\n<td>7</td>\\n<td>Voucher redeem</td>\\n<td>Cashback</td>\\n<td>AGI menyediakan sejulah voucher untuk di redeem, user bisa kapan saja redeem; voucher juga memiliki waktu expired</td>\\n<td>Meningkatkan activation dan retention user; target Activation Zone dan Hall of Fame</td>\\n</tr>\\n<tr>\\n<td>8</td>\\n<td>Donasi</td>\\n<td>-</td>\\n<td>Menambahkan fitur donasi ketika melakukan pembayaran</td>\\n<td>Meningkatkan value “for others”</td>\\n</tr>\\n<tr>\\n<td>9</td>\\n<td>Program mendapatkan ide dari internal, sebulan sekali atau 2 bulan sekali</td>\\n<td>Voucher atau cashback di Agi mobile</td>\\n<td>Membuat program untuk intenal AGI (ditentukan siapa); siapa pun yang punya ide untuk meningkatkan acquisition atau activation atau program yang bsa membantu mencapai target, maka akan mendaatkan voucher yang bisa di redeem</td>\\n<td>Meningkatkan bounding di internal AGI dan gotong royong mencapat target; sekaligus mengajak karyawan menggunakan agi mobile dan bertransaksi dengan agi mobile</td>\\n</tr>\\n<tr>\\n<td>10</td>\\n<td>Hackethon Bug Bountie atau Deasign</td>\\n<td>Voucher atau cashback di Agi mobile</td>\\n<td>Membuat program bug bountie atau design aplikasi untuk internal karyawan</td>\\n<td>Meningkatkan bounding di internal AGI dan gotong royong mencapat target AGI; sekaligus mengajak karyawan menggunakan agi mobile dan bertransaksi dengan agi mobile</td>\\n</tr>\\n<tr>\\n<td>11</td>\\n<td>Posting terkait AGI mobile dan undian pemenang</td>\\n<td>Voucher atau cashback di Agi mobile</td>\\n<td>Membuat program posting sesuatu yang kreatif atau yang sudah ditentukan (misal ada event tertentu); lalu post di instagram</td>\\n<td>Meningkatkan bounding di internal AGI dan gotong royong mencapat target AGI; sekaligus mengajak karyawan menggunakan agi mobile dan bertransaksi dengan agi mobile</td>\\n</tr>\\n</tbody>\\n</table>\\n</figure>\\n<p> </p>\\n\",\n",
    "        \"tanggal_content\": \"2022-12-28T08:26:29.398Z\",\n",
    "        \"author_content\": \"Rahmi\",\n",
    "        \"direktorat_content\": \"Digital Insight\",\n",
    "        \"PIC_Analyst\": \"Ghifari Daulagiri\",\n",
    "        \"link_content\": \"http://10.0.232.117:3000/en/Insight/Data_Insight/DatabasePromoIdeation\"\n",
    "    },\n",
    "    {\n",
    "        \"topic_document\": \"Digital Insight\",\n",
    "        \"title_content\": \"<h1><a href=\\\"#h-10032022-analisis-transaksi-untuk-targeted-marketing\\\"></a> [10032022] Analisis Transaksi Untuk Targeted Marketing</h1>\",\n",
    "        \"text_content\": \"<h1><a href=\\\"#h-10032022-analisis-transaksi-untuk-targeted-marketing\\\"></a> [10032022] Analisis Transaksi Untuk Targeted Marketing</h1>\\n<h2><a href=\\\"#latar-belakang-dan-tujuan\\\"></a> Latar Belakang dan Tujuan</h2>\\n<p>Saat ini manajemen <i>Lead Base</i> kita belum optimal untuk membuat sebuah keputusan bisnis sehingga Ketika melakukan aktivitas sales ke nasabah/calon nasabah, eksekusi di lapangan masih sporadis dan tidak terfokuskan ke target pasar yang dituju</p>\\n<p>Analisis ini dibuat untuk memberikan insight dalam penentuan fokus dan opsi aktivitas pre-sales dan sales ke nasabah/calon nasabah.</p>\\n<h2><a href=\\\"#temuan-utama\\\"></a> Temuan Utama</h2>\\n<p>Data yang digunakan adalah data nasabah snapshot per Maret 2022, data finansial sepanjang Februari 2022, data transaksi sepanjang bulan Januari 2022.</p>\\n<h2><a href=\\\"#distribusi-usia-nasabah-dan-perilaku-bertransaksi\\\"></a> Distribusi Usia Nasabah dan Perilaku Bertransaksi</h2>\\n<figure><img src=\\\"/transaksiuntuktargetedmarketing/untitled.png\\\"/></figure>\\n<p>Distribusi nasabah terkonsentrasi di usia produktif 25-40 tahun. Ini sejalan dengan kondisi dimana rekening artha graha banyak terdiri dari rekening payroll.</p>\\n<p>Dana tersebut juga merupakan dana aktif, dalam artian perputaran dana masuk dan keluar (e.g. transaksi, transfer, pembayaran) terjadi dan lancar.</p>\\n<p>Statemen tersebut juga dapat divalidasi dengan konsentrasi dana simpanan, dimana konsentrasi AUM justru tersebar di distribusi usia yang lebih tua.</p>\\n<figure><img src=\\\"/transaksiuntuktargetedmarketing/untitled_1.png\\\"/></figure>\\n<p>Artinya analisis lebih lanjut harus dilakukan di segmen usia 25-40 tahun apabila tujuan analisis adalah menemukan pola transaksi dan mendorong perilaku bertransaksi menggunakan solusi pembayaran AGI Mobile.</p>\\n<h2><a href=\\\"#korelasi-usia-jenis-pekerjaan-dan-transaksi\\\"></a> Korelasi Usia, Jenis Pekerjaan, dan Transaksi</h2>\\n<figure><img src=\\\"/transaksiuntuktargetedmarketing/untitled_2.png\\\"/></figure>\\n<p>Diatas adalah visualisasi 10 jenis pekerjaan dengan nasabah terbanyak.</p>\\n<blockquote>\\n<p>💡 Terlihat bahwa konsentrasi nasabah ada di Administrasi Umum, Buruh, Pengamanan, Pegawai Swasta, dan Hospitality.</p>\\n</blockquote>\\n<figure><img src=\\\"/transaksiuntuktargetedmarketing/untitled_3.png\\\"/></figure>\\n<p>Selanjutnya kita akan kembali menguatkan fokus ke segmen tersebut. </p>\\n<blockquote>\\n<p>💡 Mayoritas perilaku transaksi adalah Transfer, baik pemindahbukuan atau ke bank lain. Ini adalah hal yang <strong>tidak diinginkan</strong>.</p>\\n</blockquote>\\n<p>Apabila mayoritas nasabah hanya melakukan transfer dana keluar BAG, hal yang perlu diketahui lagi adalah segmen nasabah mana saja yang saat ini menggunakan produk BAG untuk melakukan transaksi pembayaran atau top-up.</p>\\n<figure><img src=\\\"/transaksiuntuktargetedmarketing/untitled_4.png\\\"/></figure>\\n<p>Terlihat bahwa nasabah dengan jenis pekerjaan Administrasi Umum, Buruh, Pengamanan, Pegawai Swasta, dan Hospitality termasuk segmen nasabah yang memiliki perilaku bertransaksi pembayaran dan Top-Up e-wallet.</p>\\n<p>Selain 5 segmen diatas, pelajar dan mahasiswa juga memiliki appetite yang tinggi untuk melakukan pembayaran.</p>\\n<figure><img src=\\\"/transaksiuntuktargetedmarketing/untitled_5.png\\\"/></figure>\\n<h2><a href=\\\"#kesimpulan\\\"></a> Kesimpulan</h2>\\n<p>Ada beberapa hal yang perlu digarisbawahi:</p>\\n<ol>\\n<li>Terdapat appetite untuk menggunakan platform BAG dalam melakukan pembayaran</li>\\n<li>Segmen nasabah yang potensial untuk disasar adalah:<ol>\\n<li>Pekerja white-collar dengan income menengah kebawah (&lt;10 juta)</li>\\n<li>Pekerja blue-collar</li>\\n<li>Buruh</li>\\n<li>Pengamanan</li>\\n</ol>\\n</li>\\n<li>Segmen pelajar/mahasiswa dengan usia dibawah produktif (15-25 tahun) memiliki appetite yang tinggi dalam melakukan transaksi pembayaran; walau dana yang masuk ke rekening relatif kecil daripada segmen usia produktif.</li>\\n</ol>\\n<h2><a href=\\\"#rekomendasi\\\"></a> Rekomendasi</h2>\\n<p>Untuk rekomendasi merchant, selain gerai makanan/kuliner, fokus marketing dan akuisisi merchant harus mendukung dan dirasakan menarik oleh segmen nasabah diatas. Contoh:</p>\\n<ol>\\n<li>Warmindo di sekitar lokasi pabrik/kost</li>\\n<li>Bengkel modifikasi sepeda motor</li>\\n<li>Distributor sparepart dan aksesoris sepeda motor</li>\\n<li>Distribusi sembako</li>\\n</ol>\\n<p>Perlu riset dan survey lebih lanjut ke segmen nasabah tersebut untuk mencari tahu lebih jauh mengenai preferensi transaksi mereka.</p>\\n<p>Perlu riset dan survey lebih lanjut terhadap kompetitor: OVO dan LINKAJA. Terutama sub-produk apa dari kompetitor yang dipakai oleh nasabah BAG.</p>\\n<h2><a href=\\\"#action-items\\\"></a> Action Items</h2>\\n<p>[ ] <strong>[PIC: Agnes &amp; Dian]</strong> Penyusunan program acquisition &amp; promo untuk:</p>\\n<ol>\\n<li>Pulsa &amp; paket data, Games —&gt; untuk segment pelajar &amp; mahasiswa —&gt; Mobile Legend, Free Fire, Apex Legend</li>\\n<li>Bengkel Modifikasi &amp; Aksesori Motor —&gt; untuk segment buruh dan pekerja</li>\\n<li>Sembako —&gt; untuk karyawan group dan all existing nasabah</li>\\n<li>Warmindo (warung indomie) —&gt; untuk segment buruh dan pekerja</li>\\n<li>% Agi Mobile User</li>\\n<li>New Customer/Conversion</li>\\n<li>Feebased income</li>\\n<li>Cost/Burn rate</li>\\n</ol>\\n<p>[x] [PIC: Bu Erika] Penyusunan naskah survey untuk riset lebih lanjut tentang use-case mobile banking/payment di segmen tersebut; Target: Senin 14 Maret 2022</p>\\n<p>[ ] [PIC: Bu Erika + Indri] Eksekusi survey untuk existing nasabah atau pengguna didalam group AG</p>\\n<p>Target: 361 data points</p>\\n<p>[ ] [PIC: Agnes] Eksekusi survey untuk target segment diluar group</p>\\n<p>Target: 361 data points</p>\\n\",\n",
    "        \"tanggal_content\": \"2022-11-21T07:47:10.918Z\",\n",
    "        \"author_content\": \"Administrator\",\n",
    "        \"direktorat_content\": \"Tidak ada direktorat\",\n",
    "        \"PIC_Analyst\": \"Tidak ada PIC Analyst\",\n",
    "        \"link_content\": \"http://10.0.232.117:3000/en/Insight/Data_Insight/analisistransaksiuntuktargetedmarketing\"\n",
    "    },\n",
    "    {\n",
    "        \"topic_document\": \"Digital Insight\",\n",
    "        \"title_content\": \"<h1><a href=\\\"#analisis-merchant-qris-demografi\\\"></a> Analisis Merchant QRIS Demografi</h1>\",\n",
    "        \"text_content\": \"<h1><a href=\\\"#analisis-merchant-qris-demografi\\\"></a> Analisis Merchant QRIS Demografi</h1>\\n<p> </p>\\n<figure>\\n<table>\\n<tbody>\\n<tr>\\n<th>Direktorat</th>\\n<td> Digital Insight</td>\\n</tr>\\n<tr>\\n<th>Sub Direktorat</th>\\n<td>MIS 1 </td>\\n</tr>\\n<tr>\\n<th>Analysis Date</th>\\n<td>7 Juli 2022</td>\\n</tr>\\n<tr>\\n<th>Analysis status</th>\\n<td> FINISHED</td>\\n</tr>\\n<tr>\\n<th>Document status </th>\\n<td> FINISHED</td>\\n</tr>\\n<tr>\\n<th>PIC  Analyst</th>\\n<td> Rahmi Julianasari</td>\\n</tr>\\n<tr>\\n<th>Stakeholders</th>\\n<td>DIgital Banking</td>\\n</tr>\\n<tr>\\n<th>Reference Document</th>\\n<td> </td>\\n</tr>\\n</tbody>\\n</table>\\n</figure>\\n<p> </p>\\n<p> </p>\\n<p> </p>\\n<p> </p>\\n<p> </p>\\n<p> </p>\\n<p> </p>\\n<p> </p>\\n<h2><a href=\\\"#version-history\\\"></a> Version History</h2>\\n<figure>\\n<table>\\n<tbody>\\n<tr>\\n<td><i><strong>Version</strong></i></td>\\n<td><i><strong>Date</strong></i></td>\\n<td><i><strong>Description</strong></i></td>\\n</tr>\\n<tr>\\n<td> 1.0</td>\\n<td>2022-04-07 </td>\\n<td>initial document</td>\\n</tr>\\n<tr>\\n<td> </td>\\n<td> </td>\\n<td> </td>\\n</tr>\\n<tr>\\n<td> </td>\\n<td> </td>\\n<td> </td>\\n</tr>\\n</tbody>\\n</table>\\n</figure>\\n<p> </p>\\n<p> </p>\\n<p> </p>\\n<p>Source:</p>\\n<p><a href=\\\"/data insight/merchant_bahan_meeting_202304_(1).xlsx\\\">/data insight/merchant_bahan_meeting_202304_(1).xlsx</a></p>\\n<h3><a href=\\\"#grouping-category-cleansing\\\"></a> Grouping Category (Cleansing)</h3>\\n<pre v-pre=\\\"true\\\"><code>                  , CASE\\n                        WHEN REGEXP_LIKE(MQ.MERCHANT_NAME, 'warteg|KUE|ayam|bakso|warteg|soto|makan|burger|kfc|food|sapi|bebek|mcd|nasi|cafe|sate|rawon|gudeg|pempek|rendang|gado|martabak|udang|mie|ikan|jamur|otak|goreng|bubur|rujak|pecel|laksa|kerupuk|lapis|puding|gulai|pepes|perkedel|sayur|sop|lontong|karedok|ketupat|tahu|gorengan|serabi|kolak|lemang|batagor|telor|semur|coffee|kopi|angkringan|dimsum|kedai|butter|catering|shihlin|solaria|fresh|xi bo ba|jco|es|janji jiwa|steak|starbucks|bakmie|shigeru|kintan|gelato|minang|crepes|onigiri|geprek|teh|kokumi|warteq|sushi|mkn|shushu|buah|kkuldak|chicken|corndog|dapur|bakery|buah|truffle|kemchicks|kantin|nyapii|kebab|makaroni|tongseng|susu|ikkudo|coffe|bakmi|koi|crepes|wingstop|ngopi|chatime|reddog|pagi sore|tea|corner|rice|koppi|warkop|ramen|eat|waroeng|masakan|wearung|jus|delico|stroberi|shabu|pig|kwetiau|kitchen|baso|lumpia|warunk|takoyaki|pizza|drinks|dessert|rotbak|auntie anne|babi|gokana|crispy|montato|yoshinoya|boba|cendol|dapoer|bbq|menantea|A&amp;W|bobain|sushi|bak|roti|chashio|uncle k|alpukat|dum|cilok|banana|wendy|kokoho|magal|kantin|juice|gokana|warunk|cream|hakata|steamboat|wing|puyo|wasabi|waroeng|potato|nasgorgil|nasgor|snack|ikkudo|saoenk|doner|broadway|jfc|imperial|kitamura|subway|breadtalk|kangtebu|shabu|talas|soerabi|eatlah|sandwich|xing fu tang|crispy|the harvest|warkop|zenbu|toast|roti|aroma|bkso|foodhall|warsun|pappajack\\n|rm') THEN 'FOOD &amp; BEVERAGE'\\n                        WHEN REGEXP_LIKE(MQ.MERCHANT_NAME,\\n                                         'warung|mart|circle k|alfamart|alfamidi|market|kios|miniso|lawson|daiso|indomaret')\\n                            THEN 'VARIETY_STORE'\\n                        WHEN REGEXP_LIKE(MQ.MERCHANT_NAME,\\n                                         'pay|tokko|bayar|tokopedia|indodax|blibli|itemku|guardian')\\n                            THEN 'E-COMMERCE'\\n                        WHEN MQC.DESCRIPTION = 'Regular' THEN 'REGULAR'\\n                        WHEN MQC.DESCRIPTION = 'FAST FOOD RESTAURANTS' THEN 'FOOD &amp; BEVERAGES'\\n                        WHEN MQC.DESCRIPTION = 'MISCELLANEOUS FOOD SHOPS-CONVENIENCE AND SPECIALITY RETAIL OUTLETS'\\n                            THEN 'RETAIL OUTLETS'\\n                        WHEN MQC.DESCRIPTION = 'SERVICE STATION' THEN 'BUILDING, ELECTRONICS, AUTOMOTIVE SERVICES'\\n                        WHEN MQC.DESCRIPTION = 'GROCERIES AND SUPERMARKETS' THEN 'GROCERIES AND SUPERMARKETS'\\n                        WHEN MQC.DESCRIPTION = 'OTHERS-NOT ELSEWHERE CLASSIFIED' THEN 'OTHERS-NOT ELSEWHERE CLASSIFIED'\\n                        WHEN MQC.DESCRIPTION = 'MISCELLANEOUS AND SPECIALITY RETAIL OUTLETS' THEN 'RETAIL OUTLETS'\\n                        WHEN MQC.DESCRIPTION = 'FAMILY CLOTHING SHOPS' THEN 'CLOTHING FASHION'\\n                        WHEN MQC.DESCRIPTION = 'ACCOUNTING, AUDITING AND BOOKKEEPING SERVICES' THEN 'OTHER SERVICES'\\n                        WHEN MQC.DESCRIPTION = 'BEAUTY AND BARBER SHOPS' THEN 'BEAUTY AND BARBER SHOPS'\\n                        WHEN MQC.DESCRIPTION = 'VARIETY STORES' THEN 'VARIETY STORES'\\n                        WHEN MQC.DESCRIPTION = 'MEN’S AND WOMEN’S CLOTHING SHOPS' THEN 'CLOTHING FASHION'\\n                        WHEN MQC.DESCRIPTION = 'WOMEN’S ACCESSORY AND SPECIALITY SHOPS' THEN 'BEAUTY SHOP'\\n                        WHEN MQC.DESCRIPTION = 'BAKERIES' THEN 'FOOD &amp; BEVERAGES'\\n                        WHEN MQC.DESCRIPTION = 'ELECTRONICS SHOPS' THEN 'HOME SUPPLIES'\\n                        WHEN MQC.DESCRIPTION = 'CLOTHING RENTALS - COSTUMES, UNIFORMS AND FORMAL WEAR'\\n                            THEN 'CLOTHING FASHION'\\n                        WHEN MQC.DESCRIPTION = 'AIRLINES AND AIR CARRIERS' THEN 'OTHER SERVICES'\\n                        WHEN MQC.DESCRIPTION = 'WOMEN’S READY-TO-WEAR SHOPS' THEN 'CLOTHING FASHION'\\n                        WHEN MQC.DESCRIPTION =\\n                             'DRINKING PLACES (ALCOHOLIC BEVERAGES) - BARS, TAVERNS, NIGHT-CLUBS, COCKTAIL LOUNGES AND DISCOTHÈQUES'\\n                            THEN 'FOOD &amp; BEVERAGES'\\n                        WHEN MQC.DESCRIPTION = 'TELECOMMUNICATION EQUIPMENT AND TELEPHONE SALES' THEN 'TELCO &amp; PEYMENT'\\n                        WHEN MQC.DESCRIPTION = 'FOOD &amp; BEVERAGE' THEN 'FOOD &amp; BEVERAGE'\\n                        WHEN MQC.DESCRIPTION = 'COSMETIC SHOPS' THEN 'BEAUTY SHOP'\\n                        WHEN MQC.DESCRIPTION = 'TRANSPORTATION SERVICES (NOT ELSEWHERE CLASSIFIED)'\\n                            THEN 'BUILDING, ELECTRONICS, AUTOMOTIVE SERVICES'\\n                        WHEN MQC.DESCRIPTION = 'GOVERNMENT SERVICES (NOT ELSEWHERE CLASSIFIED)' THEN 'OTHER SERVICES'\\n                        WHEN MQC.DESCRIPTION = 'GOVERMENTS SERVICES (NOT ELSEWHERE CLASSIFIED)' THEN 'OTHER SERVICES'\\n                        WHEN MQC.DESCRIPTION = 'Government Service' THEN 'OTHER SERVICES'\\n                        WHEN MQC.DESCRIPTION = 'TAILORS, SEAMSTRESSES, MENDING AND ALTERATIONS' THEN 'CLOTHING FASHION'\\n                        WHEN MQC.DESCRIPTION = 'AUTOMOTIVE SERVICE SHOPS (NON-DEALER)' THEN 'AUTOMOTIVE'\\n                        WHEN MQC.DESCRIPTION =\\n                             'FURNITURE, HOME FURNISHINGS AND EQUIPMENT SHOPS AND MANUFACTURERS, EXCEPT APPLIANCES'\\n                            THEN 'HOME SUPPLIES'\\n                        WHEN MQC.DESCRIPTION = 'MISCELLANEOUS PERSONAL SERVICES - NOT ELSEWHERE CLASSIFIED'\\n                            THEN 'OTHER SERVICES'\\n                        WHEN MQC.DESCRIPTION = 'AUTOMOTIVE PARTS AND ACCESSORIES OUTLETS' THEN 'AUTOMOTIVE'\\n                        WHEN MQC.DESCRIPTION = 'PUBLIC GOLF COURSES' THEN 'OTHER SERVICES'\\n                        WHEN MQC.DESCRIPTION = 'PET SHOPS, PET FOOD AND SUPPLIES' THEN 'PET SHOP'\\n                        WHEN MQC.DESCRIPTION = 'MEN’S AND BOYS’ CLOTHING AND ACCESSORY SHOPS' THEN 'CLOTHING FASHION'\\n                        WHEN MQC.DESCRIPTION = 'HOME SUPPLY WAREHOUSE OUTLETS' THEN 'HOME SUPPLIES'\\n                        WHEN MQC.DESCRIPTION = 'HOBBY, TOY AND GAME SHOPS' THEN 'HOBBY, TOY AND GAME SHOPS'\\n                        WHEN MQC.DESCRIPTION = 'LAUNDRY SERVICES - FAMILY AND COMMERCIAL' THEN 'LAUNDRY'\\n                        WHEN MQC.DESCRIPTION = 'DAIRIES' THEN 'GROCERIES AND SUPERMARKETS'\\n                        WHEN MQC.DESCRIPTION = 'SHOE SHOPS' THEN 'CLOTHING FASHION'\\n                        WHEN MQC.DESCRIPTION = 'PAYMENT SERVICE PROVIDER' THEN 'TELCO &amp; PEYMENT'\\n                        WHEN MQC.DESCRIPTION = 'FLORISTS' THEN 'HOBBY, TOY AND GAME SHOPS'\\n                        WHEN MQC.DESCRIPTION = 'LAUNDRY, CLEANING AND GARMENT SERVICES' THEN 'LAUNDRY'\\n                        WHEN MQC.DESCRIPTION = 'CANDY, NUT AND CONFECTIONERY SHOPS' THEN 'FOOD &amp; BEVERAGES'\\n                        WHEN MQC.DESCRIPTION = 'MISCELLANEOUS APPAREL AND ACCESSORY SHOPS' THEN 'BEAUTY SHOP'\\n                        WHEN MQC.DESCRIPTION = 'CONSTRUCTION MATERIALS (NOT ELSEWHERE CLASSIFIED)'\\n                            THEN 'BUILDING, ELECTRONICS, AUTOMOTIVE SERVICES'\\n                        WHEN MQC.DESCRIPTION = 'BLUEPRINTING AND PHOTOCOPYING SERVICES' THEN 'OFFICE &amp; SCHOOL SUPPLIES'\\n                        WHEN MQC.DESCRIPTION = 'SCHOOLS AND EDUCATIONAL SERVICES (NOT ELSEWHERE CLASSIFIED)'\\n                            THEN 'OFFICE &amp; SCHOOL SUPPLIES'\\n                        WHEN MQC.DESCRIPTION = 'LODGING - HOTELS, MOTELS AND RESORTS' THEN 'OTHER SERVICES'\\n                        WHEN MQC.DESCRIPTION = 'GIFT, CARD, NOVELTY AND SOUVENIR SHOPS' THEN 'BEAUTY SHOP'\\n                        WHEN MQC.DESCRIPTION = 'HEALTH AND BEAUTY SPAS' THEN 'BEAUTY AND BARBER SHOPS'\\n                        WHEN MQC.DESCRIPTION = 'DRUG STORES AND PHARMACIES' THEN 'HOSPITAL &amp; MEDICAL'\\n                        WHEN MQC.DESCRIPTION = 'INDUSTRIAL SUPPLIES (NOT ELSEWHERE CLASSIFIED)'\\n                            THEN 'BUILDING, ELECTRONICS, AUTOMOTIVE SERVICES'\\n                        WHEN MQC.DESCRIPTION = 'JEWELLERY, WATCH, CLOCK AND SILVERWARE SHOPS' THEN 'CLOTHING FASHION'\\n                        WHEN MQC.DESCRIPTION = 'AQUARIUMS, SEAQUARIUMS AND DOLPHINARIUMS'\\n                            THEN 'HOBBY, TOY AND GAME SHOPS'\\n                        WHEN MQC.DESCRIPTION = 'WHOLESALE CLUBS' THEN 'WHOLESALE CLUBS'\\n                        WHEN MQC.DESCRIPTION = 'AUTOMOTIVE BODY REPAIR SHOPS' THEN 'AUTOMOTIVE'\\n                        WHEN MQC.DESCRIPTION = 'DENTAL/LABORATORY/MEDICAL/OPHTHALMIC HOSPITAL EQUIPMENT AND SUPPLIES'\\n                            THEN 'HOSPITAL &amp; MEDICAL'\\n                        WHEN MQC.DESCRIPTION = 'STATIONERY, OFFICE SUPPLIES AND PRINTING AND WRITING PAPER'\\n                            THEN 'OFFICE &amp; SCHOOL SUPPLIES'\\n                        WHEN MQC.DESCRIPTION =\\n                             'TELECOMMUNICATION SERVICES, INCLUDING LOCAL AND LONG DISTANCE CALLS, CREDIT CARD CALLS, CALLS THROUGH USE OF MAGNETIC STRIPE READING TELEPHONES AND FAXES'\\n                            THEN 'TELECOMMUNICATION EQUIPMENT AND TELEPHONE SALES'\\n                        WHEN MQC.DESCRIPTION = 'OPTICAL GOODS AND EYEGLASSES' THEN 'BEAUTY SHOP'\\n                        WHEN MQC.DESCRIPTION = 'CAR WASHES' THEN 'AUTOMOTIVE'\\n                        WHEN MQC.DESCRIPTION = 'CHILDREN’S AND INFANTS’ WEAR SHOPS' THEN 'CLOTHING FASHION'\\n                        WHEN MQC.DESCRIPTION = 'FLORISTS, SUPPLIES, NURSERY STOCK AND FLOWERS' THEN 'HOME SUPPLIES'\\n                        WHEN MQC.DESCRIPTION = 'REAL ESTATES AGENT, MANAGER &amp; RENTAL'\\n                            THEN 'BUILDING, ELECTRONICS, AUTOMOTIVE SERVICES'\\n                        WHEN MQC.DESCRIPTION = 'CIGAR SHOPS AND STANDS' THEN 'HOBBY, TOY AND GAME SHOPS'\\n                        WHEN MQC.DESCRIPTION = 'UTILITIES-ELECTRIC, GAS, WATER AND SANITARY' THEN 'HOME SUPPLIES'\\n                        WHEN MQC.DESCRIPTION = 'RELIGIOUS ORGANIZATIONS' THEN 'RELIGIOUS ORGANIZATIONS'\\n                        WHEN MQC.DESCRIPTION = 'Religious Organization' THEN 'RELIGIOUS ORGANIZATIONS'\\n                        WHEN MQC.DESCRIPTION = 'MISCELLANEOUS GENERAL MERCHANDISE' THEN 'RETAIL OUTLETS'\\n                        WHEN MQC.DESCRIPTION = 'MOTOR VEHICLE SUPPLIES AND NEW PARTS' THEN 'AUTOMOTIVE'\\n                        WHEN MQC.DESCRIPTION = 'ARTIST SUPPLY AND CRAFT SHOPS' THEN 'BEAUTY SHOP'\\n                        WHEN MQC.DESCRIPTION = 'PARKING LOTS AND GARAGES'\\n                            THEN 'BUILDING, ELECTRONICS, AUTOMOTIVE SERVICES'\\n                        WHEN MQC.DESCRIPTION = 'MEDICAL SERVICES AND HEALTH PRACTITIONERS (NOT ELSEWHERE CLASSIFIED)'\\n                            THEN 'HOSPITAL &amp; MEDICAL'\\n                        WHEN MQC.DESCRIPTION = 'ADVERTISING SERVICES' THEN 'OTHER SERVICES'\\n                        WHEN MQC.DESCRIPTION = 'AIR CONDITIONING AND REFRIGERATION REPAIR SHOPS' THEN 'HOME SUPPLIES'\\n                        WHEN MQC.DESCRIPTION = 'STATIONERY, OFFICE AND SCHOOL SUPPLY SHOPS'\\n                            THEN 'OFFICE &amp; SCHOOL SUPPLIES'\\n                        WHEN MQC.DESCRIPTION = 'HOUSEHOLD APPLIANCE SHOPS' THEN 'HOME SUPPLIES'\\n                        WHEN MQC.DESCRIPTION = 'AIRPORTS, FLYING FIELDS AND AIRPORT TERMINALS' THEN 'OTHER SERVICES'\\n                        WHEN MQC.DESCRIPTION = 'ART DEALERS AND GALLERIES' THEN 'HOBBY, TOY AND GAME SHOPS'\\n                        WHEN MQC.DESCRIPTION = 'MOTORCYCLE SHOPS AND DEALERS' THEN 'AUTOMOTIVE'\\n                        WHEN MQC.DESCRIPTION = 'HARDWARE SHOPS' THEN 'HOME SUPPLIES'\\n                        WHEN MQC.DESCRIPTION = 'MUSIC SHOPS - MUSICAL INSTRUMENTS, PIANOS AND SHEET MUSIC'\\n                            THEN 'HOBBY, TOY AND GAME SHOPS'\\n                        WHEN MQC.DESCRIPTION = 'SPORTING GOODS SHOPS' THEN 'HOBBY, TOY AND GAME SHOPS'\\n                        WHEN MQC.DESCRIPTION = 'MOTOR HOME AND RECREATIONAL VEHICLE RENTALS' THEN 'AUTOMOTIVE'\\n                        WHEN MQC.DESCRIPTION = 'ELECTRONICS REPAIR SHOPS'\\n                            THEN 'BUILDING, ELECTRONICS, AUTOMOTIVE SERVICES'\\n                        WHEN MQC.DESCRIPTION = 'COURIER SERVICES-AIR AND GROUND AND FREIGHT FORWARDERS'\\n                            THEN 'BUILDING, ELECTRONICS, AUTOMOTIVE SERVICES'\\n                        WHEN MQC.DESCRIPTION = 'SERVICE STATIONS (WITH OR WITHOUT ANCILLARY SERVICES)'\\n                            THEN 'BUILDING, ELECTRONICS, AUTOMOTIVE SERVICES'\\n                        ELSE 'OTHERS' END          AS MERCHANT_CATEGORY\\n</code></pre>\\n<p> </p>\\n\",\n",
    "        \"tanggal_content\": \"2023-05-03T07:30:34.501Z\",\n",
    "        \"author_content\": \"Rahmi\",\n",
    "        \"direktorat_content\": \"Digital Insight\",\n",
    "        \"PIC_Analyst\": \"Rahmi Julianasari\",\n",
    "        \"link_content\": \"http://10.0.232.117:3000/en/Insight/Data_Insight/analisis_merchant_category\"\n",
    "    },\n",
    "    {\n",
    "        \"topic_document\": \"Digital Insight\",\n",
    "        \"title_content\": \"<h1><a href=\\\"#agi-new-mobile-apps-ux-research\\\"></a> AGI New Mobile Apps - UX Research</h1>\",\n",
    "        \"text_content\": \"<h1><a href=\\\"#agi-new-mobile-apps-ux-research\\\"></a> AGI New Mobile Apps - UX Research</h1>\\n<p> </p>\\n<figure>\\n<table>\\n<tbody>\\n<tr>\\n<th>Direktorat</th>\\n<td> Digital Insight</td>\\n</tr>\\n<tr>\\n<th>Sub Direktorat</th>\\n<td>MIS</td>\\n</tr>\\n<tr>\\n<th>Analysis Date</th>\\n<td>7 April 2022</td>\\n</tr>\\n<tr>\\n<th>Analysis status</th>\\n<td> FINISHED</td>\\n</tr>\\n<tr>\\n<th>Document status </th>\\n<td> FINISHED</td>\\n</tr>\\n<tr>\\n<th>PIC  Analyst</th>\\n<td> Rahmi Julianasari</td>\\n</tr>\\n<tr>\\n<th>Stakeholders</th>\\n<td>DIgital Banking</td>\\n</tr>\\n<tr>\\n<th>Reference Document</th>\\n<td> </td>\\n</tr>\\n</tbody>\\n</table>\\n</figure>\\n<p> </p>\\n<p> </p>\\n<p> </p>\\n<p> </p>\\n<p> </p>\\n<p> </p>\\n<p> </p>\\n<p> </p>\\n<p><span><strong>Version History</strong></span></p>\\n<figure>\\n<table>\\n<tbody>\\n<tr>\\n<td><i><strong>Version</strong></i></td>\\n<td><i><strong>Date</strong></i></td>\\n<td><i><strong>Description</strong></i></td>\\n</tr>\\n<tr>\\n<td> 1.0</td>\\n<td>2022-04-07 </td>\\n<td>initial document</td>\\n</tr>\\n<tr>\\n<td> </td>\\n<td> </td>\\n<td> </td>\\n</tr>\\n<tr>\\n<td> </td>\\n<td> </td>\\n<td> </td>\\n</tr>\\n</tbody>\\n</table>\\n</figure>\\n<p> </p>\\n<p> </p>\\n<p> </p>\\n<p> </p>\\n<h2><a href=\\\"#usability-test-plan-scenario\\\"></a> Usability Test Plan: Scenario</h2>\\n<p><strong>User Goal</strong></p>\\n<ol>\\n<li>User melakukan registrasi</li>\\n<li>User melakukan login</li>\\n<li>User melakukan transaksi</li>\\n</ol>\\n<p><strong>Scenario</strong></p>\\n<ol>\\n<li>User “baru” melakukan registrasi</li>\\n<li>User “baru” melakukan login</li>\\n<li>User “baru” melakukan transaksi <strong>transfer</strong></li>\\n<li>User “baru” melakukan transaksi <strong>QRIS</strong></li>\\n<li>User “baru” melakukan transaksi “<strong>Pembayaran X</strong>”</li>\\n<li>User “baru” melakukan transaksi “<strong>Pembelian A</strong>”</li>\\n<li>User “baru” melakukan transaksi “<strong>Top Up P</strong>”</li>\\n</ol>\\n<h3><a href=\\\"#research-feedback\\\"></a> Research + feedback</h3>\\n<figure><img src=\\\"/aginewmobile/untitled.png\\\"/></figure>\\n<figure><img src=\\\"/aginewmobile/untitled_1.png\\\"/></figure>\\n<figure><img src=\\\"/aginewmobile/untitled_2.png\\\"/></figure>\\n<figure><img src=\\\"/aginewmobile/untitled_3.png\\\"/></figure>\\n<figure><img src=\\\"/aginewmobile/untitled_4.png\\\"/></figure>\\n<figure><img src=\\\"/aginewmobile/untitled_5.png\\\"/></figure>\\n<figure><img src=\\\"/aginewmobile/untitled_6.png\\\"/></figure>\\n<figure><img src=\\\"/aginewmobile/untitled_7.png\\\"/></figure>\\n<figure><img src=\\\"/aginewmobile/untitled_8.png\\\"/></figure>\\n<figure><img src=\\\"/aginewmobile/untitled_9.png\\\"/></figure>\\n<figure><img src=\\\"/aginewmobile/untitled_10.png\\\"/></figure>\\n<figure><img src=\\\"/aginewmobile/untitled_11.png\\\"/></figure>\\n<p> </p>\\n<p> </p>\\n<h3><a href=\\\"#discovered-problem\\\"></a> Discovered problem</h3>\\n<p><i>“categorize the pain points from Empathize”</i></p>\\n<p>Instruksi belum cukup clear dan penempatan instruksi tidak sesuai</p>\\n<p><strong>Reg 2-4, CA 1-2</strong></p>\\n<p>Beberapa fitur icon masih ada yang membingungkan untuk apa</p>\\n<p><strong>Reg 1, O 1, O 5, O 6, T 1, PP 1,</strong></p>\\n<p>Redundansi menu, tidak efisien</p>\\n<p><strong>O2, T2, PB1, TOP1,</strong></p>\\n<p>Fitur transaksi banyak yang ngumpet</p>\\n<p><strong>O3, O4</strong></p>\\n<p>Ada step yang ga terduga perlu dilakukan</p>\\n<p><strong>PB 1, TOP 1</strong></p>\\n<h3><a href=\\\"#ideation-suggest-for-improvement\\\"></a> Ideation (suggest for improvement)</h3>\\n<p><strong>Instruksi belum cukup clear dan penempatan instruksi tidak sesuai</strong></p>\\n<ol>\\n<li>Memberikan on boarding, dengan 2 case</li>\\n</ol>\\n<ul>\\n<li>Account baru</li>\\n<li>Baru menginstall regardless akun baru atau bukan</li>\\n</ul>\\n<figure><img src=\\\"/aginewmobile/untitled_12.png\\\"/></figure>\\n<p>2. Pada Registrasi foto KTP diberi petunjuk “Ambil foto KTP”</p>\\n<p>3. Pada Registrasi foto KTP diberi petunjuk contoh gambar hasil foto KTP yang benar dan salah</p>\\n<p><i>ini fungsinya biar user ngerti harus kaya gimana kalo foto KTP yang benar</i></p>\\n<p>point 2 dan 3 berlaku untuk take selfie dengan KTP</p>\\n<p><strong>for example:</strong></p>\\n<figure><img src=\\\"/aginewmobile/untitled_13.png\\\"/></figure>\\n<p>Screen take foto KTP diperbaiki box-nya; 1 box KTP aja</p>\\n<figure><img src=\\\"/aginewmobile/untitled_6.png\\\"/></figure>\\n<p><strong>Beberapa fitur icon masih ada yang membingungkan untuk apa</strong></p>\\n<p>belum kepikiran, mungkin onboarding atau dari penempatan di step yang mana</p>\\n<p><strong>Redundansi menu, tidak efisien</strong></p>\\n<p>All Fav menu bisa di ganti dengan fitur transaksi lain saja a.k.a dihilangkan</p>\\n<p>“Transfer from” dan “source of fund” di merge?? Pas pilih “Transfer from” drop down “source of fund”</p>\\n<p>PB 1 dan TOP 1 dibuat 1 page aja; di atas section menu dna di bawah section transaction history</p>\\n<ol>\\n<li>opsi lain transction history di bikin icon sendiri aja di pojok kanan atas</li>\\n</ol>\\n<p><strong>Fitur transaksi banyak yang ngumpet</strong></p>\\n<ol>\\n<li>menampilkan beberapa fitur utama di halaman depan<ol>\\n<li>bisa by favorite, most transaction used (personalised); tapi ini butuh default menu</li>\\n<li>bisa ditentukan oleh kita berdasarkan data</li>\\n</ol>\\n</li>\\n</ol>\\n<p><strong>Ada step yang ga terduga perlu dilakukan</strong></p>\\n\",\n",
    "        \"tanggal_content\": \"2022-12-28T10:30:54.097Z\",\n",
    "        \"author_content\": \"Rahmi\",\n",
    "        \"direktorat_content\": \"Digital Insight\",\n",
    "        \"PIC_Analyst\": \"Rahmi Julianasari\",\n",
    "        \"link_content\": \"http://10.0.232.117:3000/en/Insight/Data_Insight/AGINewMobileAppsUXResearch\"\n",
    "    },\n",
    "    {\n",
    "        \"topic_document\": \"Digital Insight\",\n",
    "        \"title_content\": \"<h1><a href=\\\"#analisis-kuadran-merchant-berdasarkan-transaksi-balance-dan-amount\\\"></a> Analisis Kuadran Merchant berdasarkan Transaksi, Balance, dan Amount</h1>\",\n",
    "        \"text_content\": \"<h1><a href=\\\"#analisis-kuadran-merchant-berdasarkan-transaksi-balance-dan-amount\\\"></a> Analisis Kuadran Merchant berdasarkan Transaksi, Balance, dan Amount</h1>\\n<p> </p>\\n<figure>\\n<table>\\n<tbody>\\n<tr>\\n<th>Direktorat</th>\\n<td> Digital Insight</td>\\n</tr>\\n<tr>\\n<th>Sub Direktorat</th>\\n<td>MIS 1 </td>\\n</tr>\\n<tr>\\n<th>Analysis Date</th>\\n<td>28 Desember 2022</td>\\n</tr>\\n<tr>\\n<th>Analysis status</th>\\n<td> FINISHED</td>\\n</tr>\\n<tr>\\n<th>Document status </th>\\n<td> FINISHED</td>\\n</tr>\\n<tr>\\n<th>PIC  Analyst</th>\\n<td>Rahmi Julianasari</td>\\n</tr>\\n<tr>\\n<th>Stakeholders</th>\\n<td>DIgital Banking</td>\\n</tr>\\n<tr>\\n<th>Reference Document</th>\\n<td> </td>\\n</tr>\\n</tbody>\\n</table>\\n</figure>\\n<p> </p>\\n<p> </p>\\n<p> </p>\\n<p> </p>\\n<p> </p>\\n<p> </p>\\n<p> </p>\\n<p> </p>\\n<h2><a href=\\\"#version-history\\\"></a> Version History</h2>\\n<figure>\\n<table>\\n<tbody>\\n<tr>\\n<td><i><strong>Version</strong></i></td>\\n<td><i><strong>Date</strong></i></td>\\n<td><i><strong>Description</strong></i></td>\\n</tr>\\n<tr>\\n<td> 1.0</td>\\n<td>2022-04-07 </td>\\n<td>initial document</td>\\n</tr>\\n<tr>\\n<td> </td>\\n<td> </td>\\n<td> </td>\\n</tr>\\n<tr>\\n<td> </td>\\n<td> </td>\\n<td> </td>\\n</tr>\\n</tbody>\\n</table>\\n</figure>\\n<p> </p>\\n<p> </p>\\n<p> </p>\\n<p> </p>\\n<p> </p>\\n<h2><a href=\\\"#latar-belakang-dan-tujuan\\\"></a> Latar Belakang dan Tujuan</h2>\\n<p>Marketing analytics merupakan salah satu target pada RBB 2023. Tujuan analisis adalah menentukan target customer untuk ditawarkan produk BAG yang sesuai dengan karakteristik customer berdasarkan hasil analisis. Pada analisis ini, penentuan target customer dilakukan pada Merchant untuk penawaran produk SME dan Konsumer. Data-data seperti transaksi dan balance rekening perlu dilakukan untuk memberikan gambaran potensial merchant.</p>\\n<p> </p>\\n<h2><a href=\\\"#analisis-populasi-data-merchant\\\"></a> Analisis Populasi Data Merchant</h2>\\n<p>Terdapat beberapa hal yang dianalisis untuk mendapatkan populasi merchant yang akan ditawarkan produk BAG.</p>\\n<ol>\\n<li>Merchant bukan merupakan sharing account yang dikelola oleh BAG atau cabang</li>\\n<li>Merchant bukan merupakan sharing account dari perusahaan yang ada di grup</li>\\n<li>Merchant memiliki transaksi minimal 1 sejak 90 hari terakhir (data per 28/12/2022)</li>\\n</ol>\\n<p>Berikut ringkasan hasil analisis populasi merchant</p>\\n<ul>\\n<li>Total Account Number = 3179</li>\\n<li>Total Merchant = 3335</li>\\n</ul>\\n<p>Data Merchant yang dikumpulkan</p>\\n<ul>\\n<li>Account Number</li>\\n<li>Jumlah Merchant per Account Number</li>\\n<li>Total Transaksi dalah 90 hari terakhir</li>\\n<li>Total Amount Transaksi dalam 90 hari terakhir</li>\\n<li>Average balance 90 hari terakhir</li>\\n</ul>\\n<p><i>*) data per 28/12/2022</i></p>\\n<p> </p>\\n<h2><a href=\\\"#analisis-kuadran-transaksi-dan-balance\\\"></a> Analisis Kuadran Transaksi dan Balance</h2>\\n<p>Beberapa simulasi dilakukan dengan mencari proporsi Top X% merchant dengan transaksi tertinggi dan Top Y% merchant dengan balance tertinggi.</p>\\n<p> </p>\\n<figure><img src=\\\"/insight/trx_vs_bal.jpg\\\"/></figure>\\n<p> </p>\\n<h3><a href=\\\"#simulasi-1-25-transaksi-vs-25-balance\\\"></a> <mark>Simulasi 1 (25% Transaksi vs 25% Balance)</mark></h3>\\n<p>Dengan simulasi pertama, menggunakan TOP 25% merchant dengan transaksi terbanyak dan TOP 25% merchant dengan balance tertinggi. Diperoleh jumlah account per kuadran sebagai berikut:</p>\\n<p> </p>\\n<figure>\\n<table>\\n<tbody>\\n<tr>\\n<td><strong>Kuadran</strong></td>\\n<td><strong>Count of ACCOUNT_NUMBER</strong></td>\\n</tr>\\n<tr>\\n<td>I</td>\\n<td>2</td>\\n</tr>\\n<tr>\\n<td>II</td>\\n<td>16</td>\\n</tr>\\n<tr>\\n<td>III</td>\\n<td>3146</td>\\n</tr>\\n<tr>\\n<td>IV</td>\\n<td>15</td>\\n</tr>\\n<tr>\\n<td><strong>Grand Total</strong></td>\\n<td><strong>3179</strong></td>\\n</tr>\\n</tbody>\\n</table>\\n</figure>\\n<p> </p>\\n<p> </p>\\n<h3><a href=\\\"#simulasi-2-50-transaksi-vs-50-balance\\\"></a> <mark>Simulasi 2 (50% Transaksi vs 50% Balance)</mark></h3>\\n<p>Dengan simulasi pertama, menggunakan TOP 50% merchant dengan transaksi terbanyak dan TOP 50% merchant dengan balance tertinggi. Diperoleh jumlah account per kuadran sebagai berikut:</p>\\n<p> </p>\\n<figure>\\n<table>\\n<tbody>\\n<tr>\\n<td><strong>Kuadran</strong></td>\\n<td><strong>Count of ACCOUNT_NUMBER</strong></td>\\n</tr>\\n<tr>\\n<td>I</td>\\n<td>6</td>\\n</tr>\\n<tr>\\n<td>II</td>\\n<td>67</td>\\n</tr>\\n<tr>\\n<td>III</td>\\n<td>3062</td>\\n</tr>\\n<tr>\\n<td>IV</td>\\n<td>44</td>\\n</tr>\\n<tr>\\n<td><strong>Grand Total</strong></td>\\n<td><strong>3179</strong></td>\\n</tr>\\n</tbody>\\n</table>\\n</figure>\\n<p> </p>\\n<h3><a href=\\\"#simulasi-3-proporsional\\\"></a> <mark>Simulasi 3 (proporsional)</mark></h3>\\n<p><strong>Statistik Data Transaksi Merchant</strong></p>\\n<figure>\\n<table>\\n<tbody>\\n<tr>\\n<td><strong>Kalkulasi</strong></td>\\n<td><strong>TRX</strong></td>\\n<td><strong> posisi % </strong></td>\\n</tr>\\n<tr>\\n<td>Average Transaksi</td>\\n<td>147</td>\\n<td rowspan=\\\"5\\\">\\n<p> </p>\\n<p> </p>\\n<p> </p>\\n<p> </p>\\n<p> </p>\\n</td>\\n</tr>\\n<tr>\\n<td>P25</td>\\n<td>3</td>\\n</tr>\\n<tr>\\n<td>P50</td>\\n<td>12</td>\\n</tr>\\n<tr>\\n<td>P75</td>\\n<td>63</td>\\n</tr>\\n<tr>\\n<td>P90</td>\\n<td>272</td>\\n</tr>\\n<tr>\\n<td><strong>P95</strong></td>\\n<td><strong>604</strong></td>\\n<td><strong>66%</strong></td>\\n</tr>\\n<tr>\\n<td><strong>P97</strong></td>\\n<td><strong>1021</strong></td>\\n<td><strong>60%</strong></td>\\n</tr>\\n<tr>\\n<td><strong>P99</strong></td>\\n<td><strong>2615,8</strong></td>\\n<td><strong>34%</strong></td>\\n</tr>\\n</tbody>\\n</table>\\n</figure>\\n<p> </p>\\n<p><strong>Statistik Data Merchant Balance</strong></p>\\n<figure>\\n<table>\\n<tbody>\\n<tr>\\n<td><strong>Kalkulasi</strong></td>\\n<td><strong>Balance</strong></td>\\n<td><strong> posisi % </strong></td>\\n</tr>\\n<tr>\\n<td>Average Balance</td>\\n<td> 7.528.943 </td>\\n<td rowspan=\\\"5\\\">\\n<p> </p>\\n<p> </p>\\n<p> </p>\\n<p> </p>\\n<p> </p>\\n</td>\\n</tr>\\n<tr>\\n<td>P25</td>\\n<td>           49.617 </td>\\n</tr>\\n<tr>\\n<td>P50</td>\\n<td>        260.963 </td>\\n</tr>\\n<tr>\\n<td>P75</td>\\n<td>     1.531.041 </td>\\n</tr>\\n<tr>\\n<td>P90</td>\\n<td> 10.363.817 </td>\\n</tr>\\n<tr>\\n<td><strong>P95</strong></td>\\n<td><strong>   30.824.641 </strong></td>\\n<td><strong>77%</strong></td>\\n</tr>\\n<tr>\\n<td><strong>P97</strong></td>\\n<td><strong>   61.359.130 </strong></td>\\n<td><strong>65%</strong></td>\\n</tr>\\n<tr>\\n<td><strong>P99</strong></td>\\n<td><strong> 192.746.213 </strong></td>\\n<td><strong>38%</strong></td>\\n</tr>\\n</tbody>\\n</table>\\n</figure>\\n<p> </p>\\n<p>Mengacu pada data statistik di atas, secara “expert judgment” angka transaksi yang di dalam batas normal ada pada posisi P95 (66%),  P97 (60%) atau P99 (34%). Untuk balance, batas normal berada pada posisi P95 (77%),  P97 (65) atau P99 (38%). </p>\\n<p>Simulasi untuk <strong>Transaksi P95</strong></p>\\n<figure>\\n<table>\\n<tbody>\\n<tr>\\n<td colspan=\\\"2\\\">\\n<p><strong>Balance P95</strong></p>\\n</td>\\n<td> </td>\\n<td colspan=\\\"2\\\">\\n<p><strong>Balance P97</strong></p>\\n</td>\\n<td>\\n<p> </p>\\n</td>\\n<td colspan=\\\"2\\\">\\n<p><strong>Balance P99</strong></p>\\n</td>\\n</tr>\\n<tr>\\n<td><strong>Kuadran</strong></td>\\n<td><strong>Count of ACCOUNT_NUMBER</strong></td>\\n<td> </td>\\n<td><strong>Kuadran</strong></td>\\n<td><strong>Count of ACCOUNT_NUMBER</strong></td>\\n<td> </td>\\n<td><strong>Kuadran</strong></td>\\n<td><strong>Count of ACCOUNT_NUMBER</strong></td>\\n</tr>\\n<tr>\\n<td>I</td>\\n<td>33</td>\\n<td> </td>\\n<td>I</td>\\n<td>20</td>\\n<td> </td>\\n<td>I</td>\\n<td>7</td>\\n</tr>\\n<tr>\\n<td>II</td>\\n<td>125</td>\\n<td> </td>\\n<td>II</td>\\n<td>138</td>\\n<td> </td>\\n<td>II</td>\\n<td>151</td>\\n</tr>\\n<tr>\\n<td>III</td>\\n<td>2896</td>\\n<td> </td>\\n<td>III</td>\\n<td>2948</td>\\n<td> </td>\\n<td>III</td>\\n<td>2997</td>\\n</tr>\\n<tr>\\n<td>IV</td>\\n<td>125</td>\\n<td> </td>\\n<td>IV</td>\\n<td>73</td>\\n<td> </td>\\n<td>IV</td>\\n<td>24</td>\\n</tr>\\n<tr>\\n<td><strong>Grand Total</strong></td>\\n<td><strong>3179</strong></td>\\n<td> </td>\\n<td><strong>Grand Total</strong></td>\\n<td><strong>3179</strong></td>\\n<td> </td>\\n<td><strong>Grand Total</strong></td>\\n<td><strong>3179</strong></td>\\n</tr>\\n</tbody>\\n</table>\\n</figure>\\n<p> </p>\\n<p>Simulasikan untuk <strong>Transaksi P97</strong></p>\\n<figure>\\n<table>\\n<tbody>\\n<tr>\\n<td colspan=\\\"2\\\">\\n<p><strong>Balance P95</strong></p>\\n</td>\\n<td> </td>\\n<td colspan=\\\"2\\\">\\n<p><strong>Balance P97</strong></p>\\n</td>\\n<td>\\n<p> </p>\\n</td>\\n<td colspan=\\\"2\\\">\\n<p><strong>Balance P99</strong></p>\\n</td>\\n</tr>\\n<tr>\\n<td>Kuadran</td>\\n<td><strong>Count of ACCOUNT_NUMBER</strong></td>\\n<td> </td>\\n<td><strong>Kuadran</strong></td>\\n<td><strong>Count of ACCOUNT_NUMBER</strong></td>\\n<td> </td>\\n<td><strong>Kuadran</strong></td>\\n<td><strong>Count of ACCOUNT_NUMBER</strong></td>\\n</tr>\\n<tr>\\n<td>I</td>\\n<td>28</td>\\n<td> </td>\\n<td>I</td>\\n<td>15</td>\\n<td> </td>\\n<td>I</td>\\n<td>4</td>\\n</tr>\\n<tr>\\n<td>II</td>\\n<td>90</td>\\n<td> </td>\\n<td>II</td>\\n<td>103</td>\\n<td> </td>\\n<td>II</td>\\n<td>114</td>\\n</tr>\\n<tr>\\n<td>III</td>\\n<td>2931</td>\\n<td> </td>\\n<td>III</td>\\n<td>2983</td>\\n<td> </td>\\n<td>III</td>\\n<td>3034</td>\\n</tr>\\n<tr>\\n<td>IV</td>\\n<td>130</td>\\n<td> </td>\\n<td>IV</td>\\n<td>78</td>\\n<td> </td>\\n<td>IV</td>\\n<td>27</td>\\n</tr>\\n<tr>\\n<td><strong>Grand Total</strong></td>\\n<td><strong>3179</strong></td>\\n<td> </td>\\n<td><strong>Grand Total</strong></td>\\n<td><strong>3179</strong></td>\\n<td> </td>\\n<td><strong>Grand Total</strong></td>\\n<td><strong>3179</strong></td>\\n</tr>\\n</tbody>\\n</table>\\n</figure>\\n<p> </p>\\n<p>Simulasi untuk <strong>Transaksi P99</strong></p>\\n<figure>\\n<table>\\n<tbody>\\n<tr>\\n<td colspan=\\\"2\\\">\\n<p><strong>Balance P95</strong></p>\\n</td>\\n<td> </td>\\n<td colspan=\\\"2\\\">\\n<p><strong>Balance P97</strong></p>\\n</td>\\n<td>\\n<p> </p>\\n</td>\\n<td colspan=\\\"2\\\">\\n<p><strong>Balance P99</strong></p>\\n</td>\\n</tr>\\n<tr>\\n<td><strong>Kuadran</strong></td>\\n<td><strong>Count of ACCOUNT_NUMBER</strong></td>\\n<td> </td>\\n<td><strong>Kuadran</strong></td>\\n<td><strong>Count of ACCOUNT_NUMBER</strong></td>\\n<td> </td>\\n<td><strong>Kuadran</strong></td>\\n<td><strong>Count of ACCOUNT_NUMBER</strong></td>\\n</tr>\\n<tr>\\n<td>I</td>\\n<td>15</td>\\n<td> </td>\\n<td>I</td>\\n<td>7</td>\\n<td> </td>\\n<td>I</td>\\n<td>2</td>\\n</tr>\\n<tr>\\n<td>II</td>\\n<td>16</td>\\n<td> </td>\\n<td>II</td>\\n<td>24</td>\\n<td> </td>\\n<td>II</td>\\n<td>29</td>\\n</tr>\\n<tr>\\n<td>III</td>\\n<td>3005</td>\\n<td> </td>\\n<td>III</td>\\n<td>3062</td>\\n<td> </td>\\n<td>III</td>\\n<td>3119</td>\\n</tr>\\n<tr>\\n<td>IV</td>\\n<td>143</td>\\n<td> </td>\\n<td>IV</td>\\n<td>86</td>\\n<td> </td>\\n<td>IV</td>\\n<td>29</td>\\n</tr>\\n<tr>\\n<td><strong>Grand Total</strong></td>\\n<td><strong>3179</strong></td>\\n<td> </td>\\n<td><strong>Grand Total</strong></td>\\n<td><strong>3179</strong></td>\\n<td> </td>\\n<td><strong>Grand Total</strong></td>\\n<td><strong>3179</strong></td>\\n</tr>\\n</tbody>\\n</table>\\n</figure>\\n<p> </p>\\n<p> </p>\\n<h2><a href=\\\"#analisis-kuadran-transaksi-dan-amount\\\"></a> Analisis Kuadran Transaksi dan Amount</h2>\\n<p>Beberapa simulasi dilakukan dengan mencari proporsi Top X% merchant dengan transaksi tertinggi dan Top Y% merchant dengan amount tertinggi.</p>\\n<p> </p>\\n<figure><img src=\\\"/insight/trx_x_amt.jpg\\\"/></figure>\\n<p> </p>\\n<h3><a href=\\\"#simulasi-1-25-transaksi-vs-25-amount\\\"></a> <mark>Simulasi 1 (25% Transaksi vs 25% Amount)</mark></h3>\\n<p>Dengan simulasi pertama, menggunakan TOP 25% merchant dengan transaksi terbanyak dan TOP 25% merchant dengan total amount tertinggi. Diperoleh jumlah account per kuadran sebagai berikut:</p>\\n<p> </p>\\n<figure>\\n<table>\\n<tbody>\\n<tr>\\n<td><strong>Kuadran</strong></td>\\n<td><strong>Count of ACCOUNT_NUMBER</strong></td>\\n</tr>\\n<tr>\\n<td>I</td>\\n<td>7</td>\\n</tr>\\n<tr>\\n<td>II</td>\\n<td>3155</td>\\n</tr>\\n<tr>\\n<td>III</td>\\n<td>6</td>\\n</tr>\\n<tr>\\n<td>IV</td>\\n<td>11</td>\\n</tr>\\n<tr>\\n<td><strong>Grand Total</strong></td>\\n<td><strong>3179</strong></td>\\n</tr>\\n</tbody>\\n</table>\\n</figure>\\n<h3><a href=\\\"#simulasi-2-50-transaksi-vs-50-amount\\\"></a> <br/><mark><strong>Simulasi 2 (50% Transaksi vs 50% Amount)</strong></mark></h3>\\n<p>Dengan simulasi pertama, menggunakan TOP 50% merchant dengan transaksi terbanyak dan TOP 50% merchant dengan total amount tertinggi. Diperoleh jumlah account per kuadran sebagai berikut:</p>\\n<figure>\\n<table>\\n<tbody>\\n<tr>\\n<td><strong>Kuadran</strong></td>\\n<td><strong>Count of ACCOUNT_NUMBER</strong></td>\\n</tr>\\n<tr>\\n<td>I</td>\\n<td>36</td>\\n</tr>\\n<tr>\\n<td>II</td>\\n<td>3073</td>\\n</tr>\\n<tr>\\n<td>III</td>\\n<td>33</td>\\n</tr>\\n<tr>\\n<td>IV</td>\\n<td>37</td>\\n</tr>\\n<tr>\\n<td><strong>Grand Total</strong></td>\\n<td><strong>3179</strong></td>\\n</tr>\\n</tbody>\\n</table>\\n</figure>\\n<p> </p>\\n<h3><a href=\\\"#simulasi-3-proporsional-1\\\"></a> <mark>Simulasi 3 (proporsional)</mark></h3>\\n<p><strong>Statistik Data Transaksi Merchant</strong></p>\\n<figure>\\n<table>\\n<tbody>\\n<tr>\\n<td><strong>Kalkulasi</strong></td>\\n<td><strong>TRX</strong></td>\\n<td><strong> posisi % </strong></td>\\n</tr>\\n<tr>\\n<td>Average Transaksi</td>\\n<td>147</td>\\n<td rowspan=\\\"5\\\">\\n<p> </p>\\n<p> </p>\\n<p> </p>\\n<p> </p>\\n<p> </p>\\n</td>\\n</tr>\\n<tr>\\n<td>P25</td>\\n<td>3</td>\\n</tr>\\n<tr>\\n<td>P50</td>\\n<td>12</td>\\n</tr>\\n<tr>\\n<td>P75</td>\\n<td>63</td>\\n</tr>\\n<tr>\\n<td>P90</td>\\n<td>272</td>\\n</tr>\\n<tr>\\n<td><strong>P95</strong></td>\\n<td><strong>604</strong></td>\\n<td><strong>66%</strong></td>\\n</tr>\\n<tr>\\n<td><strong>P97</strong></td>\\n<td><strong>1021</strong></td>\\n<td><strong>60%</strong></td>\\n</tr>\\n<tr>\\n<td><strong>P99</strong></td>\\n<td><strong>2615,8</strong></td>\\n<td><strong>34%</strong></td>\\n</tr>\\n</tbody>\\n</table>\\n</figure>\\n<p> </p>\\n<p><strong>Statistik Data Merchant Balance</strong></p>\\n<figure>\\n<table>\\n<tbody>\\n<tr>\\n<td><strong>Kalkulasi</strong></td>\\n<td><strong>Amount</strong></td>\\n<td><strong> posisi % </strong></td>\\n</tr>\\n<tr>\\n<td>Average Balance</td>\\n<td>   12.532.268 </td>\\n<td> </td>\\n</tr>\\n<tr>\\n<td>P25</td>\\n<td>       120.000 </td>\\n<td> </td>\\n</tr>\\n<tr>\\n<td>P50</td>\\n<td>       900.000 </td>\\n<td> </td>\\n</tr>\\n<tr>\\n<td>P75</td>\\n<td>     5.330.000 </td>\\n<td> </td>\\n</tr>\\n<tr>\\n<td>P90</td>\\n<td>   23.140.000 </td>\\n<td> </td>\\n</tr>\\n<tr>\\n<td><strong>P95</strong></td>\\n<td><strong>   53.719.000 </strong></td>\\n<td><strong>66%</strong></td>\\n</tr>\\n<tr>\\n<td><strong>P97</strong></td>\\n<td><strong>   83.855.680 </strong></td>\\n<td><strong>56%</strong></td>\\n</tr>\\n<tr>\\n<td><strong>P99</strong></td>\\n<td><strong> 191.971.546 </strong></td>\\n<td><strong>37%</strong></td>\\n</tr>\\n</tbody>\\n</table>\\n</figure>\\n<p> </p>\\n<p>Mengacu pada data statistik di atas, secara “expert judgment” angka transaksi yang di dalam batas normal ada pada posisi P95 (66%),  P97 (60%) atau P99 (34%). Untuk balance, batas normal berada pada posisi P95 (66%),  P97 (56%) atau P99 (37%). </p>\\n<p>Simulasi untuk <strong>Transaksi P95</strong></p>\\n<figure>\\n<table>\\n<tbody>\\n<tr>\\n<td colspan=\\\"2\\\">\\n<p><strong>Balance P95</strong></p>\\n</td>\\n<td> </td>\\n<td colspan=\\\"2\\\">\\n<p><strong>Balance P97</strong></p>\\n</td>\\n<td>\\n<p> </p>\\n</td>\\n<td colspan=\\\"2\\\">\\n<p><strong>Balance P99</strong></p>\\n</td>\\n</tr>\\n<tr>\\n<td><strong>Kuadran</strong></td>\\n<td><strong>Count of ACCOUNT_NUMBER</strong></td>\\n<td> </td>\\n<td><strong>Kuadran</strong></td>\\n<td><strong>Count of ACCOUNT_NUMBER</strong></td>\\n<td> </td>\\n<td><strong>Kuadran</strong></td>\\n<td><strong>Count of ACCOUNT_NUMBER</strong></td>\\n</tr>\\n<tr>\\n<td>I</td>\\n<td>87</td>\\n<td> </td>\\n<td>I</td>\\n<td>59</td>\\n<td> </td>\\n<td>I</td>\\n<td>28</td>\\n</tr>\\n<tr>\\n<td>II</td>\\n<td>2955</td>\\n<td> </td>\\n<td>II</td>\\n<td>2985</td>\\n<td> </td>\\n<td>II</td>\\n<td>3017</td>\\n</tr>\\n<tr>\\n<td>III</td>\\n<td>66</td>\\n<td> </td>\\n<td>III</td>\\n<td>36</td>\\n<td> </td>\\n<td>III</td>\\n<td>4</td>\\n</tr>\\n<tr>\\n<td>IV</td>\\n<td>71</td>\\n<td> </td>\\n<td>IV</td>\\n<td>99</td>\\n<td> </td>\\n<td>IV</td>\\n<td>130</td>\\n</tr>\\n<tr>\\n<td><strong>Grand Total</strong></td>\\n<td><strong>3179</strong></td>\\n<td> </td>\\n<td><strong>Grand Total</strong></td>\\n<td><strong>3179</strong></td>\\n<td> </td>\\n<td><strong>Grand Total</strong></td>\\n<td><strong>3179</strong></td>\\n</tr>\\n</tbody>\\n</table>\\n</figure>\\n<p> </p>\\n<p>Simulasikan untuk <strong>Transaksi P97</strong></p>\\n<figure>\\n<table>\\n<tbody>\\n<tr>\\n<td colspan=\\\"2\\\">\\n<p><strong>Balance P95</strong></p>\\n</td>\\n<td> </td>\\n<td colspan=\\\"2\\\">\\n<p><strong>Balance P97</strong></p>\\n</td>\\n<td>\\n<p> </p>\\n</td>\\n<td colspan=\\\"2\\\">\\n<p><strong>Balance P99</strong></p>\\n</td>\\n</tr>\\n<tr>\\n<td>Kuadran</td>\\n<td><strong>Count of ACCOUNT_NUMBER</strong></td>\\n<td> </td>\\n<td><strong>Kuadran</strong></td>\\n<td><strong>Count of ACCOUNT_NUMBER</strong></td>\\n<td> </td>\\n<td><strong>Kuadran</strong></td>\\n<td><strong>Count of ACCOUNT_NUMBER</strong></td>\\n</tr>\\n<tr>\\n<td>I</td>\\n<td>77</td>\\n<td> </td>\\n<td>I</td>\\n<td>57</td>\\n<td> </td>\\n<td>I</td>\\n<td>27</td>\\n</tr>\\n<tr>\\n<td>II</td>\\n<td>2985</td>\\n<td> </td>\\n<td>II</td>\\n<td>3023</td>\\n<td> </td>\\n<td>II</td>\\n<td>3056</td>\\n</tr>\\n<tr>\\n<td>III</td>\\n<td>76</td>\\n<td> </td>\\n<td>III</td>\\n<td>38</td>\\n<td> </td>\\n<td>III</td>\\n<td>5</td>\\n</tr>\\n<tr>\\n<td>IV</td>\\n<td>41</td>\\n<td> </td>\\n<td>IV</td>\\n<td>61</td>\\n<td> </td>\\n<td>IV</td>\\n<td>91</td>\\n</tr>\\n<tr>\\n<td><strong>Grand Total</strong></td>\\n<td><strong>3179</strong></td>\\n<td> </td>\\n<td><strong>Grand Total</strong></td>\\n<td><strong>3179</strong></td>\\n<td> </td>\\n<td><strong>Grand Total</strong></td>\\n<td><strong>3179</strong></td>\\n</tr>\\n</tbody>\\n</table>\\n</figure>\\n<p> </p>\\n<p>Simulasi untuk <strong>Transaksi P99</strong></p>\\n<figure>\\n<table>\\n<tbody>\\n<tr>\\n<td colspan=\\\"2\\\">\\n<p><strong>Balance P95</strong></p>\\n</td>\\n<td> </td>\\n<td colspan=\\\"2\\\">\\n<p><strong>Balance P97</strong></p>\\n</td>\\n<td>\\n<p> </p>\\n</td>\\n<td colspan=\\\"2\\\">\\n<p><strong>Balance P99</strong></p>\\n</td>\\n</tr>\\n<tr>\\n<td><strong>Kuadran</strong></td>\\n<td><strong>Count of ACCOUNT_NUMBER</strong></td>\\n<td> </td>\\n<td><strong>Kuadran</strong></td>\\n<td><strong>Count of ACCOUNT_NUMBER</strong></td>\\n<td> </td>\\n<td><strong>Kuadran</strong></td>\\n<td><strong>Count of ACCOUNT_NUMBER</strong></td>\\n</tr>\\n<tr>\\n<td>I</td>\\n<td>30</td>\\n<td> </td>\\n<td>I</td>\\n<td>26</td>\\n<td> </td>\\n<td>I</td>\\n<td>16</td>\\n</tr>\\n<tr>\\n<td>II</td>\\n<td>3025</td>\\n<td> </td>\\n<td>II</td>\\n<td>3079</td>\\n<td> </td>\\n<td>II</td>\\n<td>3132</td>\\n</tr>\\n<tr>\\n<td>III</td>\\n<td>123</td>\\n<td> </td>\\n<td>III</td>\\n<td>69</td>\\n<td> </td>\\n<td>III</td>\\n<td>16</td>\\n</tr>\\n<tr>\\n<td>IV</td>\\n<td>1</td>\\n<td> </td>\\n<td>IV</td>\\n<td>5</td>\\n<td> </td>\\n<td>IV</td>\\n<td>15</td>\\n</tr>\\n<tr>\\n<td><strong>Grand Total</strong></td>\\n<td><strong>3179</strong></td>\\n<td> </td>\\n<td><strong>Grand Total</strong></td>\\n<td><strong>3179</strong></td>\\n<td> </td>\\n<td><strong>Grand Total</strong></td>\\n<td><strong>3179</strong></td>\\n</tr>\\n</tbody>\\n</table>\\n</figure>\\n<p> </p>\\n<h2><a href=\\\"#rekomendasi\\\"></a> Rekomendasi</h2>\\n<h3><a href=\\\"#rekomendasi-1-akuisisi-sme\\\"></a> <mark>Rekomendasi 1: Akuisisi SME</mark></h3>\\n<p>Mengacu pada <strong>Analisis Kuadran Transaksi-Balance, Kuadran I dan IV dengan titik Balance pada P95 dapat dijadikan target untuk AKUISISI SME</strong>. Justifikasinya adalah merchant-merchant pada titik tersebut memiliki Avaragae Balance di batas atas normal (P95). Dengan kata lain merchant yang merupakan nasabah cukup …(istilahnya apa lupa gw) sehingga dapat ditawarkan produk SME.</p>\\n<p> </p>\\n<h3><a href=\\\"#rekomendasi-2-melakukan-deep-analysis-untuk-penawaran-produk-konsumer\\\"></a> <mark>Rekomendasi 2: Melakukan deep analysis untuk penawaran produk Konsumer</mark></h3>\\n<p>Mengacu pada <strong>Analisis Kuadran Transaksi-Balance, Kuadran II dengan titik Balance pada P95 dapat dijadikan target untuk AKUISISI KONSUMER</strong>.</p>\\n<p> </p>\\n<h3><a href=\\\"#\\\"></a>  </h3>\\n\",\n",
    "        \"tanggal_content\": \"2022-12-30T10:23:27.674Z\",\n",
    "        \"author_content\": \"Rahmi\",\n",
    "        \"direktorat_content\": \"Digital Insight\",\n",
    "        \"PIC_Analyst\": \"Rahmi Julianasari\",\n",
    "        \"link_content\": \"http://10.0.232.117:3000/en/Insight/Data_Insight/Analisis_Kuadran_Merchant\"\n",
    "    },\n",
    "    {\n",
    "        \"topic_document\": \"Digital Insight\",\n",
    "        \"title_content\": \"<h1><a href=\\\"#analisis-transaksi-qris-biller\\\"></a> Analisis Transaksi Qris &amp; Biller</h1>\",\n",
    "        \"text_content\": \"<h1><a href=\\\"#analisis-transaksi-qris-biller\\\"></a> Analisis Transaksi Qris &amp; Biller</h1>\\n<p> </p>\\n<figure>\\n<table>\\n<tbody>\\n<tr>\\n<th>Direktorat</th>\\n<td> Digital Insight</td>\\n</tr>\\n<tr>\\n<th>Sub Direktorat</th>\\n<td>MIS 1 </td>\\n</tr>\\n<tr>\\n<th>Analysis Date</th>\\n<td>28 Desember 2022</td>\\n</tr>\\n<tr>\\n<th>Analysis status</th>\\n<td> FINISHED</td>\\n</tr>\\n<tr>\\n<th>Document status </th>\\n<td> FINISHED</td>\\n</tr>\\n<tr>\\n<th>PIC  Analyst</th>\\n<td>Ghifari Daulagiri</td>\\n</tr>\\n<tr>\\n<th>Stakeholders</th>\\n<td>DIgital Banking</td>\\n</tr>\\n<tr>\\n<th>Reference Document</th>\\n<td> </td>\\n</tr>\\n</tbody>\\n</table>\\n</figure>\\n<p> </p>\\n<p> </p>\\n<p> </p>\\n<p> </p>\\n<p> </p>\\n<p> </p>\\n<p> </p>\\n<p> </p>\\n<h2><a href=\\\"#version-history\\\"></a> Version History</h2>\\n<figure>\\n<table>\\n<tbody>\\n<tr>\\n<td><i><strong>Version</strong></i></td>\\n<td><i><strong>Date</strong></i></td>\\n<td><i><strong>Description</strong></i></td>\\n</tr>\\n<tr>\\n<td> 1.0</td>\\n<td>2022-04-07 </td>\\n<td>initial document</td>\\n</tr>\\n<tr>\\n<td> </td>\\n<td> </td>\\n<td> </td>\\n</tr>\\n<tr>\\n<td> </td>\\n<td> </td>\\n<td> </td>\\n</tr>\\n</tbody>\\n</table>\\n</figure>\\n<p> </p>\\n<p> </p>\\n<p> </p>\\n<p> </p>\\n<p> </p>\\n<h2><a href=\\\"#latar-belakang-dan-tujuan\\\"></a> LATAR BELAKANG DAN TUJUAN</h2>\\n<p>Analisis ini dibuat untuk memberikan insight dalam penentuan fokus dan opsi untuk menentukan promo yang akan diberikan untuk menstimulasi proses transaksi pada merchant yang dituju</p>\\n<p> </p>\\n<h2><a href=\\\"#temuan-utama\\\"></a> Temuan Utama</h2>\\n<p>Data yang digunakan adalah dana transasksi QRIS dari Bulan Maret 2021 dan dana transaksi Pembelian dan Pembayaran dari Tahun 2017</p>\\n<h3><a href=\\\"#biller\\\"></a> BILLER</h3>\\n<p>Detail Isi Pulsa</p>\\n<p>List Provider</p>\\n<p> </p>\\n<p>Data Di atas merupakan data dari banyaknya transaksi dan besar transaksi yang dilakukan oleh nasabah ke provider</p>\\n<blockquote>\\n<p>Dari data diatas kita bisa lihat bahwa transaksi terbanyak Dilakukan provider Telkomsel bahkan jumlahnya melebihi semua provider lain jika digabungkan.</p>\\n</blockquote>\\n<p>Banyak Transaksi</p>\\n<p> </p>\\n<p>Ringkasan Perbulan</p>\\n<p>Berikut merupakan ringkasan jumlah transaksi dan besar nilai transaksi yang dilakukan nasabah</p>\\n<p>Maret 22</p>\\n<p> </p>\\n<p>Febuari 22</p>\\n<p> </p>\\n<p>Januari 22</p>\\n<p> </p>\\n<p>Desember 21</p>\\n<p> </p>\\n<p>November 21</p>\\n<p> </p>\\n<p>Oktober 21</p>\\n<p> </p>\\n<p>September 21</p>\\n<p> </p>\\n<h2><a href=\\\"#kesimpulan\\\"></a> Kesimpulan</h2>\\n<p>Ada beberapa hal yang perlu digarisbawahi:</p>\\n<ol>\\n<li>Terdapat appetite untuk menggunakan platform BAG dalam melakukan pembayaran</li>\\n<li>Pembayaran transaksi Terbanyak dilakukan pada Pembelian Isi Ulang Pulsa selama 6 bulan terakhir</li>\\n<li>Tekomsel merupakan provider dengan nilai transaksi terbesar dan jumlah transaksi terbanyak</li>\\n</ol>\\n<h1><a href=\\\"#rekomendasi\\\"></a> Rekomendasi</h1>\\n<p>Perlu riset dan survey lebih lanjut ke segmen nasabah tersebut untuk mencari tahu lebih jauh mengenai preferensi transaksi mereka.</p>\\n<h1><a href=\\\"#qris\\\"></a> QRIS</h1>\\n<p>Ringkasan Terbesar</p>\\n<p>Berikut merupakan ringkasan dari nilai transaksi dan banyaknya transaksi yang dilakukan dengan nasabah dalam pembayaran QRIS</p>\\n<p>10 Merchant Paling banyak Melakukan Transaksi</p>\\n<p> </p>\\n<p>10 Merchant Dengan Nilai Transaksi Terbesar</p>\\n<p> </p>\\n<p>Ringkasan Terkecil</p>\\n<p>Berikut merupakan ringkasan dari nilai transaksi dan banyaknya transaksi yang dilakukan dengan nasabah dalam pembayaran QRIS</p>\\n<p>10 Merchant Paling Sedikit Melakukan Transaksi dengan Nilai Transaksi Sedikit</p>\\n<p> </p>\\n<p>10 Merchant Paling Sedikit Melakukan Transaksi dengan Nilai Transaksi Paling Besar</p>\\n<p> </p>\\n<blockquote>\\n<p>Data diatas merupakan data dari merchant yang sedikit melakukan transaksi tetapi nilai nilai transaksi besar. merchant dengan data tersebut melakukan satu transaksi dengan nilai transaksi yang besar</p>\\n</blockquote>\\n<p>Kategori Merchant</p>\\n<p>Berikut kategori-kategori merchant yang bekerjasama dengan bank</p>\\n<p>Berdasarkan Kategori Merchant</p>\\n<p> </p>\\n<p>Berdasarkan Kode kategori yang ada</p>\\n<p> </p>\\n<p>Berdasarkan Badan Usaha</p>\\n<p> </p>\\n<p>Data Perbulan</p>\\n<p>Maret 22</p>\\n<p> </p>\\n<p>Febuari 22</p>\\n<p> </p>\\n<p>Januari 22</p>\\n<p> </p>\\n<p>Desember 21</p>\\n<p> </p>\\n<p>November 21</p>\\n<p> </p>\\n<p>Oktober 21</p>\\n<p> </p>\\n<p>September 21</p>\\n<p> </p>\\n<p>Data diatas merupakan data dari nilai transaksi dan Banyak transaksi perbulannya selama 6 bulan terakhir</p>\\n<h2><a href=\\\"#kesimpulan-1\\\"></a> Kesimpulan</h2>\\n<p>Ada beberapa hal yang perlu digarisbawahi:</p>\\n<ol>\\n<li>Terdapat appetite untuk menggunakan platform BAG dalam melakukan pembayaran</li>\\n<li>tidak ada merchant yang menempati urutan tertinggi selama 2 bulan dengan nilai transaksi terbesar</li>\\n<li>ada merchant yang melakukan nilai transaksi yang besar dengan transaksi yang sedikit</li>\\n</ol>\\n<h1><a href=\\\"#rekomendasi-1\\\"></a> Rekomendasi</h1>\\n<p>Untuk rekomendasi pemberian Promo pada merchant kita bisa memberikan beberapa opsi yang bisa menguntungkan pembeli. dari hasil data diatas kita bisa memberikan promo dengan cara:</p>\\n<ul>\\n<li>Memberikan Jenis Promo untuk barang cepat habis yang bertujuan untuk merchant dengan jumlah transaksi yang banyak. hal ini dapat menstimulasi pembeli pada merchant yang menjual barang yang dapat dikonsumsi dan harganya murah. jenis promo yang diberikan bisa berupa potongan harga atau bonus menu untuk pembelian dengan harga tertentu</li>\\n<li>Memberikan Penurunan harga untuk produk tertentu jika sudah mencapai harga yang ditentukan. hal ini dapat menstimulasi pembeli untuk membeli barang jika harga barang yang seharusnya dapat dibeli dengan harga yang lebih murah</li>\\n<li>Memberikan undian ketika membeli barang dengan harga tertentu dan berlaku kelipatan</li>\\n</ul>\\n\",\n",
    "        \"tanggal_content\": \"2022-12-28T08:44:26.858Z\",\n",
    "        \"author_content\": \"Rahmi\",\n",
    "        \"direktorat_content\": \"Digital Insight\",\n",
    "        \"PIC_Analyst\": \"Ghifari Daulagiri\",\n",
    "        \"link_content\": \"http://10.0.232.117:3000/en/Insight/Data_Insight/AnalisisTransaksiQRISBiller\"\n",
    "    },\n",
    "    {\n",
    "        \"topic_document\": \"Digital Insight\",\n",
    "        \"title_content\": \"<h1><a href=\\\"#emoney-abuse\\\"></a> Emoney Abuse</h1>\",\n",
    "        \"text_content\": \"<h1><a href=\\\"#emoney-abuse\\\"></a> Emoney Abuse</h1>\\n<p> </p>\\n<figure>\\n<table>\\n<tbody>\\n<tr>\\n<th>Direktorat</th>\\n<td> Digital Insight</td>\\n</tr>\\n<tr>\\n<th>Sub Direktorat</th>\\n<td>MIS 1 </td>\\n</tr>\\n<tr>\\n<th>Analysis Date</th>\\n<td>19 Juni 2022</td>\\n</tr>\\n<tr>\\n<th>Analysis status</th>\\n<td> FINISHED</td>\\n</tr>\\n<tr>\\n<th>Document status </th>\\n<td> FINISHED</td>\\n</tr>\\n<tr>\\n<th>PIC  Analyst</th>\\n<td>Rahmi Julianasari</td>\\n</tr>\\n<tr>\\n<th>Stakeholders</th>\\n<td>DIgital Banking</td>\\n</tr>\\n<tr>\\n<th>Reference Document</th>\\n<td> </td>\\n</tr>\\n</tbody>\\n</table>\\n</figure>\\n<p> </p>\\n<p> </p>\\n<p> </p>\\n<p> </p>\\n<p> </p>\\n<p> </p>\\n<p> </p>\\n<p> </p>\\n<h2><a href=\\\"#version-history\\\"></a> Version History</h2>\\n<figure>\\n<table>\\n<tbody>\\n<tr>\\n<td><i><strong>Version</strong></i></td>\\n<td><i><strong>Date</strong></i></td>\\n<td><i><strong>Description</strong></i></td>\\n</tr>\\n<tr>\\n<td> 1.0</td>\\n<td>19 Juni 2022</td>\\n<td>initial document</td>\\n</tr>\\n<tr>\\n<td> </td>\\n<td> </td>\\n<td> </td>\\n</tr>\\n<tr>\\n<td> </td>\\n<td> </td>\\n<td> </td>\\n</tr>\\n</tbody>\\n</table>\\n</figure>\\n<p> </p>\\n<p> </p>\\n<p> </p>\\n<p> </p>\\n<p> </p>\\n<p><a href=\\\"/meeting_notes.pdf\\\">/meeting_notes.pdf</a></p>\\n<h3><a href=\\\"#kronologi\\\"></a> Kronologi</h3>\\n<ul>\\n<li>Narasi</li>\\n</ul>\\n<figure>\\n<table>\\n<thead>\\n<tr>\\n<th>No</th>\\n<th>Korban</th>\\n<th>Pelaku</th>\\n<th>BAG</th>\\n</tr>\\n</thead>\\n<tbody>\\n<tr>\\n<td>1</td>\\n<td> </td>\\n<td>Menghubungi Korban mengaku sebagai karyawan Shopee</td>\\n<td> </td>\\n</tr>\\n<tr>\\n<td>2</td>\\n<td>Dihubungi Pelaku bahwa Korban mendapat hadiah/cashback senilai (contoh Rp. 2jt)</td>\\n<td> </td>\\n<td> </td>\\n</tr>\\n<tr>\\n<td>3</td>\\n<td> </td>\\n<td>Meminta Korban download aplikasi Pinjaman Onliner (ex: Kredivo)</td>\\n<td> </td>\\n</tr>\\n<tr>\\n<td>4</td>\\n<td>Mendowload dan registrasi akun Pinjaman nline</td>\\n<td> </td>\\n<td> </td>\\n</tr>\\n<tr>\\n<td>5</td>\\n<td> </td>\\n<td>\\n<p>Meminta informasi data Pinjol Korban </p>\\n<p>- OTP </p>\\n<p>- KTP </p>\\n<p>- Foto </p>\\n<p>- Ibu Kandung </p>\\n<p>- Email </p>\\n<p>- dll.</p>\\n</td>\\n<td> </td>\\n</tr>\\n<tr>\\n<td>6</td>\\n<td>Memberikan informasi data Pinjol ke Pelaku</td>\\n<td> </td>\\n<td> </td>\\n</tr>\\n<tr>\\n<td>7</td>\\n<td> </td>\\n<td>Membajak akun Pinjol Korban</td>\\n<td> </td>\\n</tr>\\n<tr>\\n<td>8</td>\\n<td> </td>\\n<td>Membuat trasnaksi pinjaman di aku Pinjol Korban</td>\\n<td> </td>\\n</tr>\\n<tr>\\n<td>9</td>\\n<td>Mendapat Notifikasi Pinjaman dari aplikasi Pinjol</td>\\n<td> </td>\\n<td> </td>\\n</tr>\\n<tr>\\n<td>10</td>\\n<td> </td>\\n<td>Membuat akun BAG atas nama Korban</td>\\n<td> </td>\\n</tr>\\n<tr>\\n<td>11</td>\\n<td> </td>\\n<td>Membuat trasnaksi pinjaman di aku Pinjol Korban</td>\\n<td> </td>\\n</tr>\\n<tr>\\n<td>12</td>\\n<td> </td>\\n<td>Membuat transaksi di akun BAG</td>\\n<td> </td>\\n</tr>\\n<tr>\\n<td>13</td>\\n<td>Membuat laporan ke BAG dan Kepolisian</td>\\n<td> </td>\\n<td> </td>\\n</tr>\\n<tr>\\n<td>14</td>\\n<td> </td>\\n<td> </td>\\n<td>Mendapat Laporan dari Korban</td>\\n</tr>\\n<tr>\\n<td>15</td>\\n<td> </td>\\n<td> </td>\\n<td>Memblokir akun yang terkait Korban</td>\\n</tr>\\n</tbody>\\n</table>\\n</figure>\\n<h3><a href=\\\"#data-analysis\\\"></a> Data Analysis</h3>\\n<p><strong>Data Komplain</strong></p>\\n<ul>\\n<li>Tanggal transaksi terlapor : 11 Agustus 2021 - 19 Juni 2022</li>\\n<li>47 nomor rekening terlapor</li>\\n<li>Total nominal terlapor : Rp 83,079,000</li>\\n</ul>\\n<p><strong>Data Suspect</strong></p>\\n<ul>\\n<li>Tanggal data terdeteksi : 6 Febuari 2022 - 19 Juni 2022</li>\\n<li>41 nomor rekening dengan</li>\\n<li>Total Nominal suspicious transaction: Rp 72,590,542</li>\\n</ul>\\n<p><strong>Document</strong></p>\\n<p><a href=\\\"/clean_suspicious_transcation_old_mb_-_20220624.xlsx\\\">Clean_Suspicious Transcation OLD MB - 20220624.xlsx</a></p>\\n<p><a href=\\\"/kronologi_pengaduan_nasabah_penyalahgunaan_data_bagi_money.xls\\\">Kronologi pengaduan nasabah penyalahgunaan data BAGI Money.xls</a></p>\\n<h3><a href=\\\"#rekomendasi\\\"></a> Rekomendasi</h3>\\n<p><strong>Limitasi Friction</strong></p>\\n<ol>\\n<li>Limitasi amount transaksi per har per user</li>\\n<li>Limitasi transaksi User Biasa dan User Upgrade</li>\\n</ol>\\n<p><strong>User Flow Friction</strong></p>\\n<ol>\\n<li>OTP</li>\\n<li>Upgrade Account</li>\\n<li>Create Rekening</li>\\n</ol>\\n<p><strong>Edukasi</strong></p>\\n<ol>\\n<li>Memberikan onboarding pada aplikasi di entry point tertentu<ol>\\n<li>Registrasi Mobile Banking</li>\\n<li>Aktivasi Emoney</li>\\n</ol>\\n</li>\\n<li>Menambahkan wording “menjaga keamanan” pada SMS OTP dan Email notif</li>\\n<li>Social Media</li>\\n<li>Notifikasi himbauan “security awareness” regular</li>\\n</ol>\\n<p><strong>Hold Pencairan/Transaksi dengan rekomendasi Amount tertentu</strong></p>\\n<ul>\\n<li>Penambahan bisnis proses id Anti Fraud</li>\\n</ul>\\n\",\n",
    "        \"tanggal_content\": \"2022-12-29T04:52:30.070Z\",\n",
    "        \"author_content\": \"Rahmi\",\n",
    "        \"direktorat_content\": \"Digital Insight\",\n",
    "        \"PIC_Analyst\": \"Rahmi Julianasari\",\n",
    "        \"link_content\": \"http://10.0.232.117:3000/en/Insight/Data_Insight/EmoneyAbuse\"\n",
    "    },\n",
    "    {\n",
    "        \"topic_document\": \"Digital Insight\",\n",
    "        \"title_content\": \"<h1><a href=\\\"#program-promotion-agi-mobile-acqactv\\\"></a> Program Promotion Agi Mobile ACQ,ACTV</h1>\",\n",
    "        \"text_content\": \"<h1><a href=\\\"#program-promotion-agi-mobile-acqactv\\\"></a> Program Promotion Agi Mobile ACQ,ACTV</h1>\\n<p>Donasi</p>\\n<p>Pembelian Hewa Kurban</p>\\n<p>Jual murah</p>\\n<p>Produk</p>\\n<ul>\\n<li>hewan kurban</li>\\n<li>bumbu masak</li>\\n<li>arang, tusuk sate</li>\\n<li>ketupat</li>\\n<li>sembako</li>\\n</ul>\\n<p>Target subjek</p>\\n<ul>\\n<li>pedagang hewan kurban</li>\\n<li>subject untuk trigger donasi</li>\\n<li>pedagang bumbu/arang/tusuk sate/ketupat</li>\\n<li>Pedagang sembako, jual murah</li>\\n</ul>\\n\",\n",
    "        \"tanggal_content\": \"2022-12-29T04:43:13.615Z\",\n",
    "        \"author_content\": \"Arum\",\n",
    "        \"direktorat_content\": \"Tidak ada direktorat\",\n",
    "        \"PIC_Analyst\": \"Tidak ada PIC Analyst\",\n",
    "        \"link_content\": \"http://10.0.232.117:3000/en/Insight/Data_Insight/ProgramPromotionAgiMobileACQ,ACTV\"\n",
    "    },\n",
    "    {\n",
    "        \"topic_document\": \"Digital Insight\",\n",
    "        \"title_content\": \"<h1><a href=\\\"#startup-kasirpos-research\\\"></a> Startup Kasir/POS Research</h1>\",\n",
    "        \"text_content\": \"<h1><a href=\\\"#startup-kasirpos-research\\\"></a> Startup Kasir/POS Research</h1>\\n<p>Source: <a href=\\\"https://id.techinasia.com/kumpulan-startup-pos-di-indonesia\\\">https://id.techinasia.com/kumpulan-startup-pos-di-indonesia</a></p>\\n<ol>\\n<li>Moka</li>\\n<li>Pawoon</li>\\n<li>Majoo (add.)</li>\\n<li>Olsera</li>\\n<li>Deal POS</li>\\n<li>Omega POS Cloud</li>\\n<li>HelloBill</li>\\n<li>Nadi POS</li>\\n<li>Meeber POS</li>\\n<li>Dokuku</li>\\n<li>Folio</li>\\n<li>Qasir (Add.)</li>\\n</ol>\\n<h3><a href=\\\"#agi-use-case\\\"></a> AGI use case:</h3>\\n<ul>\\n<li>pake app kasir/POS partner, otomatis dibukain rekening AG</li>\\n<li>pembeli di toko bisa terima pembayaran QRIS pake QRISnya AG</li>\\n<li>pembeli di toko bisa pakai payment channelnya paprika (<a href=\\\"https://www.paprika.co.id\\\">https://www.paprika.co.id</a>)</li>\\n<li>prefer yang belum punya partnership eksklusif sama bank lain</li>\\n</ul>\\n<h3><a href=\\\"#comparison\\\"></a> Comparison</h3>\\n<figure>\\n<table>\\n<tbody>\\n<tr>\\n<td><strong>Startup</strong></td>\\n<td><strong>Website</strong></td>\\n<td><strong>Tag</strong></td>\\n<td><strong>Bisnis Model</strong></td>\\n<td><strong>Partnership</strong></td>\\n<td><strong>QRIS/VA/Payment Channel Use Case</strong></td>\\n<td><strong> </strong></td>\\n</tr>\\n<tr>\\n<td>Moka</td>\\n<td><code>https://www.mokapos.com/</code></td>\\n<td>\\n<p>- POS </p>\\n<p>- CRM </p>\\n<p>- Digital Lending (Moka Capital)</p>\\n</td>\\n<td>\\n<p>- Tablet is installed Moka POS mobile app </p>\\n<p>- Hardware<i> </i></p>\\n<p><i>- S</i>ubscription </p>\\n<p>- Moka Capital (digital lending) </p>\\n<p>- Digital Payment</p>\\n</td>\\n<td>\\n<p>- PT Mandiri Capital Indonesia, Bank Mandiri</p>\\n<p> - Modalku </p>\\n<p>- Commonwealth</p>\\n</td>\\n<td>\\n<p>- e-Wallet (digital payment) </p>\\n<p>- QRIS *MDR is applied</p>\\n</td>\\n<td> </td>\\n</tr>\\n<tr>\\n<td>Pawoon</td>\\n<td><code>https://www.pawoon.com/</code></td>\\n<td>\\n<p>- POS </p>\\n<p>- CRM</p>\\n</td>\\n<td>\\n<p>-Mobile app<i> </i></p>\\n<p><i>- S</i>ubscription </p>\\n<p>- Hardware </p>\\n<p>- Digital Payment </p>\\n</td>\\n<td>- No banking partner</td>\\n<td>\\n<p>- e-Wallet (digital payment) </p>\\n<p>- QRIS *MDR is applied </p>\\n<p>- VA for subscriber</p>\\n</td>\\n<td>Prefered 100.000+ install</td>\\n</tr>\\n<tr>\\n<td>Majoo</td>\\n<td> </td>\\n<td>\\n<p>- POS - Digital Lending: (Majoo Capital) </p>\\n<p>- Ads </p>\\n<p>- Omnichannel</p>\\n</td>\\n<td>\\n<p>- Mobile app</p>\\n<p><i> - S</i>ubscription</p>\\n<p> - Hardware </p>\\n<p>- Digital Payment </p>\\n</td>\\n<td>\\n<p>- modalku </p>\\n<p>- BRI </p>\\n<p>- Commonwealth </p>\\n<p>- BRI Ventures</p>\\n</td>\\n<td>\\n<p>- e-Wallet (digital payment) </p>\\n<p>- QRIS *MDR is applied</p>\\n</td>\\n<td> </td>\\n</tr>\\n<tr>\\n<td>Qasir</td>\\n<td>qasir.id</td>\\n<td>\\n<p>- POS</p>\\n<p>- Digital Lending</p>\\n</td>\\n<td>\\n<p>- Mobile app<i> </i></p>\\n<p><i>- S</i>ubscription </p>\\n<p>- Hardware </p>\\n<p>- Digital Payment </p>\\n</td>\\n<td>No banking partner</td>\\n<td>\\n<p>- e-Wallet (digital payment) </p>\\n<p>- QRIS *MDR is applied</p>\\n</td>\\n<td>\\n<p>Prefered but syariah</p>\\n<p>500.000+ install</p>\\n</td>\\n</tr>\\n<tr>\\n<td> Olsera</td>\\n<td> olsera.com</td>\\n<td>\\n<p> - POS </p>\\n<p>- Omnichannel</p>\\n</td>\\n<td>\\n<p> - Mobile app<i> </i></p>\\n<p><i>- S</i>ubscription </p>\\n<p>- Hardware </p>\\n<p>- Digital Payment </p>\\n</td>\\n<td> No banking partner</td>\\n<td>\\n<p> - e-Wallet (digital payment)</p>\\n<p> - QRIS *MDR is applied</p>\\n</td>\\n<td>Prefered 50.000+ Install</td>\\n</tr>\\n<tr>\\n<td> Deal POS</td>\\n<td> dealpos.co.id</td>\\n<td>\\n<p> - POS </p>\\n<p>- Digital Lending </p>\\n<p>- omnichannel </p>\\n<p>- Payment link</p>\\n</td>\\n<td>\\n<p> - Mobile apps </p>\\n<p>- Hardware </p>\\n<p>- subscription </p>\\n<p>- Digital Payment </p>\\n<p>- Omnichannel</p>\\n</td>\\n<td> No banking partner</td>\\n<td>\\n<p> - e-wallet(digital payment) </p>\\n<p>- QRIS </p>\\n<p>- Bank transfer/ATM</p>\\n</td>\\n<td>Prefered 5000+ Install</td>\\n</tr>\\n<tr>\\n<td> cashlez</td>\\n<td> </td>\\n<td> </td>\\n<td> </td>\\n<td> </td>\\n<td> </td>\\n<td>10000+ install</td>\\n</tr>\\n</tbody>\\n</table>\\n</figure>\\n<p> </p>\\n<h3><a href=\\\"#recommendation\\\"></a> Recommendation</h3>\\n<ul>\\n<li>Moka (kontak: venny xBL)</li>\\n<li>Pawoon (kontak: venny xBL)</li>\\n<li>Majoo</li>\\n<li>Olsera</li>\\n<li>DealPos</li>\\n<li>Qasir??? (syariah)</li>\\n</ul>\\n\",\n",
    "        \"tanggal_content\": \"2022-12-28T10:07:55.290Z\",\n",
    "        \"author_content\": \"Arum\",\n",
    "        \"direktorat_content\": \"Tidak ada direktorat\",\n",
    "        \"PIC_Analyst\": \"Tidak ada PIC Analyst\",\n",
    "        \"link_content\": \"http://10.0.232.117:3000/en/Insight/Data_Insight/StartupKasirPOSResearch\"\n",
    "    },\n",
    "    {\n",
    "        \"topic_document\": \"Digital Insight\",\n",
    "        \"title_content\": \"<h1><a href=\\\"#analisis-transaksi-scan-qris-atau-pay-now-pada-mobile-banking-oleh-nasabah-bank-artha-graha-internasional\\\"></a> <strong>Analisis Transaksi Scan QRIS atau Pay Now pada Mobile Banking Oleh Nasabah Bank Artha Graha Internasional</strong></h1>\",\n",
    "        \"text_content\": \"<p><span><strong>Analisis Transaksi Scan QRIS atau Pay Now pada Mobile Banking Oleh Nasabah Bank Artha Graha Internasional</strong></span></p>\\n<p> </p>\\n<figure>\\n<table>\\n<tbody>\\n<tr>\\n<th>Direktorat</th>\\n<td> Digital Insight</td>\\n</tr>\\n<tr>\\n<th>Sub Direktorat</th>\\n<td> MIS</td>\\n</tr>\\n<tr>\\n<th>Analysis Date</th>\\n<td> 2 - 14 Agustus 2023</td>\\n</tr>\\n<tr>\\n<th><strong>Analysis status</strong></th>\\n<td> Done</td>\\n</tr>\\n<tr>\\n<th><strong>Document status </strong></th>\\n<td> Done</td>\\n</tr>\\n<tr>\\n<th><strong>PIC  Analyst</strong></th>\\n<td> Theresia, Ratih, Iqbal</td>\\n</tr>\\n<tr>\\n<th>Stakeholder</th>\\n<td> -</td>\\n</tr>\\n<tr>\\n<th>Reference Document</th>\\n<td>\\n<ul>\\n<li> </li>\\n</ul>\\n</td>\\n</tr>\\n</tbody>\\n</table>\\n</figure>\\n<p> </p>\\n<p> </p>\\n<p> </p>\\n<p> </p>\\n<p> </p>\\n<p> </p>\\n<p> </p>\\n<p> </p>\\n<h2><a href=\\\"#version-history\\\"></a> Version History</h2>\\n<figure>\\n<table>\\n<tbody>\\n<tr>\\n<td><i><strong>Version</strong></i></td>\\n<td><i><strong>Date</strong></i></td>\\n<td><i><strong>Description</strong></i></td>\\n</tr>\\n<tr>\\n<td> </td>\\n<td> </td>\\n<td> </td>\\n</tr>\\n<tr>\\n<td> </td>\\n<td> </td>\\n<td> </td>\\n</tr>\\n<tr>\\n<td> </td>\\n<td> </td>\\n<td> </td>\\n</tr>\\n</tbody>\\n</table>\\n</figure>\\n<p> </p>\\n<p> </p>\\n<p> </p>\\n<p> </p>\\n<h1><a href=\\\"#background\\\"></a> <strong>Background</strong></h1>\\n<p>Seiring berkembangnya zaman, saat ini sudah banyak <i>merchant-merchant </i>ataupun penjual yang menggunakan metode <i>cashless</i> sebagai metode pembayaran, salah satunya dengan menggunakan QRIS. BAGI melalui aplikasi agi mobile menyediakan layanan <i>scan</i> QRIS atau Pay Now sebagai salah satu fasilitas untuk melakukan pembayaran secara <i>cashless</i> di <i>merchant-mechant </i>yang menyediakan faislitas tersebut. Diketahui transaksi penggunaan fasilitas <i>scan</i> QRIS atau Pay Now nasabah BAGI masih rendah. Untuk itu diambil sampel data transaksi <i>scan</i> QRIS atau Pay Now nasabah selama 6 bulan terakhir, yaitu pada periode Februari sampai dengan Juli 2023.</p>\\n<h1><a href=\\\"#data-source-time-scope\\\"></a> <strong>Data Source &amp; Time Scope</strong></h1>\\n<ol>\\n<li>Data nasabah yang melakukan transaksi QRIS atau Pay Now pada Februari-Juli 2023</li>\\n<li>Data CASA 31 Juli 2023</li>\\n</ol>\\n<h1><a href=\\\"#key-findings\\\"></a> <strong>Key Findings</strong></h1>\\n<ol>\\n<li>Dari 230.289 pengguna AGI Mobile, jumlah transaksi nasabah yang menggunakan <i>scan</i> QRIS/Pay Now hanya <strong>247.897 transaksi</strong> atau sebanding dengan 1x transaksi/user all time.</li>\\n<li>Terdapat <strong>10.929 nasabah</strong> melakukan transaksi <i>scan</i> QRIS all time dan <strong>8.264 nasabah </strong>dalam periode Februari sampai dengan Juli 2023.</li>\\n<li><strong>1.501 nasabah baru 2023 </strong>melakukan transaksi <i>scan</i> QRIS atau setidaknya 18% dari total nasabah yang bertransaksi QRIS pada Februari - Juli 2023.</li>\\n<li><strong>Nasabah Artha Payroll </strong>merupakan nasabah yang paling banyak melakukan transaksi <i>scan </i>QRIS.</li>\\n</ol>\\n<h1><a href=\\\"#recommendation\\\"></a> <strong>Recommendation</strong></h1>\\n<p>Sebutkan rekomendasi apa aja yang ingin dilakukan berdasarkan Key Findings</p>\\n<h1><a href=\\\"#analysis\\\"></a> <strong>Analysis</strong></h1>\\n<p>Tuliskan proses kalian dalam menganalisis, proses bisa diceritakan dahulu apa yang mau dicari, kemudian divisualisasi, lalu disimpulkan.</p>\\n<h1><a href=\\\"#appendix\\\"></a> <strong>Appendix</strong></h1>\\n<p>Masukin ke sini query, atau file2 kalian dari hasil analisis.</p>\\n\",\n",
    "        \"tanggal_content\": \"2023-08-04T07:57:55.310Z\",\n",
    "        \"author_content\": \"Ratih\",\n",
    "        \"direktorat_content\": \"Digital Insight\",\n",
    "        \"PIC_Analyst\": \"Theresia, Ratih, Iqbal\",\n",
    "        \"link_content\": \"http://10.0.232.117:3000/en/Insight/Data_Insight/templatedataanalysis\"\n",
    "    },\n",
    "    {\n",
    "        \"topic_document\": \"Digital Insight\",\n",
    "        \"title_content\": \"<h1><a href=\\\"#tracker-program-cashback\\\"></a> Tracker Program Cashback</h1>\",\n",
    "        \"text_content\": \"<h1><a href=\\\"#tracker-program-cashback\\\"></a> Tracker Program Cashback</h1>\\n<p> </p>\\n<p>Cashback Rule</p>\\n<ol>\\n<li>Cashback diberikan untuk TRANSAKSI PERTAMA setiap customer SEJAK START PERIODE PROMO<ol>\\n<li>merchantnya hanya ke yang eligible</li>\\n<li>kalo customer transaksi ke 3 merchant yang eligible ambil yang pertama</li>\\n</ol>\\n</li>\\n<li>Cashback hanya applied ke UMI, UKE</li>\\n<li>Cashback hanya X% max RpY</li>\\n</ol>\\n<p>WHAT DO WE WANT TO KNOW?</p>\\n<ol>\\n<li>jumlah merchant yang eligible</li>\\n<li>jumlah customer yang mendapat cashback</li>\\n<li>jumlah transaksi yang mendapatkan cashback &gt; harusnya sama kaya point 2</li>\\n<li>jumlah cashback yang keluar berdasarkan no 3 dnegan perhitungan % amount cashback</li>\\n</ol>\\n<p>Res:</p>\\n<p>Query:</p>\\n<p><a href=\\\"/automation_cashback_report.sql\\\">/automation_cashback_report.sql</a></p>\\n<p> </p>\\n<p> </p>\\n\",\n",
    "        \"tanggal_content\": \"2022-12-29T02:17:28.911Z\",\n",
    "        \"author_content\": \"Arum\",\n",
    "        \"direktorat_content\": \"Tidak ada direktorat\",\n",
    "        \"PIC_Analyst\": \"Tidak ada PIC Analyst\",\n",
    "        \"link_content\": \"http://10.0.232.117:3000/en/Insight/Data_Insight/TrackerProgramCashback\"\n",
    "    }\n",
    "]\n",
    "for test in data_test:\n",
    "    pattern = r'\\[.*?\\]\\s+(.*?)</h1>'\n",
    "    test['text_content'] = re.sub(r'<img\\s+src=\"', r'<img src=\"http://127.0.0.1:5000/get-image-semantic', test['text_content'])\n",
    "\n",
    "    # Menghapus karakter \\n pada atribut text_content\n",
    "    test['text_content'] = test['text_content'].replace('\\n', '')\n",
    "\n",
    "    soup = BeautifulSoup(test['title_content'], 'html.parser')\n",
    "    h1_element = soup.h1\n",
    "    if h1_element:\n",
    "        result = h1_element.get_text(strip=True)\n",
    "        test['title_content'] = result\n",
    "    else:\n",
    "        print(\"Tidak ada ditemukan tag h1 didalam element:\", test['title_content'])\n",
    "\n",
    "    test[\"text_content\"] = re.sub(r'<figure>.*?initial document.*?<\\/figure>', '', test[\"text_content\"], flags=re.DOTALL)\n",
    "    test[\"text_content\"] = re.sub(r'<figure>.*?Direktorat.*?<\\/figure>', '', test[\"text_content\"], flags=re.DOTALL)\n",
    "    test[\"text_content\"] = re.sub(r'<figure>.*?PIC Analyst.*?<\\/figure>', '', test[\"text_content\"], flags=re.DOTALL)    \n",
    "    test[\"text_content\"] = re.sub(r'<figure>.*?Description.*?<\\/figure>', '', test[\"text_content\"], flags=re.DOTALL)    \n",
    "\n",
    "    test['text_content'] = remove_xa0_tags(test['text_content'])\n",
    "\n",
    "    test['text_content'] = remove_h2_with_text(test['text_content'], \"Version History\")\n",
    "\n",
    "    soup_2 = BeautifulSoup(test['text_content'], 'html.parser')\n",
    "    p_elements = soup_2.find_all('p', string=re.compile(r'Analisis Transaksi Scan QRIS atau Pay Now pada Mobile Banking Oleh Nasabah Bank Artha Graha Internasional', re.IGNORECASE))\n",
    "    # Ubah tag <p> menjadi <h1>\n",
    "    for p_element in p_elements:\n",
    "        h1_tag = soup_2.new_tag('h1')\n",
    "        h1_tag.string = p_element.get_text()\n",
    "        p_element.replace_with(h1_tag)\n",
    "\n",
    "        # Update konten teks kembali ke data_test\n",
    "        test['text_content'] = str(soup_2)\n",
    "        \n",
    "    new_data_test.append(test)\n",
    "\n"
   ]
  },
  {
   "cell_type": "code",
   "execution_count": 38,
   "id": "30bda64a-652d-4060-84c7-ad7581aebf95",
   "metadata": {},
   "outputs": [
    {
     "name": "stdout",
     "output_type": "stream",
     "text": [
      "[{'topic_document': 'Digital Insight', 'title_content': '[07042022] Analisis Target Akuisisi dan Aktivasi Merchant QRIS', 'text_content': '<h1><a href=\"#h-07042022-analisis-target-akuisisi-dan-aktivasi-merchant-qris\"></a> [07042022] Analisis Target Akuisisi dan Aktivasi Merchant QRIS</h1><h2><a href=\"#latar-belakang-dan-tujuan\"></a> Latar Belakang dan Tujuan</h2><p>Analisis ini dibuat sebagai dasar pembuatan dan desain kontrol untuk strategi akuisisi dan aktivasi merchant QRIS.</p><p>Target full year 2022 adalah akuisisi 100.000 merchant QRIS, dan 1 Trilyun CASA. Dimana transaksi QRIS adalah salah satu channel untuk mencapai target CASA. Oleh karena itu perlu dilakukan analisis untuk menyusun strategi akuisisi dan aktivasi merchant QRIS, menurunkan teknis pelaksanaan di lapangan, dan desain &amp; mekanisme kontrol pelaksanaannya.</p><h2><a href=\"#temuan-utama\"></a> Temuan Utama</h2><h3><a href=\"#simulasi-target\"></a> Simulasi Target</h3><p>Berangkat dari target 100 ribu customer dan asumsi 1T target CASA bisa didapatkan <strong>seluruhnya</strong> dari transaksi QRIS. Skema simulasi menggunakan skema Referral yang sudah terdefinisi di dokumen ‘Target 1 Juta Nasabah’.</p><h3><a href=\"#simulasi-kondisi-ideal\"></a> Simulasi kondisi ideal</h3><p>Dalam simulasi ini, metric yang harus dijaga untuk dapat mencapai tujuan adalah:</p><p>Metric akuisisi merchant:</p><ol><li>Rasio Merchant Aktif: 20%</li><li>Merchant MGM % Merchant Aktif: 30%</li><li>Rata-rata Akuisisi per Merchant MGM: 5 merchant</li></ol><p>Metric aktivasi merchant:</p><ol><li>Banyaknya Transaksi per Merchant: 150 transaksi</li><li>Rata-rata Nilai Transaksi: IDR 100.000</li></ol><figure><img src=\"http://127.0.0.1:5000/get-image-semantic/aktivasimerchantqris/untitled.png\"/></figure><p>Hasil simulasi menunjukkan performa hingga 130% untuk akuisisi merchant dan 120% untuk transaksi.</p><h3><a href=\"#simulasi-kondisi-gradual\"></a> Simulasi kondisi gradual</h3><p>Dalam simulasi ini, terdapat asumsi dimana peningkatan secara gradual jumlah merchant MGM yaitu dari 5% di April, meningkat hingga 30% di September. Asumsi metric yang lain adalah sama.</p><figure><img src=\"http://127.0.0.1:5000/get-image-semantic/aktivasimerchantqris/untitled_1.png\"/></figure><p>Hasil simulai menunjukkan performa hanya 77% dan 73% untuk akuisisi dan transaksi, dimana keduanya masih jauh dari target.</p><h3><a href=\"#simulai-kondisi-realistis\"></a> Simulai kondisi realistis</h3><p>Dalam simulasi ini, ditambahkan asumsi pertumbuhan merchant aktif secara gradual mulai dari 13% (data per Maret) hingga 25% di bulan Juli.</p><figure><img src=\"http://127.0.0.1:5000/get-image-semantic/aktivasimerchantqris/untitled_2.png\"/></figure><p>Hasil simulasi menunjukkan performa di 100% dan 98% untuk akuisisi dan transaksi.</p><h3><a href=\"#kondisi-aktual-posisi-maret-2022\"></a> Kondisi Aktual (Posisi Maret 2022)</h3><p>Secara holistik, Rasio Merchant Aktif adalah 12.8%, Banyaknya Transaksi per Merchant adalah 30, dan Rata-rata Nilai Transaksi adalah IDR 90.886, dimana ketiganya perlu diperbaiki untuk memenuhi kriteria simulasi.</p><p>Mengenai kondisi metric cabang:</p><p>Rasio Merchant Aktif:</p><figure><img src=\"http://127.0.0.1:5000/get-image-semantic/aktivasimerchantqris/untitled_3.png\"/></figure><p>Transaksi per Merchant</p><figure><img src=\"http://127.0.0.1:5000/get-image-semantic/aktivasimerchantqris/untitled_4.png\"/></figure><p>Rata-rata Nilai Transaksi:</p><figure><img src=\"http://127.0.0.1:5000/get-image-semantic/aktivasimerchantqris/untitled_5.png\"/></figure><p>Metric yang paling utama untuk diperbaiki adalah metric aktivasi, yaitu Rasio Merchant Aktif dan Transaksi per Merchant.</p><h2><a href=\"#rekomendasi\"></a> Rekomendasi</h2><p>Kunci keberhasilan simulasi adalah peran Merchant yang aktif sebagai perpanjangan tangan Cabang; baik untuk mengakuisisi merchant lain, dan mempromosikan penggunaan QRIS BAG. Untuk itu perlu dipastikan hubungan baik Cabang dan Merchant sehingga terjalin kerjasama yang berdampak positif terhadap bisnis Merchant dan Bank.</p><p>Untuk menunjang kunci keberhasilan tersebut, perlu adanya tracking dan definisi target untuk metric tertentu kepada cabang, baik itu dalam aspek akuisisi maupun aktivasi.</p><p>Perlu adanya gamifikasi sebagai sarana berkompetisi antar cabang, dan perlu diadakan reward bagi cabang yang membuktikan prestasinya.</p><p>Oleh karena itu, direkomendasikan model pemantauan metric berupa kuadran capaian dengan poros-poros:</p><ol><li>Metric Akuisisi: Total Merchant, dimana pencapaian cabang dibagi berpusat pada median akuisisi cabang.</li><li>Metric Aktivasi: Raiso Merchant aktif, dimana pencapaian cabang dibagi berpusat pada target user aktif (20%)</li></ol><figure><img src=\"http://127.0.0.1:5000/get-image-semantic/aktivasimerchantqris/untitled_6.png\"/></figure><p>Target user aktif harus rutin dikaji berdasarkan realisasi capaian cabang dan kebutuhan pemenuhan target tahun 2022</p><p>Perlu adanya arahan rutin ke cabang sebagai sarana cabang untuk mengidentifikasi merchant yang perlu distimulasi untuk kembali aktif dan/atau diberikan apresiasi karena telah menjadi merchant yang loyal kepada BAG.</p>', 'tanggal_content': '2022-12-28T02:53:36.352Z', 'author_content': 'Rahmi', 'direktorat_content': 'Digital Insight', 'PIC_Analyst': 'Ghifari Daulagiri', 'link_content': 'http://10.0.232.117:3000/en/Insight/Data_Insight/AnalisisTargetAkuisisidanAktivasiMerchantQRIS'}, {'topic_document': 'Digital Insight', 'title_content': '[08042022] Database Promo Ideation', 'text_content': '<h1><a href=\"#h-08042022-database-promo-ideation\"></a> [08042022] Database Promo Ideation</h1><p>Berdasarkan <a href=\"http://10.0.231.117:3000/en/Insight/AnalisisTargetAkuisisidanAktivasiMerchantQRIS\">[07042022] Analisis Target Akuisisi dan Aktivasi Merchant QRIS</a> , rekomendasi promo yang ditargetkan adalah</p><ol><li>Metric Akuisisi: Total Merchant, dimana pencapaian cabang dibagi berpusat pada median akuisisi cabang.</li><li>Metric Aktivasi: Raiso Merchant aktif, dimana pencapaian cabang dibagi berpusat pada target user aktif (20%)</li></ol><p>Dengan skema pemberian promo berdasarkan mapping kuadran ini</p><figure><img src=\"http://127.0.0.1:5000/get-image-semantic/database_promo.png\"/></figure><figure><table><thead><tr><th>No</th><th>Promo</th><th>Bentuk Promo</th><th>Mekanisme Promo</th><th>Achievement</th></tr></thead><tbody><tr><td>0</td><td>promo apa yang diusulkan?</td><td>bentuknya diskon, cashback, atau apa?</td><td>bagiamana skema promo-nya?</td><td>apa yang mission yang diachieve untuk kita</td></tr><tr><td>1</td><td>Merchant discount</td><td>Discount or cashback</td><td>User mendapatkan sejumlah X% discount max A jika belanja di merchant tertentu (yang sudah ditentukan merchantnya) dengan AGI mobile/agicash</td><td>Meningkatkan activation dan retention user; target Activation Zone dan Hall of Fame</td></tr><tr><td>2</td><td>Mission Referral</td><td>Cashback &amp; Gamification</td><td>Referrer akan mendapatkan cashback sejumlah X jika TELAH mencapai misi refer P orang untuk memuat akun agi mobile/agicash</td><td>Meningkatkan acquisition; Dengan gamification user akan distimulasi untuk melakukan misi mencapai target cashback; target Acquisition Zone</td></tr><tr><td>3</td><td>Mission Referral Transaction</td><td>Cashback &amp; Gamification</td><td>Referrer dan Referee mendapatkan cashback sejumlah X jika Referee telah membuat transaksi pertama</td><td>Meningkatkan acquisition dan activation; Dengan gamification user akan distimulasi untuk melakukan misi mencapai target cashback; target Acquisition Zone dan Activation Zone</td></tr><tr><td>4</td><td>Mission Transaction</td><td>Cashback &amp; Gamification</td><td>User mendapatkan cashback sejumlah X jika telah mencapai misi membuat transaksi sebanyak N kali</td><td>Meningkatkan activation; Dengan gamification user akan distimulasi untuk melakukan misi mencapai target cashback; target Activation Zone</td></tr><tr><td>5</td><td>Mission Create AGI Account</td><td>Cashback &amp; Gamification</td><td>User mendapatkan cashback sejumlah X jika mendaftarkan akun menjadi nasabah AGI</td><td>Meningkatkan activation AGI acccount (Tabungan Icon bukan ya???)</td></tr><tr><td>6</td><td>Discount admin fee connect to emoney</td><td>Discount</td><td>User mendapatkan discount admin fee untuk topup emoney; misalnya GOPAY, OVO (*lumayan 1000)</td><td>Meningkatkan activation dan retention user; target Activation Zone dan Hall of Fame</td></tr><tr><td>7</td><td>Voucher redeem</td><td>Cashback</td><td>AGI menyediakan sejulah voucher untuk di redeem, user bisa kapan saja redeem; voucher juga memiliki waktu expired</td><td>Meningkatkan activation dan retention user; target Activation Zone dan Hall of Fame</td></tr><tr><td>8</td><td>Donasi</td><td>-</td><td>Menambahkan fitur donasi ketika melakukan pembayaran</td><td>Meningkatkan value “for others”</td></tr><tr><td>9</td><td>Program mendapatkan ide dari internal, sebulan sekali atau 2 bulan sekali</td><td>Voucher atau cashback di Agi mobile</td><td>Membuat program untuk intenal AGI (ditentukan siapa); siapa pun yang punya ide untuk meningkatkan acquisition atau activation atau program yang bsa membantu mencapai target, maka akan mendaatkan voucher yang bisa di redeem</td><td>Meningkatkan bounding di internal AGI dan gotong royong mencapat target; sekaligus mengajak karyawan menggunakan agi mobile dan bertransaksi dengan agi mobile</td></tr><tr><td>10</td><td>Hackethon Bug Bountie atau Deasign</td><td>Voucher atau cashback di Agi mobile</td><td>Membuat program bug bountie atau design aplikasi untuk internal karyawan</td><td>Meningkatkan bounding di internal AGI dan gotong royong mencapat target AGI; sekaligus mengajak karyawan menggunakan agi mobile dan bertransaksi dengan agi mobile</td></tr><tr><td>11</td><td>Posting terkait AGI mobile dan undian pemenang</td><td>Voucher atau cashback di Agi mobile</td><td>Membuat program posting sesuatu yang kreatif atau yang sudah ditentukan (misal ada event tertentu); lalu post di instagram</td><td>Meningkatkan bounding di internal AGI dan gotong royong mencapat target AGI; sekaligus mengajak karyawan menggunakan agi mobile dan bertransaksi dengan agi mobile</td></tr></tbody></table></figure>', 'tanggal_content': '2022-12-28T08:26:29.398Z', 'author_content': 'Rahmi', 'direktorat_content': 'Digital Insight', 'PIC_Analyst': 'Ghifari Daulagiri', 'link_content': 'http://10.0.232.117:3000/en/Insight/Data_Insight/DatabasePromoIdeation'}, {'topic_document': 'Digital Insight', 'title_content': '[10032022] Analisis Transaksi Untuk Targeted Marketing', 'text_content': '<h1><a href=\"#h-10032022-analisis-transaksi-untuk-targeted-marketing\"></a> [10032022] Analisis Transaksi Untuk Targeted Marketing</h1><h2><a href=\"#latar-belakang-dan-tujuan\"></a> Latar Belakang dan Tujuan</h2><p>Saat ini manajemen <i>Lead Base</i> kita belum optimal untuk membuat sebuah keputusan bisnis sehingga Ketika melakukan aktivitas sales ke nasabah/calon nasabah, eksekusi di lapangan masih sporadis dan tidak terfokuskan ke target pasar yang dituju</p><p>Analisis ini dibuat untuk memberikan insight dalam penentuan fokus dan opsi aktivitas pre-sales dan sales ke nasabah/calon nasabah.</p><h2><a href=\"#temuan-utama\"></a> Temuan Utama</h2><p>Data yang digunakan adalah data nasabah snapshot per Maret 2022, data finansial sepanjang Februari 2022, data transaksi sepanjang bulan Januari 2022.</p><h2><a href=\"#distribusi-usia-nasabah-dan-perilaku-bertransaksi\"></a> Distribusi Usia Nasabah dan Perilaku Bertransaksi</h2><figure><img src=\"http://127.0.0.1:5000/get-image-semantic/transaksiuntuktargetedmarketing/untitled.png\"/></figure><p>Distribusi nasabah terkonsentrasi di usia produktif 25-40 tahun. Ini sejalan dengan kondisi dimana rekening artha graha banyak terdiri dari rekening payroll.</p><p>Dana tersebut juga merupakan dana aktif, dalam artian perputaran dana masuk dan keluar (e.g. transaksi, transfer, pembayaran) terjadi dan lancar.</p><p>Statemen tersebut juga dapat divalidasi dengan konsentrasi dana simpanan, dimana konsentrasi AUM justru tersebar di distribusi usia yang lebih tua.</p><figure><img src=\"http://127.0.0.1:5000/get-image-semantic/transaksiuntuktargetedmarketing/untitled_1.png\"/></figure><p>Artinya analisis lebih lanjut harus dilakukan di segmen usia 25-40 tahun apabila tujuan analisis adalah menemukan pola transaksi dan mendorong perilaku bertransaksi menggunakan solusi pembayaran AGI Mobile.</p><h2><a href=\"#korelasi-usia-jenis-pekerjaan-dan-transaksi\"></a> Korelasi Usia, Jenis Pekerjaan, dan Transaksi</h2><figure><img src=\"http://127.0.0.1:5000/get-image-semantic/transaksiuntuktargetedmarketing/untitled_2.png\"/></figure><p>Diatas adalah visualisasi 10 jenis pekerjaan dengan nasabah terbanyak.</p><blockquote><p>💡 Terlihat bahwa konsentrasi nasabah ada di Administrasi Umum, Buruh, Pengamanan, Pegawai Swasta, dan Hospitality.</p></blockquote><figure><img src=\"http://127.0.0.1:5000/get-image-semantic/transaksiuntuktargetedmarketing/untitled_3.png\"/></figure><p>Selanjutnya kita akan kembali menguatkan fokus ke segmen tersebut.\\xa0</p><blockquote><p>💡 Mayoritas perilaku transaksi adalah Transfer, baik pemindahbukuan atau ke bank lain. Ini adalah hal yang <strong>tidak diinginkan</strong>.</p></blockquote><p>Apabila mayoritas nasabah hanya melakukan transfer dana keluar BAG, hal yang perlu diketahui lagi adalah segmen nasabah mana saja yang saat ini menggunakan produk BAG untuk melakukan transaksi pembayaran atau top-up.</p><figure><img src=\"http://127.0.0.1:5000/get-image-semantic/transaksiuntuktargetedmarketing/untitled_4.png\"/></figure><p>Terlihat bahwa nasabah dengan jenis pekerjaan Administrasi Umum, Buruh, Pengamanan, Pegawai Swasta, dan Hospitality termasuk segmen nasabah yang memiliki perilaku bertransaksi pembayaran dan Top-Up e-wallet.</p><p>Selain 5 segmen diatas, pelajar dan mahasiswa juga memiliki appetite yang tinggi untuk melakukan pembayaran.</p><figure><img src=\"http://127.0.0.1:5000/get-image-semantic/transaksiuntuktargetedmarketing/untitled_5.png\"/></figure><h2><a href=\"#kesimpulan\"></a> Kesimpulan</h2><p>Ada beberapa hal yang perlu digarisbawahi:</p><ol><li>Terdapat appetite untuk menggunakan platform BAG dalam melakukan pembayaran</li><li>Segmen nasabah yang potensial untuk disasar adalah:<ol><li>Pekerja white-collar dengan income menengah kebawah (&lt;10 juta)</li><li>Pekerja blue-collar</li><li>Buruh</li><li>Pengamanan</li></ol></li><li>Segmen pelajar/mahasiswa dengan usia dibawah produktif (15-25 tahun) memiliki appetite yang tinggi dalam melakukan transaksi pembayaran; walau dana yang masuk ke rekening relatif kecil daripada segmen usia produktif.</li></ol><h2><a href=\"#rekomendasi\"></a> Rekomendasi</h2><p>Untuk rekomendasi merchant, selain gerai makanan/kuliner, fokus marketing dan akuisisi merchant harus mendukung dan dirasakan menarik oleh segmen nasabah diatas. Contoh:</p><ol><li>Warmindo di sekitar lokasi pabrik/kost</li><li>Bengkel modifikasi sepeda motor</li><li>Distributor sparepart dan aksesoris sepeda motor</li><li>Distribusi sembako</li></ol><p>Perlu riset dan survey lebih lanjut ke segmen nasabah tersebut untuk mencari tahu lebih jauh mengenai preferensi transaksi mereka.</p><p>Perlu riset dan survey lebih lanjut terhadap kompetitor: OVO dan LINKAJA. Terutama sub-produk apa dari kompetitor yang dipakai oleh nasabah BAG.</p><h2><a href=\"#action-items\"></a> Action Items</h2><p>[ ] <strong>[PIC: Agnes &amp; Dian]</strong> Penyusunan program acquisition &amp; promo untuk:</p><ol><li>Pulsa &amp; paket data, Games —&gt; untuk segment pelajar &amp; mahasiswa —&gt; Mobile Legend, Free Fire, Apex Legend</li><li>Bengkel Modifikasi &amp; Aksesori Motor —&gt; untuk segment buruh dan pekerja</li><li>Sembako —&gt; untuk karyawan group dan all existing nasabah</li><li>Warmindo (warung indomie) —&gt; untuk segment buruh dan pekerja</li><li>% Agi Mobile User</li><li>New Customer/Conversion</li><li>Feebased income</li><li>Cost/Burn rate</li></ol><p>[x] [PIC: Bu Erika] Penyusunan naskah survey untuk riset lebih lanjut tentang use-case mobile banking/payment di segmen tersebut; Target: Senin 14 Maret 2022</p><p>[ ] [PIC: Bu Erika + Indri] Eksekusi survey untuk existing nasabah atau pengguna didalam group AG</p><p>Target: 361 data points</p><p>[ ] [PIC: Agnes] Eksekusi survey untuk target segment diluar group</p><p>Target: 361 data points</p>', 'tanggal_content': '2022-11-21T07:47:10.918Z', 'author_content': 'Administrator', 'direktorat_content': 'Tidak ada direktorat', 'PIC_Analyst': 'Tidak ada PIC Analyst', 'link_content': 'http://10.0.232.117:3000/en/Insight/Data_Insight/analisistransaksiuntuktargetedmarketing'}, {'topic_document': 'Digital Insight', 'title_content': 'Analisis Merchant QRIS Demografi', 'text_content': '<h1><a href=\"#analisis-merchant-qris-demografi\"></a> Analisis Merchant QRIS Demografi</h1><p>Source:</p><p><a href=\"/data insight/merchant_bahan_meeting_202304_(1).xlsx\">/data insight/merchant_bahan_meeting_202304_(1).xlsx</a></p><h3><a href=\"#grouping-category-cleansing\"></a> Grouping Category (Cleansing)</h3><pre v-pre=\"true\"><code>                  , CASE                        WHEN REGEXP_LIKE(MQ.MERCHANT_NAME, \\'warteg|KUE|ayam|bakso|warteg|soto|makan|burger|kfc|food|sapi|bebek|mcd|nasi|cafe|sate|rawon|gudeg|pempek|rendang|gado|martabak|udang|mie|ikan|jamur|otak|goreng|bubur|rujak|pecel|laksa|kerupuk|lapis|puding|gulai|pepes|perkedel|sayur|sop|lontong|karedok|ketupat|tahu|gorengan|serabi|kolak|lemang|batagor|telor|semur|coffee|kopi|angkringan|dimsum|kedai|butter|catering|shihlin|solaria|fresh|xi bo ba|jco|es|janji jiwa|steak|starbucks|bakmie|shigeru|kintan|gelato|minang|crepes|onigiri|geprek|teh|kokumi|warteq|sushi|mkn|shushu|buah|kkuldak|chicken|corndog|dapur|bakery|buah|truffle|kemchicks|kantin|nyapii|kebab|makaroni|tongseng|susu|ikkudo|coffe|bakmi|koi|crepes|wingstop|ngopi|chatime|reddog|pagi sore|tea|corner|rice|koppi|warkop|ramen|eat|waroeng|masakan|wearung|jus|delico|stroberi|shabu|pig|kwetiau|kitchen|baso|lumpia|warunk|takoyaki|pizza|drinks|dessert|rotbak|auntie anne|babi|gokana|crispy|montato|yoshinoya|boba|cendol|dapoer|bbq|menantea|A&amp;W|bobain|sushi|bak|roti|chashio|uncle k|alpukat|dum|cilok|banana|wendy|kokoho|magal|kantin|juice|gokana|warunk|cream|hakata|steamboat|wing|puyo|wasabi|waroeng|potato|nasgorgil|nasgor|snack|ikkudo|saoenk|doner|broadway|jfc|imperial|kitamura|subway|breadtalk|kangtebu|shabu|talas|soerabi|eatlah|sandwich|xing fu tang|crispy|the harvest|warkop|zenbu|toast|roti|aroma|bkso|foodhall|warsun|pappajack|rm\\') THEN \\'FOOD &amp; BEVERAGE\\'                        WHEN REGEXP_LIKE(MQ.MERCHANT_NAME,                                         \\'warung|mart|circle k|alfamart|alfamidi|market|kios|miniso|lawson|daiso|indomaret\\')                            THEN \\'VARIETY_STORE\\'                        WHEN REGEXP_LIKE(MQ.MERCHANT_NAME,                                         \\'pay|tokko|bayar|tokopedia|indodax|blibli|itemku|guardian\\')                            THEN \\'E-COMMERCE\\'                        WHEN MQC.DESCRIPTION = \\'Regular\\' THEN \\'REGULAR\\'                        WHEN MQC.DESCRIPTION = \\'FAST FOOD RESTAURANTS\\' THEN \\'FOOD &amp; BEVERAGES\\'                        WHEN MQC.DESCRIPTION = \\'MISCELLANEOUS FOOD SHOPS-CONVENIENCE AND SPECIALITY RETAIL OUTLETS\\'                            THEN \\'RETAIL OUTLETS\\'                        WHEN MQC.DESCRIPTION = \\'SERVICE STATION\\' THEN \\'BUILDING, ELECTRONICS, AUTOMOTIVE SERVICES\\'                        WHEN MQC.DESCRIPTION = \\'GROCERIES AND SUPERMARKETS\\' THEN \\'GROCERIES AND SUPERMARKETS\\'                        WHEN MQC.DESCRIPTION = \\'OTHERS-NOT ELSEWHERE CLASSIFIED\\' THEN \\'OTHERS-NOT ELSEWHERE CLASSIFIED\\'                        WHEN MQC.DESCRIPTION = \\'MISCELLANEOUS AND SPECIALITY RETAIL OUTLETS\\' THEN \\'RETAIL OUTLETS\\'                        WHEN MQC.DESCRIPTION = \\'FAMILY CLOTHING SHOPS\\' THEN \\'CLOTHING FASHION\\'                        WHEN MQC.DESCRIPTION = \\'ACCOUNTING, AUDITING AND BOOKKEEPING SERVICES\\' THEN \\'OTHER SERVICES\\'                        WHEN MQC.DESCRIPTION = \\'BEAUTY AND BARBER SHOPS\\' THEN \\'BEAUTY AND BARBER SHOPS\\'                        WHEN MQC.DESCRIPTION = \\'VARIETY STORES\\' THEN \\'VARIETY STORES\\'                        WHEN MQC.DESCRIPTION = \\'MEN’S AND WOMEN’S CLOTHING SHOPS\\' THEN \\'CLOTHING FASHION\\'                        WHEN MQC.DESCRIPTION = \\'WOMEN’S ACCESSORY AND SPECIALITY SHOPS\\' THEN \\'BEAUTY SHOP\\'                        WHEN MQC.DESCRIPTION = \\'BAKERIES\\' THEN \\'FOOD &amp; BEVERAGES\\'                        WHEN MQC.DESCRIPTION = \\'ELECTRONICS SHOPS\\' THEN \\'HOME SUPPLIES\\'                        WHEN MQC.DESCRIPTION = \\'CLOTHING RENTALS - COSTUMES, UNIFORMS AND FORMAL WEAR\\'                            THEN \\'CLOTHING FASHION\\'                        WHEN MQC.DESCRIPTION = \\'AIRLINES AND AIR CARRIERS\\' THEN \\'OTHER SERVICES\\'                        WHEN MQC.DESCRIPTION = \\'WOMEN’S READY-TO-WEAR SHOPS\\' THEN \\'CLOTHING FASHION\\'                        WHEN MQC.DESCRIPTION =                             \\'DRINKING PLACES (ALCOHOLIC BEVERAGES) - BARS, TAVERNS, NIGHT-CLUBS, COCKTAIL LOUNGES AND DISCOTHÈQUES\\'                            THEN \\'FOOD &amp; BEVERAGES\\'                        WHEN MQC.DESCRIPTION = \\'TELECOMMUNICATION EQUIPMENT AND TELEPHONE SALES\\' THEN \\'TELCO &amp; PEYMENT\\'                        WHEN MQC.DESCRIPTION = \\'FOOD &amp; BEVERAGE\\' THEN \\'FOOD &amp; BEVERAGE\\'                        WHEN MQC.DESCRIPTION = \\'COSMETIC SHOPS\\' THEN \\'BEAUTY SHOP\\'                        WHEN MQC.DESCRIPTION = \\'TRANSPORTATION SERVICES (NOT ELSEWHERE CLASSIFIED)\\'                            THEN \\'BUILDING, ELECTRONICS, AUTOMOTIVE SERVICES\\'                        WHEN MQC.DESCRIPTION = \\'GOVERNMENT SERVICES (NOT ELSEWHERE CLASSIFIED)\\' THEN \\'OTHER SERVICES\\'                        WHEN MQC.DESCRIPTION = \\'GOVERMENTS SERVICES (NOT ELSEWHERE CLASSIFIED)\\' THEN \\'OTHER SERVICES\\'                        WHEN MQC.DESCRIPTION = \\'Government Service\\' THEN \\'OTHER SERVICES\\'                        WHEN MQC.DESCRIPTION = \\'TAILORS, SEAMSTRESSES, MENDING AND ALTERATIONS\\' THEN \\'CLOTHING FASHION\\'                        WHEN MQC.DESCRIPTION = \\'AUTOMOTIVE SERVICE SHOPS (NON-DEALER)\\' THEN \\'AUTOMOTIVE\\'                        WHEN MQC.DESCRIPTION =                             \\'FURNITURE, HOME FURNISHINGS AND EQUIPMENT SHOPS AND MANUFACTURERS, EXCEPT APPLIANCES\\'                            THEN \\'HOME SUPPLIES\\'                        WHEN MQC.DESCRIPTION = \\'MISCELLANEOUS PERSONAL SERVICES - NOT ELSEWHERE CLASSIFIED\\'                            THEN \\'OTHER SERVICES\\'                        WHEN MQC.DESCRIPTION = \\'AUTOMOTIVE PARTS AND ACCESSORIES OUTLETS\\' THEN \\'AUTOMOTIVE\\'                        WHEN MQC.DESCRIPTION = \\'PUBLIC GOLF COURSES\\' THEN \\'OTHER SERVICES\\'                        WHEN MQC.DESCRIPTION = \\'PET SHOPS, PET FOOD AND SUPPLIES\\' THEN \\'PET SHOP\\'                        WHEN MQC.DESCRIPTION = \\'MEN’S AND BOYS’ CLOTHING AND ACCESSORY SHOPS\\' THEN \\'CLOTHING FASHION\\'                        WHEN MQC.DESCRIPTION = \\'HOME SUPPLY WAREHOUSE OUTLETS\\' THEN \\'HOME SUPPLIES\\'                        WHEN MQC.DESCRIPTION = \\'HOBBY, TOY AND GAME SHOPS\\' THEN \\'HOBBY, TOY AND GAME SHOPS\\'                        WHEN MQC.DESCRIPTION = \\'LAUNDRY SERVICES - FAMILY AND COMMERCIAL\\' THEN \\'LAUNDRY\\'                        WHEN MQC.DESCRIPTION = \\'DAIRIES\\' THEN \\'GROCERIES AND SUPERMARKETS\\'                        WHEN MQC.DESCRIPTION = \\'SHOE SHOPS\\' THEN \\'CLOTHING FASHION\\'                        WHEN MQC.DESCRIPTION = \\'PAYMENT SERVICE PROVIDER\\' THEN \\'TELCO &amp; PEYMENT\\'                        WHEN MQC.DESCRIPTION = \\'FLORISTS\\' THEN \\'HOBBY, TOY AND GAME SHOPS\\'                        WHEN MQC.DESCRIPTION = \\'LAUNDRY, CLEANING AND GARMENT SERVICES\\' THEN \\'LAUNDRY\\'                        WHEN MQC.DESCRIPTION = \\'CANDY, NUT AND CONFECTIONERY SHOPS\\' THEN \\'FOOD &amp; BEVERAGES\\'                        WHEN MQC.DESCRIPTION = \\'MISCELLANEOUS APPAREL AND ACCESSORY SHOPS\\' THEN \\'BEAUTY SHOP\\'                        WHEN MQC.DESCRIPTION = \\'CONSTRUCTION MATERIALS (NOT ELSEWHERE CLASSIFIED)\\'                            THEN \\'BUILDING, ELECTRONICS, AUTOMOTIVE SERVICES\\'                        WHEN MQC.DESCRIPTION = \\'BLUEPRINTING AND PHOTOCOPYING SERVICES\\' THEN \\'OFFICE &amp; SCHOOL SUPPLIES\\'                        WHEN MQC.DESCRIPTION = \\'SCHOOLS AND EDUCATIONAL SERVICES (NOT ELSEWHERE CLASSIFIED)\\'                            THEN \\'OFFICE &amp; SCHOOL SUPPLIES\\'                        WHEN MQC.DESCRIPTION = \\'LODGING - HOTELS, MOTELS AND RESORTS\\' THEN \\'OTHER SERVICES\\'                        WHEN MQC.DESCRIPTION = \\'GIFT, CARD, NOVELTY AND SOUVENIR SHOPS\\' THEN \\'BEAUTY SHOP\\'                        WHEN MQC.DESCRIPTION = \\'HEALTH AND BEAUTY SPAS\\' THEN \\'BEAUTY AND BARBER SHOPS\\'                        WHEN MQC.DESCRIPTION = \\'DRUG STORES AND PHARMACIES\\' THEN \\'HOSPITAL &amp; MEDICAL\\'                        WHEN MQC.DESCRIPTION = \\'INDUSTRIAL SUPPLIES (NOT ELSEWHERE CLASSIFIED)\\'                            THEN \\'BUILDING, ELECTRONICS, AUTOMOTIVE SERVICES\\'                        WHEN MQC.DESCRIPTION = \\'JEWELLERY, WATCH, CLOCK AND SILVERWARE SHOPS\\' THEN \\'CLOTHING FASHION\\'                        WHEN MQC.DESCRIPTION = \\'AQUARIUMS, SEAQUARIUMS AND DOLPHINARIUMS\\'                            THEN \\'HOBBY, TOY AND GAME SHOPS\\'                        WHEN MQC.DESCRIPTION = \\'WHOLESALE CLUBS\\' THEN \\'WHOLESALE CLUBS\\'                        WHEN MQC.DESCRIPTION = \\'AUTOMOTIVE BODY REPAIR SHOPS\\' THEN \\'AUTOMOTIVE\\'                        WHEN MQC.DESCRIPTION = \\'DENTAL/LABORATORY/MEDICAL/OPHTHALMIC HOSPITAL EQUIPMENT AND SUPPLIES\\'                            THEN \\'HOSPITAL &amp; MEDICAL\\'                        WHEN MQC.DESCRIPTION = \\'STATIONERY, OFFICE SUPPLIES AND PRINTING AND WRITING PAPER\\'                            THEN \\'OFFICE &amp; SCHOOL SUPPLIES\\'                        WHEN MQC.DESCRIPTION =                             \\'TELECOMMUNICATION SERVICES, INCLUDING LOCAL AND LONG DISTANCE CALLS, CREDIT CARD CALLS, CALLS THROUGH USE OF MAGNETIC STRIPE READING TELEPHONES AND FAXES\\'                            THEN \\'TELECOMMUNICATION EQUIPMENT AND TELEPHONE SALES\\'                        WHEN MQC.DESCRIPTION = \\'OPTICAL GOODS AND EYEGLASSES\\' THEN \\'BEAUTY SHOP\\'                        WHEN MQC.DESCRIPTION = \\'CAR WASHES\\' THEN \\'AUTOMOTIVE\\'                        WHEN MQC.DESCRIPTION = \\'CHILDREN’S AND INFANTS’ WEAR SHOPS\\' THEN \\'CLOTHING FASHION\\'                        WHEN MQC.DESCRIPTION = \\'FLORISTS, SUPPLIES, NURSERY STOCK AND FLOWERS\\' THEN \\'HOME SUPPLIES\\'                        WHEN MQC.DESCRIPTION = \\'REAL ESTATES AGENT, MANAGER &amp; RENTAL\\'                            THEN \\'BUILDING, ELECTRONICS, AUTOMOTIVE SERVICES\\'                        WHEN MQC.DESCRIPTION = \\'CIGAR SHOPS AND STANDS\\' THEN \\'HOBBY, TOY AND GAME SHOPS\\'                        WHEN MQC.DESCRIPTION = \\'UTILITIES-ELECTRIC, GAS, WATER AND SANITARY\\' THEN \\'HOME SUPPLIES\\'                        WHEN MQC.DESCRIPTION = \\'RELIGIOUS ORGANIZATIONS\\' THEN \\'RELIGIOUS ORGANIZATIONS\\'                        WHEN MQC.DESCRIPTION = \\'Religious Organization\\' THEN \\'RELIGIOUS ORGANIZATIONS\\'                        WHEN MQC.DESCRIPTION = \\'MISCELLANEOUS GENERAL MERCHANDISE\\' THEN \\'RETAIL OUTLETS\\'                        WHEN MQC.DESCRIPTION = \\'MOTOR VEHICLE SUPPLIES AND NEW PARTS\\' THEN \\'AUTOMOTIVE\\'                        WHEN MQC.DESCRIPTION = \\'ARTIST SUPPLY AND CRAFT SHOPS\\' THEN \\'BEAUTY SHOP\\'                        WHEN MQC.DESCRIPTION = \\'PARKING LOTS AND GARAGES\\'                            THEN \\'BUILDING, ELECTRONICS, AUTOMOTIVE SERVICES\\'                        WHEN MQC.DESCRIPTION = \\'MEDICAL SERVICES AND HEALTH PRACTITIONERS (NOT ELSEWHERE CLASSIFIED)\\'                            THEN \\'HOSPITAL &amp; MEDICAL\\'                        WHEN MQC.DESCRIPTION = \\'ADVERTISING SERVICES\\' THEN \\'OTHER SERVICES\\'                        WHEN MQC.DESCRIPTION = \\'AIR CONDITIONING AND REFRIGERATION REPAIR SHOPS\\' THEN \\'HOME SUPPLIES\\'                        WHEN MQC.DESCRIPTION = \\'STATIONERY, OFFICE AND SCHOOL SUPPLY SHOPS\\'                            THEN \\'OFFICE &amp; SCHOOL SUPPLIES\\'                        WHEN MQC.DESCRIPTION = \\'HOUSEHOLD APPLIANCE SHOPS\\' THEN \\'HOME SUPPLIES\\'                        WHEN MQC.DESCRIPTION = \\'AIRPORTS, FLYING FIELDS AND AIRPORT TERMINALS\\' THEN \\'OTHER SERVICES\\'                        WHEN MQC.DESCRIPTION = \\'ART DEALERS AND GALLERIES\\' THEN \\'HOBBY, TOY AND GAME SHOPS\\'                        WHEN MQC.DESCRIPTION = \\'MOTORCYCLE SHOPS AND DEALERS\\' THEN \\'AUTOMOTIVE\\'                        WHEN MQC.DESCRIPTION = \\'HARDWARE SHOPS\\' THEN \\'HOME SUPPLIES\\'                        WHEN MQC.DESCRIPTION = \\'MUSIC SHOPS - MUSICAL INSTRUMENTS, PIANOS AND SHEET MUSIC\\'                            THEN \\'HOBBY, TOY AND GAME SHOPS\\'                        WHEN MQC.DESCRIPTION = \\'SPORTING GOODS SHOPS\\' THEN \\'HOBBY, TOY AND GAME SHOPS\\'                        WHEN MQC.DESCRIPTION = \\'MOTOR HOME AND RECREATIONAL VEHICLE RENTALS\\' THEN \\'AUTOMOTIVE\\'                        WHEN MQC.DESCRIPTION = \\'ELECTRONICS REPAIR SHOPS\\'                            THEN \\'BUILDING, ELECTRONICS, AUTOMOTIVE SERVICES\\'                        WHEN MQC.DESCRIPTION = \\'COURIER SERVICES-AIR AND GROUND AND FREIGHT FORWARDERS\\'                            THEN \\'BUILDING, ELECTRONICS, AUTOMOTIVE SERVICES\\'                        WHEN MQC.DESCRIPTION = \\'SERVICE STATIONS (WITH OR WITHOUT ANCILLARY SERVICES)\\'                            THEN \\'BUILDING, ELECTRONICS, AUTOMOTIVE SERVICES\\'                        ELSE \\'OTHERS\\' END          AS MERCHANT_CATEGORY</code></pre>', 'tanggal_content': '2023-05-03T07:30:34.501Z', 'author_content': 'Rahmi', 'direktorat_content': 'Digital Insight', 'PIC_Analyst': 'Rahmi Julianasari', 'link_content': 'http://10.0.232.117:3000/en/Insight/Data_Insight/analisis_merchant_category'}, {'topic_document': 'Digital Insight', 'title_content': 'AGI New Mobile Apps - UX Research', 'text_content': '<h1><a href=\"#agi-new-mobile-apps-ux-research\"></a> AGI New Mobile Apps - UX Research</h1><h2><a href=\"#usability-test-plan-scenario\"></a> Usability Test Plan: Scenario</h2><p><strong>User Goal</strong></p><ol><li>User melakukan registrasi</li><li>User melakukan login</li><li>User melakukan transaksi</li></ol><p><strong>Scenario</strong></p><ol><li>User “baru” melakukan registrasi</li><li>User “baru” melakukan login</li><li>User “baru” melakukan transaksi <strong>transfer</strong></li><li>User “baru” melakukan transaksi <strong>QRIS</strong></li><li>User “baru” melakukan transaksi “<strong>Pembayaran X</strong>”</li><li>User “baru” melakukan transaksi “<strong>Pembelian A</strong>”</li><li>User “baru” melakukan transaksi “<strong>Top Up P</strong>”</li></ol><h3><a href=\"#research-feedback\"></a> Research + feedback</h3><figure><img src=\"http://127.0.0.1:5000/get-image-semantic/aginewmobile/untitled.png\"/></figure><figure><img src=\"http://127.0.0.1:5000/get-image-semantic/aginewmobile/untitled_1.png\"/></figure><figure><img src=\"http://127.0.0.1:5000/get-image-semantic/aginewmobile/untitled_2.png\"/></figure><figure><img src=\"http://127.0.0.1:5000/get-image-semantic/aginewmobile/untitled_3.png\"/></figure><figure><img src=\"http://127.0.0.1:5000/get-image-semantic/aginewmobile/untitled_4.png\"/></figure><figure><img src=\"http://127.0.0.1:5000/get-image-semantic/aginewmobile/untitled_5.png\"/></figure><figure><img src=\"http://127.0.0.1:5000/get-image-semantic/aginewmobile/untitled_6.png\"/></figure><figure><img src=\"http://127.0.0.1:5000/get-image-semantic/aginewmobile/untitled_7.png\"/></figure><figure><img src=\"http://127.0.0.1:5000/get-image-semantic/aginewmobile/untitled_8.png\"/></figure><figure><img src=\"http://127.0.0.1:5000/get-image-semantic/aginewmobile/untitled_9.png\"/></figure><figure><img src=\"http://127.0.0.1:5000/get-image-semantic/aginewmobile/untitled_10.png\"/></figure><figure><img src=\"http://127.0.0.1:5000/get-image-semantic/aginewmobile/untitled_11.png\"/></figure><h3><a href=\"#discovered-problem\"></a> Discovered problem</h3><p><i>“categorize the pain points from Empathize”</i></p><p>Instruksi belum cukup clear dan penempatan instruksi tidak sesuai</p><p><strong>Reg 2-4, CA 1-2</strong></p><p>Beberapa fitur icon masih ada yang membingungkan untuk apa</p><p><strong>Reg 1, O 1, O 5, O 6, T 1, PP 1,</strong></p><p>Redundansi menu, tidak efisien</p><p><strong>O2, T2, PB1, TOP1,</strong></p><p>Fitur transaksi banyak yang ngumpet</p><p><strong>O3, O4</strong></p><p>Ada step yang ga terduga perlu dilakukan</p><p><strong>PB 1, TOP 1</strong></p><h3><a href=\"#ideation-suggest-for-improvement\"></a> Ideation (suggest for improvement)</h3><p><strong>Instruksi belum cukup clear dan penempatan instruksi tidak sesuai</strong></p><ol><li>Memberikan on boarding, dengan 2 case</li></ol><ul><li>Account baru</li><li>Baru menginstall regardless akun baru atau bukan</li></ul><figure><img src=\"http://127.0.0.1:5000/get-image-semantic/aginewmobile/untitled_12.png\"/></figure><p>2. Pada Registrasi foto KTP diberi petunjuk “Ambil foto KTP”</p><p>3. Pada Registrasi foto KTP diberi petunjuk contoh gambar hasil foto KTP yang benar dan salah</p><p><i>ini fungsinya biar user ngerti harus kaya gimana kalo foto KTP yang benar</i></p><p>point 2 dan 3 berlaku untuk take selfie dengan KTP</p><p><strong>for example:</strong></p><figure><img src=\"http://127.0.0.1:5000/get-image-semantic/aginewmobile/untitled_13.png\"/></figure><p>Screen take foto KTP diperbaiki box-nya; 1 box KTP aja</p><figure><img src=\"http://127.0.0.1:5000/get-image-semantic/aginewmobile/untitled_6.png\"/></figure><p><strong>Beberapa fitur icon masih ada yang membingungkan untuk apa</strong></p><p>belum kepikiran, mungkin onboarding atau dari penempatan di step yang mana</p><p><strong>Redundansi menu, tidak efisien</strong></p><p>All Fav menu bisa di ganti dengan fitur transaksi lain saja a.k.a dihilangkan</p><p>“Transfer from” dan “source of fund” di merge?? Pas pilih “Transfer from” drop down “source of fund”</p><p>PB 1 dan TOP 1 dibuat 1 page aja; di atas section menu dna di bawah section transaction history</p><ol><li>opsi lain transction history di bikin icon sendiri aja di pojok kanan atas</li></ol><p><strong>Fitur transaksi banyak yang ngumpet</strong></p><ol><li>menampilkan beberapa fitur utama di halaman depan<ol><li>bisa by favorite, most transaction used (personalised); tapi ini butuh default menu</li><li>bisa ditentukan oleh kita berdasarkan data</li></ol></li></ol><p><strong>Ada step yang ga terduga perlu dilakukan</strong></p>', 'tanggal_content': '2022-12-28T10:30:54.097Z', 'author_content': 'Rahmi', 'direktorat_content': 'Digital Insight', 'PIC_Analyst': 'Rahmi Julianasari', 'link_content': 'http://10.0.232.117:3000/en/Insight/Data_Insight/AGINewMobileAppsUXResearch'}, {'topic_document': 'Digital Insight', 'title_content': 'Analisis Kuadran Merchant berdasarkan Transaksi, Balance, dan Amount', 'text_content': '<h1><a href=\"#analisis-kuadran-merchant-berdasarkan-transaksi-balance-dan-amount\"></a> Analisis Kuadran Merchant berdasarkan Transaksi, Balance, dan Amount</h1><h2><a href=\"#latar-belakang-dan-tujuan\"></a> Latar Belakang dan Tujuan</h2><p>Marketing analytics merupakan salah satu target pada RBB 2023. Tujuan analisis adalah menentukan target customer untuk ditawarkan produk BAG yang sesuai dengan karakteristik customer berdasarkan hasil analisis. Pada analisis ini, penentuan target customer dilakukan pada Merchant untuk penawaran produk SME dan Konsumer. Data-data seperti transaksi dan balance rekening perlu dilakukan untuk memberikan gambaran potensial merchant.</p><h2><a href=\"#analisis-populasi-data-merchant\"></a> Analisis Populasi Data Merchant</h2><p>Terdapat beberapa hal yang dianalisis untuk mendapatkan populasi merchant yang akan ditawarkan produk BAG.</p><ol><li>Merchant bukan merupakan sharing account yang dikelola oleh BAG atau cabang</li><li>Merchant bukan merupakan sharing account dari perusahaan yang ada di grup</li><li>Merchant memiliki transaksi minimal 1 sejak 90 hari terakhir (data per 28/12/2022)</li></ol><p>Berikut ringkasan hasil analisis populasi merchant</p><ul><li>Total Account Number = 3179</li><li>Total Merchant = 3335</li></ul><p>Data Merchant yang dikumpulkan</p><ul><li>Account Number</li><li>Jumlah Merchant per Account Number</li><li>Total Transaksi dalah 90 hari terakhir</li><li>Total Amount Transaksi dalam 90 hari terakhir</li><li>Average balance 90 hari terakhir</li></ul><p><i>*) data per 28/12/2022</i></p><h2><a href=\"#analisis-kuadran-transaksi-dan-balance\"></a> Analisis Kuadran Transaksi dan Balance</h2><p>Beberapa simulasi dilakukan dengan mencari proporsi Top X% merchant dengan transaksi tertinggi dan Top Y% merchant dengan balance tertinggi.</p><figure><img src=\"http://127.0.0.1:5000/get-image-semantic/insight/trx_vs_bal.jpg\"/></figure><h3><a href=\"#simulasi-1-25-transaksi-vs-25-balance\"></a> <mark>Simulasi 1 (25% Transaksi vs 25% Balance)</mark></h3><p>Dengan simulasi pertama, menggunakan TOP 25% merchant dengan transaksi terbanyak dan TOP 25% merchant dengan balance tertinggi. Diperoleh jumlah account per kuadran sebagai berikut:</p><figure><table><tbody><tr><td><strong>Kuadran</strong></td><td><strong>Count of ACCOUNT_NUMBER</strong></td></tr><tr><td>I</td><td>2</td></tr><tr><td>II</td><td>16</td></tr><tr><td>III</td><td>3146</td></tr><tr><td>IV</td><td>15</td></tr><tr><td><strong>Grand Total</strong></td><td><strong>3179</strong></td></tr></tbody></table></figure><h3><a href=\"#simulasi-2-50-transaksi-vs-50-balance\"></a> <mark>Simulasi 2 (50% Transaksi vs 50% Balance)</mark></h3><p>Dengan simulasi pertama, menggunakan TOP 50% merchant dengan transaksi terbanyak dan TOP 50% merchant dengan balance tertinggi. Diperoleh jumlah account per kuadran sebagai berikut:</p><figure><table><tbody><tr><td><strong>Kuadran</strong></td><td><strong>Count of ACCOUNT_NUMBER</strong></td></tr><tr><td>I</td><td>6</td></tr><tr><td>II</td><td>67</td></tr><tr><td>III</td><td>3062</td></tr><tr><td>IV</td><td>44</td></tr><tr><td><strong>Grand Total</strong></td><td><strong>3179</strong></td></tr></tbody></table></figure><h3><a href=\"#simulasi-3-proporsional\"></a> <mark>Simulasi 3 (proporsional)</mark></h3><p><strong>Statistik Data Transaksi Merchant</strong></p><figure><table><tbody><tr><td><strong>Kalkulasi</strong></td><td><strong>TRX</strong></td><td><strong>\\xa0posisi %\\xa0</strong></td></tr><tr><td>Average Transaksi</td><td>147</td><td rowspan=\"5\"></td></tr><tr><td>P25</td><td>3</td></tr><tr><td>P50</td><td>12</td></tr><tr><td>P75</td><td>63</td></tr><tr><td>P90</td><td>272</td></tr><tr><td><strong>P95</strong></td><td><strong>604</strong></td><td><strong>66%</strong></td></tr><tr><td><strong>P97</strong></td><td><strong>1021</strong></td><td><strong>60%</strong></td></tr><tr><td><strong>P99</strong></td><td><strong>2615,8</strong></td><td><strong>34%</strong></td></tr></tbody></table></figure><p><strong>Statistik Data Merchant Balance</strong></p><figure><table><tbody><tr><td><strong>Kalkulasi</strong></td><td><strong>Balance</strong></td><td><strong>\\xa0posisi %\\xa0</strong></td></tr><tr><td>Average Balance</td><td>\\xa07.528.943\\xa0</td><td rowspan=\"5\"></td></tr><tr><td>P25</td><td>\\xa0 \\xa0 \\xa0 \\xa0 \\xa0 \\xa049.617\\xa0</td></tr><tr><td>P50</td><td>\\xa0 \\xa0 \\xa0 \\xa0 260.963\\xa0</td></tr><tr><td>P75</td><td>\\xa0 \\xa0 \\xa01.531.041\\xa0</td></tr><tr><td>P90</td><td>\\xa010.363.817\\xa0</td></tr><tr><td><strong>P95</strong></td><td><strong>\\xa0 \\xa030.824.641\\xa0</strong></td><td><strong>77%</strong></td></tr><tr><td><strong>P97</strong></td><td><strong>\\xa0 \\xa061.359.130\\xa0</strong></td><td><strong>65%</strong></td></tr><tr><td><strong>P99</strong></td><td><strong>\\xa0192.746.213\\xa0</strong></td><td><strong>38%</strong></td></tr></tbody></table></figure><p>Mengacu pada data statistik di atas, secara “expert judgment” angka transaksi yang di dalam batas normal ada pada posisi P95 (66%), \\xa0P97 (60%) atau P99 (34%). Untuk balance, batas normal berada pada posisi P95 (77%), \\xa0P97 (65) atau P99 (38%).\\xa0</p><p>Simulasi untuk <strong>Transaksi P95</strong></p><figure><table><tbody><tr><td colspan=\"2\"><p><strong>Balance P95</strong></p></td><td>\\xa0</td><td colspan=\"2\"><p><strong>Balance P97</strong></p></td><td></td><td colspan=\"2\"><p><strong>Balance P99</strong></p></td></tr><tr><td><strong>Kuadran</strong></td><td><strong>Count of ACCOUNT_NUMBER</strong></td><td>\\xa0</td><td><strong>Kuadran</strong></td><td><strong>Count of ACCOUNT_NUMBER</strong></td><td>\\xa0</td><td><strong>Kuadran</strong></td><td><strong>Count of ACCOUNT_NUMBER</strong></td></tr><tr><td>I</td><td>33</td><td>\\xa0</td><td>I</td><td>20</td><td>\\xa0</td><td>I</td><td>7</td></tr><tr><td>II</td><td>125</td><td>\\xa0</td><td>II</td><td>138</td><td>\\xa0</td><td>II</td><td>151</td></tr><tr><td>III</td><td>2896</td><td>\\xa0</td><td>III</td><td>2948</td><td>\\xa0</td><td>III</td><td>2997</td></tr><tr><td>IV</td><td>125</td><td>\\xa0</td><td>IV</td><td>73</td><td>\\xa0</td><td>IV</td><td>24</td></tr><tr><td><strong>Grand Total</strong></td><td><strong>3179</strong></td><td>\\xa0</td><td><strong>Grand Total</strong></td><td><strong>3179</strong></td><td>\\xa0</td><td><strong>Grand Total</strong></td><td><strong>3179</strong></td></tr></tbody></table></figure><p>Simulasikan untuk <strong>Transaksi P97</strong></p><figure><table><tbody><tr><td colspan=\"2\"><p><strong>Balance P95</strong></p></td><td>\\xa0</td><td colspan=\"2\"><p><strong>Balance P97</strong></p></td><td></td><td colspan=\"2\"><p><strong>Balance P99</strong></p></td></tr><tr><td>Kuadran</td><td><strong>Count of ACCOUNT_NUMBER</strong></td><td>\\xa0</td><td><strong>Kuadran</strong></td><td><strong>Count of ACCOUNT_NUMBER</strong></td><td>\\xa0</td><td><strong>Kuadran</strong></td><td><strong>Count of ACCOUNT_NUMBER</strong></td></tr><tr><td>I</td><td>28</td><td>\\xa0</td><td>I</td><td>15</td><td>\\xa0</td><td>I</td><td>4</td></tr><tr><td>II</td><td>90</td><td>\\xa0</td><td>II</td><td>103</td><td>\\xa0</td><td>II</td><td>114</td></tr><tr><td>III</td><td>2931</td><td>\\xa0</td><td>III</td><td>2983</td><td>\\xa0</td><td>III</td><td>3034</td></tr><tr><td>IV</td><td>130</td><td>\\xa0</td><td>IV</td><td>78</td><td>\\xa0</td><td>IV</td><td>27</td></tr><tr><td><strong>Grand Total</strong></td><td><strong>3179</strong></td><td>\\xa0</td><td><strong>Grand Total</strong></td><td><strong>3179</strong></td><td>\\xa0</td><td><strong>Grand Total</strong></td><td><strong>3179</strong></td></tr></tbody></table></figure><p>Simulasi untuk <strong>Transaksi P99</strong></p><figure><table><tbody><tr><td colspan=\"2\"><p><strong>Balance P95</strong></p></td><td>\\xa0</td><td colspan=\"2\"><p><strong>Balance P97</strong></p></td><td></td><td colspan=\"2\"><p><strong>Balance P99</strong></p></td></tr><tr><td><strong>Kuadran</strong></td><td><strong>Count of ACCOUNT_NUMBER</strong></td><td>\\xa0</td><td><strong>Kuadran</strong></td><td><strong>Count of ACCOUNT_NUMBER</strong></td><td>\\xa0</td><td><strong>Kuadran</strong></td><td><strong>Count of ACCOUNT_NUMBER</strong></td></tr><tr><td>I</td><td>15</td><td>\\xa0</td><td>I</td><td>7</td><td>\\xa0</td><td>I</td><td>2</td></tr><tr><td>II</td><td>16</td><td>\\xa0</td><td>II</td><td>24</td><td>\\xa0</td><td>II</td><td>29</td></tr><tr><td>III</td><td>3005</td><td>\\xa0</td><td>III</td><td>3062</td><td>\\xa0</td><td>III</td><td>3119</td></tr><tr><td>IV</td><td>143</td><td>\\xa0</td><td>IV</td><td>86</td><td>\\xa0</td><td>IV</td><td>29</td></tr><tr><td><strong>Grand Total</strong></td><td><strong>3179</strong></td><td>\\xa0</td><td><strong>Grand Total</strong></td><td><strong>3179</strong></td><td>\\xa0</td><td><strong>Grand Total</strong></td><td><strong>3179</strong></td></tr></tbody></table></figure><h2><a href=\"#analisis-kuadran-transaksi-dan-amount\"></a> Analisis Kuadran Transaksi dan Amount</h2><p>Beberapa simulasi dilakukan dengan mencari proporsi Top X% merchant dengan transaksi tertinggi dan Top Y% merchant dengan amount tertinggi.</p><figure><img src=\"http://127.0.0.1:5000/get-image-semantic/insight/trx_x_amt.jpg\"/></figure><h3><a href=\"#simulasi-1-25-transaksi-vs-25-amount\"></a> <mark>Simulasi 1 (25% Transaksi vs 25% Amount)</mark></h3><p>Dengan simulasi pertama, menggunakan TOP 25% merchant dengan transaksi terbanyak dan TOP 25% merchant dengan total amount tertinggi. Diperoleh jumlah account per kuadran sebagai berikut:</p><figure><table><tbody><tr><td><strong>Kuadran</strong></td><td><strong>Count of ACCOUNT_NUMBER</strong></td></tr><tr><td>I</td><td>7</td></tr><tr><td>II</td><td>3155</td></tr><tr><td>III</td><td>6</td></tr><tr><td>IV</td><td>11</td></tr><tr><td><strong>Grand Total</strong></td><td><strong>3179</strong></td></tr></tbody></table></figure><h3><a href=\"#simulasi-2-50-transaksi-vs-50-amount\"></a> <br/><mark><strong>Simulasi 2 (50% Transaksi vs 50% Amount)</strong></mark></h3><p>Dengan simulasi pertama, menggunakan TOP 50% merchant dengan transaksi terbanyak dan TOP 50% merchant dengan total amount tertinggi. Diperoleh jumlah account per kuadran sebagai berikut:</p><figure><table><tbody><tr><td><strong>Kuadran</strong></td><td><strong>Count of ACCOUNT_NUMBER</strong></td></tr><tr><td>I</td><td>36</td></tr><tr><td>II</td><td>3073</td></tr><tr><td>III</td><td>33</td></tr><tr><td>IV</td><td>37</td></tr><tr><td><strong>Grand Total</strong></td><td><strong>3179</strong></td></tr></tbody></table></figure><h3><a href=\"#simulasi-3-proporsional-1\"></a> <mark>Simulasi 3 (proporsional)</mark></h3><p><strong>Statistik Data Transaksi Merchant</strong></p><figure><table><tbody><tr><td><strong>Kalkulasi</strong></td><td><strong>TRX</strong></td><td><strong>\\xa0posisi %\\xa0</strong></td></tr><tr><td>Average Transaksi</td><td>147</td><td rowspan=\"5\"></td></tr><tr><td>P25</td><td>3</td></tr><tr><td>P50</td><td>12</td></tr><tr><td>P75</td><td>63</td></tr><tr><td>P90</td><td>272</td></tr><tr><td><strong>P95</strong></td><td><strong>604</strong></td><td><strong>66%</strong></td></tr><tr><td><strong>P97</strong></td><td><strong>1021</strong></td><td><strong>60%</strong></td></tr><tr><td><strong>P99</strong></td><td><strong>2615,8</strong></td><td><strong>34%</strong></td></tr></tbody></table></figure><p><strong>Statistik Data Merchant Balance</strong></p><figure><table><tbody><tr><td><strong>Kalkulasi</strong></td><td><strong>Amount</strong></td><td><strong>\\xa0posisi %\\xa0</strong></td></tr><tr><td>Average Balance</td><td>\\xa0 \\xa012.532.268\\xa0</td><td>\\xa0</td></tr><tr><td>P25</td><td>\\xa0 \\xa0 \\xa0 \\xa0120.000\\xa0</td><td>\\xa0</td></tr><tr><td>P50</td><td>\\xa0 \\xa0 \\xa0 \\xa0900.000\\xa0</td><td>\\xa0</td></tr><tr><td>P75</td><td>\\xa0 \\xa0 \\xa05.330.000\\xa0</td><td>\\xa0</td></tr><tr><td>P90</td><td>\\xa0 \\xa023.140.000\\xa0</td><td>\\xa0</td></tr><tr><td><strong>P95</strong></td><td><strong>\\xa0 \\xa053.719.000\\xa0</strong></td><td><strong>66%</strong></td></tr><tr><td><strong>P97</strong></td><td><strong>\\xa0 \\xa083.855.680\\xa0</strong></td><td><strong>56%</strong></td></tr><tr><td><strong>P99</strong></td><td><strong>\\xa0191.971.546\\xa0</strong></td><td><strong>37%</strong></td></tr></tbody></table></figure><p>Mengacu pada data statistik di atas, secara “expert judgment” angka transaksi yang di dalam batas normal ada pada posisi P95 (66%), \\xa0P97 (60%) atau P99 (34%). Untuk balance, batas normal berada pada posisi P95 (66%), \\xa0P97 (56%) atau P99 (37%).\\xa0</p><p>Simulasi untuk <strong>Transaksi P95</strong></p><figure><table><tbody><tr><td colspan=\"2\"><p><strong>Balance P95</strong></p></td><td>\\xa0</td><td colspan=\"2\"><p><strong>Balance P97</strong></p></td><td></td><td colspan=\"2\"><p><strong>Balance P99</strong></p></td></tr><tr><td><strong>Kuadran</strong></td><td><strong>Count of ACCOUNT_NUMBER</strong></td><td>\\xa0</td><td><strong>Kuadran</strong></td><td><strong>Count of ACCOUNT_NUMBER</strong></td><td>\\xa0</td><td><strong>Kuadran</strong></td><td><strong>Count of ACCOUNT_NUMBER</strong></td></tr><tr><td>I</td><td>87</td><td>\\xa0</td><td>I</td><td>59</td><td>\\xa0</td><td>I</td><td>28</td></tr><tr><td>II</td><td>2955</td><td>\\xa0</td><td>II</td><td>2985</td><td>\\xa0</td><td>II</td><td>3017</td></tr><tr><td>III</td><td>66</td><td>\\xa0</td><td>III</td><td>36</td><td>\\xa0</td><td>III</td><td>4</td></tr><tr><td>IV</td><td>71</td><td>\\xa0</td><td>IV</td><td>99</td><td>\\xa0</td><td>IV</td><td>130</td></tr><tr><td><strong>Grand Total</strong></td><td><strong>3179</strong></td><td>\\xa0</td><td><strong>Grand Total</strong></td><td><strong>3179</strong></td><td>\\xa0</td><td><strong>Grand Total</strong></td><td><strong>3179</strong></td></tr></tbody></table></figure><p>Simulasikan untuk <strong>Transaksi P97</strong></p><figure><table><tbody><tr><td colspan=\"2\"><p><strong>Balance P95</strong></p></td><td>\\xa0</td><td colspan=\"2\"><p><strong>Balance P97</strong></p></td><td></td><td colspan=\"2\"><p><strong>Balance P99</strong></p></td></tr><tr><td>Kuadran</td><td><strong>Count of ACCOUNT_NUMBER</strong></td><td>\\xa0</td><td><strong>Kuadran</strong></td><td><strong>Count of ACCOUNT_NUMBER</strong></td><td>\\xa0</td><td><strong>Kuadran</strong></td><td><strong>Count of ACCOUNT_NUMBER</strong></td></tr><tr><td>I</td><td>77</td><td>\\xa0</td><td>I</td><td>57</td><td>\\xa0</td><td>I</td><td>27</td></tr><tr><td>II</td><td>2985</td><td>\\xa0</td><td>II</td><td>3023</td><td>\\xa0</td><td>II</td><td>3056</td></tr><tr><td>III</td><td>76</td><td>\\xa0</td><td>III</td><td>38</td><td>\\xa0</td><td>III</td><td>5</td></tr><tr><td>IV</td><td>41</td><td>\\xa0</td><td>IV</td><td>61</td><td>\\xa0</td><td>IV</td><td>91</td></tr><tr><td><strong>Grand Total</strong></td><td><strong>3179</strong></td><td>\\xa0</td><td><strong>Grand Total</strong></td><td><strong>3179</strong></td><td>\\xa0</td><td><strong>Grand Total</strong></td><td><strong>3179</strong></td></tr></tbody></table></figure><p>Simulasi untuk <strong>Transaksi P99</strong></p><figure><table><tbody><tr><td colspan=\"2\"><p><strong>Balance P95</strong></p></td><td>\\xa0</td><td colspan=\"2\"><p><strong>Balance P97</strong></p></td><td></td><td colspan=\"2\"><p><strong>Balance P99</strong></p></td></tr><tr><td><strong>Kuadran</strong></td><td><strong>Count of ACCOUNT_NUMBER</strong></td><td>\\xa0</td><td><strong>Kuadran</strong></td><td><strong>Count of ACCOUNT_NUMBER</strong></td><td>\\xa0</td><td><strong>Kuadran</strong></td><td><strong>Count of ACCOUNT_NUMBER</strong></td></tr><tr><td>I</td><td>30</td><td>\\xa0</td><td>I</td><td>26</td><td>\\xa0</td><td>I</td><td>16</td></tr><tr><td>II</td><td>3025</td><td>\\xa0</td><td>II</td><td>3079</td><td>\\xa0</td><td>II</td><td>3132</td></tr><tr><td>III</td><td>123</td><td>\\xa0</td><td>III</td><td>69</td><td>\\xa0</td><td>III</td><td>16</td></tr><tr><td>IV</td><td>1</td><td>\\xa0</td><td>IV</td><td>5</td><td>\\xa0</td><td>IV</td><td>15</td></tr><tr><td><strong>Grand Total</strong></td><td><strong>3179</strong></td><td>\\xa0</td><td><strong>Grand Total</strong></td><td><strong>3179</strong></td><td>\\xa0</td><td><strong>Grand Total</strong></td><td><strong>3179</strong></td></tr></tbody></table></figure><h2><a href=\"#rekomendasi\"></a> Rekomendasi</h2><h3><a href=\"#rekomendasi-1-akuisisi-sme\"></a> <mark>Rekomendasi 1: Akuisisi SME</mark></h3><p>Mengacu pada <strong>Analisis Kuadran Transaksi-Balance, Kuadran I dan IV dengan titik Balance pada P95 dapat dijadikan target untuk AKUISISI SME</strong>. Justifikasinya adalah merchant-merchant pada titik tersebut memiliki Avaragae Balance di batas atas normal (P95). Dengan kata lain merchant yang merupakan nasabah cukup …(istilahnya apa lupa gw) sehingga dapat ditawarkan produk SME.</p><h3><a href=\"#rekomendasi-2-melakukan-deep-analysis-untuk-penawaran-produk-konsumer\"></a> <mark>Rekomendasi 2: Melakukan deep analysis untuk penawaran produk Konsumer</mark></h3><p>Mengacu pada <strong>Analisis Kuadran Transaksi-Balance, Kuadran II dengan titik Balance pada P95 dapat dijadikan target untuk AKUISISI KONSUMER</strong>.</p><h3><a href=\"#\"></a> \\xa0</h3>', 'tanggal_content': '2022-12-30T10:23:27.674Z', 'author_content': 'Rahmi', 'direktorat_content': 'Digital Insight', 'PIC_Analyst': 'Rahmi Julianasari', 'link_content': 'http://10.0.232.117:3000/en/Insight/Data_Insight/Analisis_Kuadran_Merchant'}, {'topic_document': 'Digital Insight', 'title_content': 'Analisis Transaksi Qris & Biller', 'text_content': '<h1><a href=\"#analisis-transaksi-qris-biller\"></a> Analisis Transaksi Qris &amp; Biller</h1><h2><a href=\"#latar-belakang-dan-tujuan\"></a> LATAR BELAKANG DAN TUJUAN</h2><p>Analisis ini dibuat untuk memberikan insight dalam penentuan fokus dan opsi untuk menentukan promo yang akan diberikan untuk menstimulasi proses transaksi pada merchant yang dituju</p><h2><a href=\"#temuan-utama\"></a> Temuan Utama</h2><p>Data yang digunakan adalah dana transasksi QRIS dari Bulan Maret 2021 dan dana transaksi Pembelian dan Pembayaran dari Tahun 2017</p><h3><a href=\"#biller\"></a> BILLER</h3><p>Detail Isi Pulsa</p><p>List Provider</p><p>Data Di atas merupakan data dari banyaknya transaksi dan besar transaksi yang dilakukan oleh nasabah ke provider</p><blockquote><p>Dari data diatas kita bisa lihat bahwa transaksi terbanyak Dilakukan provider Telkomsel bahkan jumlahnya melebihi semua provider lain jika digabungkan.</p></blockquote><p>Banyak Transaksi</p><p>Ringkasan Perbulan</p><p>Berikut merupakan ringkasan jumlah transaksi dan besar nilai transaksi yang dilakukan nasabah</p><p>Maret 22</p><p>Febuari 22</p><p>Januari 22</p><p>Desember 21</p><p>November 21</p><p>Oktober 21</p><p>September 21</p><h2><a href=\"#kesimpulan\"></a> Kesimpulan</h2><p>Ada beberapa hal yang perlu digarisbawahi:</p><ol><li>Terdapat appetite untuk menggunakan platform BAG dalam melakukan pembayaran</li><li>Pembayaran transaksi Terbanyak dilakukan pada Pembelian Isi Ulang Pulsa selama 6 bulan terakhir</li><li>Tekomsel merupakan provider dengan nilai transaksi terbesar dan jumlah transaksi terbanyak</li></ol><h1><a href=\"#rekomendasi\"></a> Rekomendasi</h1><p>Perlu riset dan survey lebih lanjut ke segmen nasabah tersebut untuk mencari tahu lebih jauh mengenai preferensi transaksi mereka.</p><h1><a href=\"#qris\"></a> QRIS</h1><p>Ringkasan Terbesar</p><p>Berikut merupakan ringkasan dari nilai transaksi dan banyaknya transaksi yang dilakukan dengan nasabah dalam pembayaran QRIS</p><p>10 Merchant Paling banyak Melakukan Transaksi</p><p>10 Merchant Dengan Nilai Transaksi Terbesar</p><p>Ringkasan Terkecil</p><p>Berikut merupakan ringkasan dari nilai transaksi dan banyaknya transaksi yang dilakukan dengan nasabah dalam pembayaran QRIS</p><p>10 Merchant Paling Sedikit Melakukan Transaksi dengan Nilai Transaksi Sedikit</p><p>10 Merchant Paling Sedikit Melakukan Transaksi dengan Nilai Transaksi Paling Besar</p><blockquote><p>Data diatas merupakan data dari merchant yang sedikit melakukan transaksi tetapi nilai nilai transaksi besar. merchant dengan data tersebut melakukan satu transaksi dengan nilai transaksi yang besar</p></blockquote><p>Kategori Merchant</p><p>Berikut kategori-kategori merchant yang bekerjasama dengan bank</p><p>Berdasarkan Kategori Merchant</p><p>Berdasarkan Kode kategori yang ada</p><p>Berdasarkan Badan Usaha</p><p>Data Perbulan</p><p>Maret 22</p><p>Febuari 22</p><p>Januari 22</p><p>Desember 21</p><p>November 21</p><p>Oktober 21</p><p>September 21</p><p>Data diatas merupakan data dari nilai transaksi dan Banyak transaksi perbulannya selama 6 bulan terakhir</p><h2><a href=\"#kesimpulan-1\"></a> Kesimpulan</h2><p>Ada beberapa hal yang perlu digarisbawahi:</p><ol><li>Terdapat appetite untuk menggunakan platform BAG dalam melakukan pembayaran</li><li>tidak ada merchant yang menempati urutan tertinggi selama 2 bulan dengan nilai transaksi terbesar</li><li>ada merchant yang melakukan nilai transaksi yang besar dengan transaksi yang sedikit</li></ol><h1><a href=\"#rekomendasi-1\"></a> Rekomendasi</h1><p>Untuk rekomendasi pemberian Promo pada merchant kita bisa memberikan beberapa opsi yang bisa menguntungkan pembeli. dari hasil data diatas kita bisa memberikan promo dengan cara:</p><ul><li>Memberikan Jenis Promo untuk barang cepat habis yang bertujuan untuk merchant dengan jumlah transaksi yang banyak. hal ini dapat menstimulasi pembeli pada merchant yang menjual barang yang dapat dikonsumsi dan harganya murah. jenis promo yang diberikan bisa berupa potongan harga atau bonus menu untuk pembelian dengan harga tertentu</li><li>Memberikan Penurunan harga untuk produk tertentu jika sudah mencapai harga yang ditentukan. hal ini dapat menstimulasi pembeli untuk membeli barang jika harga barang yang seharusnya dapat dibeli dengan harga yang lebih murah</li><li>Memberikan undian ketika membeli barang dengan harga tertentu dan berlaku kelipatan</li></ul>', 'tanggal_content': '2022-12-28T08:44:26.858Z', 'author_content': 'Rahmi', 'direktorat_content': 'Digital Insight', 'PIC_Analyst': 'Ghifari Daulagiri', 'link_content': 'http://10.0.232.117:3000/en/Insight/Data_Insight/AnalisisTransaksiQRISBiller'}, {'topic_document': 'Digital Insight', 'title_content': 'Emoney Abuse', 'text_content': '<h1><a href=\"#emoney-abuse\"></a> Emoney Abuse</h1><p><a href=\"/meeting_notes.pdf\">/meeting_notes.pdf</a></p><h3><a href=\"#kronologi\"></a> Kronologi</h3><ul><li>Narasi</li></ul><figure><table><thead><tr><th>No</th><th>Korban</th><th>Pelaku</th><th>BAG</th></tr></thead><tbody><tr><td>1</td><td>\\xa0</td><td>Menghubungi Korban mengaku sebagai karyawan Shopee</td><td>\\xa0</td></tr><tr><td>2</td><td>Dihubungi Pelaku bahwa Korban mendapat hadiah/cashback senilai (contoh Rp. 2jt)</td><td>\\xa0</td><td>\\xa0</td></tr><tr><td>3</td><td>\\xa0</td><td>Meminta Korban download aplikasi Pinjaman Onliner (ex: Kredivo)</td><td>\\xa0</td></tr><tr><td>4</td><td>Mendowload dan registrasi akun Pinjaman nline</td><td>\\xa0</td><td>\\xa0</td></tr><tr><td>5</td><td>\\xa0</td><td><p>Meminta informasi data Pinjol Korban\\xa0</p><p>- OTP\\xa0</p><p>- KTP\\xa0</p><p>- Foto\\xa0</p><p>- Ibu Kandung\\xa0</p><p>- Email\\xa0</p><p>- dll.</p></td><td>\\xa0</td></tr><tr><td>6</td><td>Memberikan informasi data Pinjol ke Pelaku</td><td>\\xa0</td><td>\\xa0</td></tr><tr><td>7</td><td>\\xa0</td><td>Membajak akun Pinjol Korban</td><td>\\xa0</td></tr><tr><td>8</td><td>\\xa0</td><td>Membuat trasnaksi pinjaman di aku Pinjol Korban</td><td>\\xa0</td></tr><tr><td>9</td><td>Mendapat Notifikasi Pinjaman dari aplikasi Pinjol</td><td>\\xa0</td><td>\\xa0</td></tr><tr><td>10</td><td>\\xa0</td><td>Membuat akun BAG atas nama Korban</td><td>\\xa0</td></tr><tr><td>11</td><td>\\xa0</td><td>Membuat trasnaksi pinjaman di aku Pinjol Korban</td><td>\\xa0</td></tr><tr><td>12</td><td>\\xa0</td><td>Membuat transaksi di akun BAG</td><td>\\xa0</td></tr><tr><td>13</td><td>Membuat laporan ke BAG dan Kepolisian</td><td>\\xa0</td><td>\\xa0</td></tr><tr><td>14</td><td>\\xa0</td><td>\\xa0</td><td>Mendapat Laporan dari Korban</td></tr><tr><td>15</td><td>\\xa0</td><td>\\xa0</td><td>Memblokir akun yang terkait Korban</td></tr></tbody></table></figure><h3><a href=\"#data-analysis\"></a> Data Analysis</h3><p><strong>Data Komplain</strong></p><ul><li>Tanggal transaksi terlapor : 11 Agustus 2021 - 19 Juni 2022</li><li>47 nomor rekening terlapor</li><li>Total nominal terlapor : Rp 83,079,000</li></ul><p><strong>Data Suspect</strong></p><ul><li>Tanggal data terdeteksi : 6 Febuari 2022 - 19 Juni 2022</li><li>41 nomor rekening dengan</li><li>Total Nominal suspicious transaction: Rp 72,590,542</li></ul><p><strong>Document</strong></p><p><a href=\"/clean_suspicious_transcation_old_mb_-_20220624.xlsx\">Clean_Suspicious Transcation OLD MB - 20220624.xlsx</a></p><p><a href=\"/kronologi_pengaduan_nasabah_penyalahgunaan_data_bagi_money.xls\">Kronologi pengaduan nasabah penyalahgunaan data BAGI Money.xls</a></p><h3><a href=\"#rekomendasi\"></a> Rekomendasi</h3><p><strong>Limitasi Friction</strong></p><ol><li>Limitasi amount transaksi per har per user</li><li>Limitasi transaksi User Biasa dan User Upgrade</li></ol><p><strong>User Flow Friction</strong></p><ol><li>OTP</li><li>Upgrade Account</li><li>Create Rekening</li></ol><p><strong>Edukasi</strong></p><ol><li>Memberikan onboarding pada aplikasi di entry point tertentu<ol><li>Registrasi Mobile Banking</li><li>Aktivasi Emoney</li></ol></li><li>Menambahkan wording “menjaga keamanan” pada SMS OTP dan Email notif</li><li>Social Media</li><li>Notifikasi himbauan “security awareness” regular</li></ol><p><strong>Hold Pencairan/Transaksi dengan rekomendasi Amount tertentu</strong></p><ul><li>Penambahan bisnis proses id Anti Fraud</li></ul>', 'tanggal_content': '2022-12-29T04:52:30.070Z', 'author_content': 'Rahmi', 'direktorat_content': 'Digital Insight', 'PIC_Analyst': 'Rahmi Julianasari', 'link_content': 'http://10.0.232.117:3000/en/Insight/Data_Insight/EmoneyAbuse'}, {'topic_document': 'Digital Insight', 'title_content': 'Program Promotion Agi Mobile ACQ,ACTV', 'text_content': '<h1><a href=\"#program-promotion-agi-mobile-acqactv\"></a> Program Promotion Agi Mobile ACQ,ACTV</h1><p>Donasi</p><p>Pembelian Hewa Kurban</p><p>Jual murah</p><p>Produk</p><ul><li>hewan kurban</li><li>bumbu masak</li><li>arang, tusuk sate</li><li>ketupat</li><li>sembako</li></ul><p>Target subjek</p><ul><li>pedagang hewan kurban</li><li>subject untuk trigger donasi</li><li>pedagang bumbu/arang/tusuk sate/ketupat</li><li>Pedagang sembako, jual murah</li></ul>', 'tanggal_content': '2022-12-29T04:43:13.615Z', 'author_content': 'Arum', 'direktorat_content': 'Tidak ada direktorat', 'PIC_Analyst': 'Tidak ada PIC Analyst', 'link_content': 'http://10.0.232.117:3000/en/Insight/Data_Insight/ProgramPromotionAgiMobileACQ,ACTV'}, {'topic_document': 'Digital Insight', 'title_content': 'Startup Kasir/POS Research', 'text_content': '<h1><a href=\"#startup-kasirpos-research\"></a> Startup Kasir/POS Research</h1><p>Source: <a href=\"https://id.techinasia.com/kumpulan-startup-pos-di-indonesia\">https://id.techinasia.com/kumpulan-startup-pos-di-indonesia</a></p><ol><li>Moka</li><li>Pawoon</li><li>Majoo (add.)</li><li>Olsera</li><li>Deal POS</li><li>Omega POS Cloud</li><li>HelloBill</li><li>Nadi POS</li><li>Meeber POS</li><li>Dokuku</li><li>Folio</li><li>Qasir (Add.)</li></ol><h3><a href=\"#agi-use-case\"></a> AGI use case:</h3><ul><li>pake app kasir/POS partner, otomatis dibukain rekening AG</li><li>pembeli di toko bisa terima pembayaran QRIS pake QRISnya AG</li><li>pembeli di toko bisa pakai payment channelnya paprika (<a href=\"https://www.paprika.co.id\">https://www.paprika.co.id</a>)</li><li>prefer yang belum punya partnership eksklusif sama bank lain</li></ul><h3><a href=\"#comparison\"></a> Comparison</h3><figure><table><tbody><tr><td><strong>Startup</strong></td><td><strong>Website</strong></td><td><strong>Tag</strong></td><td><strong>Bisnis Model</strong></td><td><strong>Partnership</strong></td><td><strong>QRIS/VA/Payment Channel Use Case</strong></td><td><strong>\\xa0</strong></td></tr><tr><td>Moka</td><td><code>https://www.mokapos.com/</code></td><td><p>- POS\\xa0</p><p>- CRM\\xa0</p><p>- Digital Lending (Moka Capital)</p></td><td><p>- Tablet is installed Moka POS mobile app\\xa0</p><p>- Hardware<i>\\xa0</i></p><p><i>- S</i>ubscription\\xa0</p><p>- Moka Capital (digital lending)\\xa0</p><p>- Digital Payment</p></td><td><p>- PT Mandiri Capital Indonesia, Bank Mandiri</p><p>\\xa0- Modalku\\xa0</p><p>- Commonwealth</p></td><td><p>- e-Wallet (digital payment)\\xa0</p><p>- QRIS *MDR is applied</p></td><td>\\xa0</td></tr><tr><td>Pawoon</td><td><code>https://www.pawoon.com/</code></td><td><p>- POS\\xa0</p><p>- CRM</p></td><td><p>-Mobile app<i>\\xa0</i></p><p><i>- S</i>ubscription\\xa0</p><p>- Hardware\\xa0</p><p>- Digital Payment\\xa0</p></td><td>- No banking partner</td><td><p>- e-Wallet (digital payment)\\xa0</p><p>- QRIS *MDR is applied\\xa0</p><p>- VA for subscriber</p></td><td>Prefered 100.000+ install</td></tr><tr><td>Majoo</td><td>\\xa0</td><td><p>- POS - Digital Lending: (Majoo Capital)\\xa0</p><p>- Ads\\xa0</p><p>- Omnichannel</p></td><td><p>- Mobile app</p><p><i>\\xa0- S</i>ubscription</p><p>\\xa0- Hardware\\xa0</p><p>- Digital Payment\\xa0</p></td><td><p>- modalku\\xa0</p><p>- BRI\\xa0</p><p>- Commonwealth\\xa0</p><p>- BRI Ventures</p></td><td><p>- e-Wallet (digital payment)\\xa0</p><p>- QRIS *MDR is applied</p></td><td>\\xa0</td></tr><tr><td>Qasir</td><td>qasir.id</td><td><p>- POS</p><p>- Digital Lending</p></td><td><p>- Mobile app<i>\\xa0</i></p><p><i>- S</i>ubscription\\xa0</p><p>- Hardware\\xa0</p><p>- Digital Payment\\xa0</p></td><td>No banking partner</td><td><p>- e-Wallet (digital payment)\\xa0</p><p>- QRIS *MDR is applied</p></td><td><p>Prefered but syariah</p><p>500.000+ install</p></td></tr><tr><td>\\xa0Olsera</td><td>\\xa0olsera.com</td><td><p>\\xa0- POS\\xa0</p><p>- Omnichannel</p></td><td><p>\\xa0- Mobile app<i>\\xa0</i></p><p><i>- S</i>ubscription\\xa0</p><p>- Hardware\\xa0</p><p>- Digital Payment\\xa0</p></td><td>\\xa0No banking partner</td><td><p>\\xa0- e-Wallet (digital payment)</p><p>\\xa0- QRIS *MDR is applied</p></td><td>Prefered 50.000+ Install</td></tr><tr><td>\\xa0Deal POS</td><td>\\xa0dealpos.co.id</td><td><p>\\xa0- POS\\xa0</p><p>- Digital Lending\\xa0</p><p>- omnichannel\\xa0</p><p>- Payment link</p></td><td><p>\\xa0- Mobile apps\\xa0</p><p>- Hardware\\xa0</p><p>- subscription\\xa0</p><p>- Digital Payment\\xa0</p><p>- Omnichannel</p></td><td>\\xa0No banking partner</td><td><p>\\xa0- e-wallet(digital payment)\\xa0</p><p>- QRIS\\xa0</p><p>- Bank transfer/ATM</p></td><td>Prefered 5000+ Install</td></tr><tr><td>\\xa0cashlez</td><td>\\xa0</td><td>\\xa0</td><td>\\xa0</td><td>\\xa0</td><td>\\xa0</td><td>10000+ install</td></tr></tbody></table></figure><h3><a href=\"#recommendation\"></a> Recommendation</h3><ul><li>Moka (kontak: venny xBL)</li><li>Pawoon (kontak: venny xBL)</li><li>Majoo</li><li>Olsera</li><li>DealPos</li><li>Qasir??? (syariah)</li></ul>', 'tanggal_content': '2022-12-28T10:07:55.290Z', 'author_content': 'Arum', 'direktorat_content': 'Tidak ada direktorat', 'PIC_Analyst': 'Tidak ada PIC Analyst', 'link_content': 'http://10.0.232.117:3000/en/Insight/Data_Insight/StartupKasirPOSResearch'}, {'topic_document': 'Digital Insight', 'title_content': 'Analisis Transaksi Scan QRIS atau Pay Now pada Mobile Banking Oleh Nasabah Bank Artha Graha Internasional', 'text_content': '<h1>Analisis Transaksi Scan QRIS atau Pay Now pada Mobile Banking Oleh Nasabah Bank Artha Graha Internasional</h1><h1><a href=\"#background\"></a> <strong>Background</strong></h1><p>Seiring berkembangnya zaman, saat ini sudah banyak <i>merchant-merchant </i>ataupun penjual yang menggunakan metode <i>cashless</i> sebagai metode pembayaran, salah satunya dengan menggunakan QRIS. BAGI melalui aplikasi agi mobile menyediakan layanan <i>scan</i> QRIS atau Pay Now sebagai salah satu fasilitas untuk melakukan pembayaran secara <i>cashless</i> di <i>merchant-mechant </i>yang menyediakan faislitas tersebut. Diketahui transaksi penggunaan fasilitas <i>scan</i> QRIS atau Pay Now nasabah BAGI masih rendah. Untuk itu diambil sampel data transaksi <i>scan</i> QRIS atau Pay Now nasabah selama 6 bulan terakhir, yaitu pada periode Februari sampai dengan Juli 2023.</p><h1><a href=\"#data-source-time-scope\"></a> <strong>Data Source &amp; Time Scope</strong></h1><ol><li>Data nasabah yang melakukan transaksi QRIS atau Pay Now pada Februari-Juli 2023</li><li>Data CASA 31 Juli 2023</li></ol><h1><a href=\"#key-findings\"></a> <strong>Key Findings</strong></h1><ol><li>Dari 230.289 pengguna AGI Mobile, jumlah transaksi nasabah yang menggunakan <i>scan</i> QRIS/Pay Now hanya <strong>247.897 transaksi</strong> atau sebanding dengan 1x transaksi/user all time.</li><li>Terdapat <strong>10.929 nasabah</strong> melakukan transaksi <i>scan</i> QRIS all time dan <strong>8.264 nasabah </strong>dalam periode Februari sampai dengan Juli 2023.</li><li><strong>1.501 nasabah baru 2023 </strong>melakukan transaksi <i>scan</i> QRIS atau setidaknya 18% dari total nasabah yang bertransaksi QRIS pada Februari - Juli 2023.</li><li><strong>Nasabah Artha Payroll </strong>merupakan nasabah yang paling banyak melakukan transaksi <i>scan </i>QRIS.</li></ol><h1><a href=\"#recommendation\"></a> <strong>Recommendation</strong></h1><p>Sebutkan rekomendasi apa aja yang ingin dilakukan berdasarkan Key Findings</p><h1><a href=\"#analysis\"></a> <strong>Analysis</strong></h1><p>Tuliskan proses kalian dalam menganalisis, proses bisa diceritakan dahulu apa yang mau dicari, kemudian divisualisasi, lalu disimpulkan.</p><h1><a href=\"#appendix\"></a> <strong>Appendix</strong></h1><p>Masukin ke sini query, atau file2 kalian dari hasil analisis.</p>', 'tanggal_content': '2023-08-04T07:57:55.310Z', 'author_content': 'Ratih', 'direktorat_content': 'Digital Insight', 'PIC_Analyst': 'Theresia, Ratih, Iqbal', 'link_content': 'http://10.0.232.117:3000/en/Insight/Data_Insight/templatedataanalysis'}, {'topic_document': 'Digital Insight', 'title_content': 'Tracker Program Cashback', 'text_content': '<h1><a href=\"#tracker-program-cashback\"></a> Tracker Program Cashback</h1><p>Cashback Rule</p><ol><li>Cashback diberikan untuk TRANSAKSI PERTAMA setiap customer SEJAK START PERIODE PROMO<ol><li>merchantnya hanya ke yang eligible</li><li>kalo customer transaksi ke 3 merchant yang eligible ambil yang pertama</li></ol></li><li>Cashback hanya applied ke UMI, UKE</li><li>Cashback hanya X% max RpY</li></ol><p>WHAT DO WE WANT TO KNOW?</p><ol><li>jumlah merchant yang eligible</li><li>jumlah customer yang mendapat cashback</li><li>jumlah transaksi yang mendapatkan cashback &gt; harusnya sama kaya point 2</li><li>jumlah cashback yang keluar berdasarkan no 3 dnegan perhitungan % amount cashback</li></ol><p>Res:</p><p>Query:</p><p><a href=\"/automation_cashback_report.sql\">/automation_cashback_report.sql</a></p>', 'tanggal_content': '2022-12-29T02:17:28.911Z', 'author_content': 'Arum', 'direktorat_content': 'Tidak ada direktorat', 'PIC_Analyst': 'Tidak ada PIC Analyst', 'link_content': 'http://10.0.232.117:3000/en/Insight/Data_Insight/TrackerProgramCashback'}]\n"
     ]
    }
   ],
   "source": [
    "print(new_data_test)"
   ]
  },
  {
   "cell_type": "code",
   "execution_count": 39,
   "id": "7b8f9807-8e41-4095-8a7e-abcc5c042db0",
   "metadata": {},
   "outputs": [
    {
     "data": {
      "text/html": [
       "<h1><a href=\"#h-07042022-analisis-target-akuisisi-dan-aktivasi-merchant-qris\"></a> [07042022] Analisis Target Akuisisi dan Aktivasi Merchant QRIS</h1><h2><a href=\"#latar-belakang-dan-tujuan\"></a> Latar Belakang dan Tujuan</h2><p>Analisis ini dibuat sebagai dasar pembuatan dan desain kontrol untuk strategi akuisisi dan aktivasi merchant QRIS.</p><p>Target full year 2022 adalah akuisisi 100.000 merchant QRIS, dan 1 Trilyun CASA. Dimana transaksi QRIS adalah salah satu channel untuk mencapai target CASA. Oleh karena itu perlu dilakukan analisis untuk menyusun strategi akuisisi dan aktivasi merchant QRIS, menurunkan teknis pelaksanaan di lapangan, dan desain &amp; mekanisme kontrol pelaksanaannya.</p><h2><a href=\"#temuan-utama\"></a> Temuan Utama</h2><h3><a href=\"#simulasi-target\"></a> Simulasi Target</h3><p>Berangkat dari target 100 ribu customer dan asumsi 1T target CASA bisa didapatkan <strong>seluruhnya</strong> dari transaksi QRIS. Skema simulasi menggunakan skema Referral yang sudah terdefinisi di dokumen ‘Target 1 Juta Nasabah’.</p><h3><a href=\"#simulasi-kondisi-ideal\"></a> Simulasi kondisi ideal</h3><p>Dalam simulasi ini, metric yang harus dijaga untuk dapat mencapai tujuan adalah:</p><p>Metric akuisisi merchant:</p><ol><li>Rasio Merchant Aktif: 20%</li><li>Merchant MGM % Merchant Aktif: 30%</li><li>Rata-rata Akuisisi per Merchant MGM: 5 merchant</li></ol><p>Metric aktivasi merchant:</p><ol><li>Banyaknya Transaksi per Merchant: 150 transaksi</li><li>Rata-rata Nilai Transaksi: IDR 100.000</li></ol><figure><img src=\"http://127.0.0.1:5000/get-image-semantic/aktivasimerchantqris/untitled.png\"/></figure><p>Hasil simulasi menunjukkan performa hingga 130% untuk akuisisi merchant dan 120% untuk transaksi.</p><h3><a href=\"#simulasi-kondisi-gradual\"></a> Simulasi kondisi gradual</h3><p>Dalam simulasi ini, terdapat asumsi dimana peningkatan secara gradual jumlah merchant MGM yaitu dari 5% di April, meningkat hingga 30% di September. Asumsi metric yang lain adalah sama.</p><figure><img src=\"http://127.0.0.1:5000/get-image-semantic/aktivasimerchantqris/untitled_1.png\"/></figure><p>Hasil simulai menunjukkan performa hanya 77% dan 73% untuk akuisisi dan transaksi, dimana keduanya masih jauh dari target.</p><h3><a href=\"#simulai-kondisi-realistis\"></a> Simulai kondisi realistis</h3><p>Dalam simulasi ini, ditambahkan asumsi pertumbuhan merchant aktif secara gradual mulai dari 13% (data per Maret) hingga 25% di bulan Juli.</p><figure><img src=\"http://127.0.0.1:5000/get-image-semantic/aktivasimerchantqris/untitled_2.png\"/></figure><p>Hasil simulasi menunjukkan performa di 100% dan 98% untuk akuisisi dan transaksi.</p><h3><a href=\"#kondisi-aktual-posisi-maret-2022\"></a> Kondisi Aktual (Posisi Maret 2022)</h3><p>Secara holistik, Rasio Merchant Aktif adalah 12.8%, Banyaknya Transaksi per Merchant adalah 30, dan Rata-rata Nilai Transaksi adalah IDR 90.886, dimana ketiganya perlu diperbaiki untuk memenuhi kriteria simulasi.</p><p>Mengenai kondisi metric cabang:</p><p>Rasio Merchant Aktif:</p><figure><img src=\"http://127.0.0.1:5000/get-image-semantic/aktivasimerchantqris/untitled_3.png\"/></figure><p>Transaksi per Merchant</p><figure><img src=\"http://127.0.0.1:5000/get-image-semantic/aktivasimerchantqris/untitled_4.png\"/></figure><p>Rata-rata Nilai Transaksi:</p><figure><img src=\"http://127.0.0.1:5000/get-image-semantic/aktivasimerchantqris/untitled_5.png\"/></figure><p>Metric yang paling utama untuk diperbaiki adalah metric aktivasi, yaitu Rasio Merchant Aktif dan Transaksi per Merchant.</p><h2><a href=\"#rekomendasi\"></a> Rekomendasi</h2><p>Kunci keberhasilan simulasi adalah peran Merchant yang aktif sebagai perpanjangan tangan Cabang; baik untuk mengakuisisi merchant lain, dan mempromosikan penggunaan QRIS BAG. Untuk itu perlu dipastikan hubungan baik Cabang dan Merchant sehingga terjalin kerjasama yang berdampak positif terhadap bisnis Merchant dan Bank.</p><p>Untuk menunjang kunci keberhasilan tersebut, perlu adanya tracking dan definisi target untuk metric tertentu kepada cabang, baik itu dalam aspek akuisisi maupun aktivasi.</p><p>Perlu adanya gamifikasi sebagai sarana berkompetisi antar cabang, dan perlu diadakan reward bagi cabang yang membuktikan prestasinya.</p><p>Oleh karena itu, direkomendasikan model pemantauan metric berupa kuadran capaian dengan poros-poros:</p><ol><li>Metric Akuisisi: Total Merchant, dimana pencapaian cabang dibagi berpusat pada median akuisisi cabang.</li><li>Metric Aktivasi: Raiso Merchant aktif, dimana pencapaian cabang dibagi berpusat pada target user aktif (20%)</li></ol><figure><img src=\"http://127.0.0.1:5000/get-image-semantic/aktivasimerchantqris/untitled_6.png\"/></figure><p>Target user aktif harus rutin dikaji berdasarkan realisasi capaian cabang dan kebutuhan pemenuhan target tahun 2022</p><p>Perlu adanya arahan rutin ke cabang sebagai sarana cabang untuk mengidentifikasi merchant yang perlu distimulasi untuk kembali aktif dan/atau diberikan apresiasi karena telah menjadi merchant yang loyal kepada BAG.</p>"
      ],
      "text/plain": [
       "<IPython.core.display.HTML object>"
      ]
     },
     "metadata": {},
     "output_type": "display_data"
    },
    {
     "data": {
      "text/html": [
       "<h1><a href=\"#h-08042022-database-promo-ideation\"></a> [08042022] Database Promo Ideation</h1><p>Berdasarkan <a href=\"http://10.0.231.117:3000/en/Insight/AnalisisTargetAkuisisidanAktivasiMerchantQRIS\">[07042022] Analisis Target Akuisisi dan Aktivasi Merchant QRIS</a> , rekomendasi promo yang ditargetkan adalah</p><ol><li>Metric Akuisisi: Total Merchant, dimana pencapaian cabang dibagi berpusat pada median akuisisi cabang.</li><li>Metric Aktivasi: Raiso Merchant aktif, dimana pencapaian cabang dibagi berpusat pada target user aktif (20%)</li></ol><p>Dengan skema pemberian promo berdasarkan mapping kuadran ini</p><figure><img src=\"http://127.0.0.1:5000/get-image-semantic/database_promo.png\"/></figure><figure><table><thead><tr><th>No</th><th>Promo</th><th>Bentuk Promo</th><th>Mekanisme Promo</th><th>Achievement</th></tr></thead><tbody><tr><td>0</td><td>promo apa yang diusulkan?</td><td>bentuknya diskon, cashback, atau apa?</td><td>bagiamana skema promo-nya?</td><td>apa yang mission yang diachieve untuk kita</td></tr><tr><td>1</td><td>Merchant discount</td><td>Discount or cashback</td><td>User mendapatkan sejumlah X% discount max A jika belanja di merchant tertentu (yang sudah ditentukan merchantnya) dengan AGI mobile/agicash</td><td>Meningkatkan activation dan retention user; target Activation Zone dan Hall of Fame</td></tr><tr><td>2</td><td>Mission Referral</td><td>Cashback &amp; Gamification</td><td>Referrer akan mendapatkan cashback sejumlah X jika TELAH mencapai misi refer P orang untuk memuat akun agi mobile/agicash</td><td>Meningkatkan acquisition; Dengan gamification user akan distimulasi untuk melakukan misi mencapai target cashback; target Acquisition Zone</td></tr><tr><td>3</td><td>Mission Referral Transaction</td><td>Cashback &amp; Gamification</td><td>Referrer dan Referee mendapatkan cashback sejumlah X jika Referee telah membuat transaksi pertama</td><td>Meningkatkan acquisition dan activation; Dengan gamification user akan distimulasi untuk melakukan misi mencapai target cashback; target Acquisition Zone dan Activation Zone</td></tr><tr><td>4</td><td>Mission Transaction</td><td>Cashback &amp; Gamification</td><td>User mendapatkan cashback sejumlah X jika telah mencapai misi membuat transaksi sebanyak N kali</td><td>Meningkatkan activation; Dengan gamification user akan distimulasi untuk melakukan misi mencapai target cashback; target Activation Zone</td></tr><tr><td>5</td><td>Mission Create AGI Account</td><td>Cashback &amp; Gamification</td><td>User mendapatkan cashback sejumlah X jika mendaftarkan akun menjadi nasabah AGI</td><td>Meningkatkan activation AGI acccount (Tabungan Icon bukan ya???)</td></tr><tr><td>6</td><td>Discount admin fee connect to emoney</td><td>Discount</td><td>User mendapatkan discount admin fee untuk topup emoney; misalnya GOPAY, OVO (*lumayan 1000)</td><td>Meningkatkan activation dan retention user; target Activation Zone dan Hall of Fame</td></tr><tr><td>7</td><td>Voucher redeem</td><td>Cashback</td><td>AGI menyediakan sejulah voucher untuk di redeem, user bisa kapan saja redeem; voucher juga memiliki waktu expired</td><td>Meningkatkan activation dan retention user; target Activation Zone dan Hall of Fame</td></tr><tr><td>8</td><td>Donasi</td><td>-</td><td>Menambahkan fitur donasi ketika melakukan pembayaran</td><td>Meningkatkan value “for others”</td></tr><tr><td>9</td><td>Program mendapatkan ide dari internal, sebulan sekali atau 2 bulan sekali</td><td>Voucher atau cashback di Agi mobile</td><td>Membuat program untuk intenal AGI (ditentukan siapa); siapa pun yang punya ide untuk meningkatkan acquisition atau activation atau program yang bsa membantu mencapai target, maka akan mendaatkan voucher yang bisa di redeem</td><td>Meningkatkan bounding di internal AGI dan gotong royong mencapat target; sekaligus mengajak karyawan menggunakan agi mobile dan bertransaksi dengan agi mobile</td></tr><tr><td>10</td><td>Hackethon Bug Bountie atau Deasign</td><td>Voucher atau cashback di Agi mobile</td><td>Membuat program bug bountie atau design aplikasi untuk internal karyawan</td><td>Meningkatkan bounding di internal AGI dan gotong royong mencapat target AGI; sekaligus mengajak karyawan menggunakan agi mobile dan bertransaksi dengan agi mobile</td></tr><tr><td>11</td><td>Posting terkait AGI mobile dan undian pemenang</td><td>Voucher atau cashback di Agi mobile</td><td>Membuat program posting sesuatu yang kreatif atau yang sudah ditentukan (misal ada event tertentu); lalu post di instagram</td><td>Meningkatkan bounding di internal AGI dan gotong royong mencapat target AGI; sekaligus mengajak karyawan menggunakan agi mobile dan bertransaksi dengan agi mobile</td></tr></tbody></table></figure>"
      ],
      "text/plain": [
       "<IPython.core.display.HTML object>"
      ]
     },
     "metadata": {},
     "output_type": "display_data"
    },
    {
     "data": {
      "text/html": [
       "<h1><a href=\"#h-10032022-analisis-transaksi-untuk-targeted-marketing\"></a> [10032022] Analisis Transaksi Untuk Targeted Marketing</h1><h2><a href=\"#latar-belakang-dan-tujuan\"></a> Latar Belakang dan Tujuan</h2><p>Saat ini manajemen <i>Lead Base</i> kita belum optimal untuk membuat sebuah keputusan bisnis sehingga Ketika melakukan aktivitas sales ke nasabah/calon nasabah, eksekusi di lapangan masih sporadis dan tidak terfokuskan ke target pasar yang dituju</p><p>Analisis ini dibuat untuk memberikan insight dalam penentuan fokus dan opsi aktivitas pre-sales dan sales ke nasabah/calon nasabah.</p><h2><a href=\"#temuan-utama\"></a> Temuan Utama</h2><p>Data yang digunakan adalah data nasabah snapshot per Maret 2022, data finansial sepanjang Februari 2022, data transaksi sepanjang bulan Januari 2022.</p><h2><a href=\"#distribusi-usia-nasabah-dan-perilaku-bertransaksi\"></a> Distribusi Usia Nasabah dan Perilaku Bertransaksi</h2><figure><img src=\"http://127.0.0.1:5000/get-image-semantic/transaksiuntuktargetedmarketing/untitled.png\"/></figure><p>Distribusi nasabah terkonsentrasi di usia produktif 25-40 tahun. Ini sejalan dengan kondisi dimana rekening artha graha banyak terdiri dari rekening payroll.</p><p>Dana tersebut juga merupakan dana aktif, dalam artian perputaran dana masuk dan keluar (e.g. transaksi, transfer, pembayaran) terjadi dan lancar.</p><p>Statemen tersebut juga dapat divalidasi dengan konsentrasi dana simpanan, dimana konsentrasi AUM justru tersebar di distribusi usia yang lebih tua.</p><figure><img src=\"http://127.0.0.1:5000/get-image-semantic/transaksiuntuktargetedmarketing/untitled_1.png\"/></figure><p>Artinya analisis lebih lanjut harus dilakukan di segmen usia 25-40 tahun apabila tujuan analisis adalah menemukan pola transaksi dan mendorong perilaku bertransaksi menggunakan solusi pembayaran AGI Mobile.</p><h2><a href=\"#korelasi-usia-jenis-pekerjaan-dan-transaksi\"></a> Korelasi Usia, Jenis Pekerjaan, dan Transaksi</h2><figure><img src=\"http://127.0.0.1:5000/get-image-semantic/transaksiuntuktargetedmarketing/untitled_2.png\"/></figure><p>Diatas adalah visualisasi 10 jenis pekerjaan dengan nasabah terbanyak.</p><blockquote><p>💡 Terlihat bahwa konsentrasi nasabah ada di Administrasi Umum, Buruh, Pengamanan, Pegawai Swasta, dan Hospitality.</p></blockquote><figure><img src=\"http://127.0.0.1:5000/get-image-semantic/transaksiuntuktargetedmarketing/untitled_3.png\"/></figure><p>Selanjutnya kita akan kembali menguatkan fokus ke segmen tersebut. </p><blockquote><p>💡 Mayoritas perilaku transaksi adalah Transfer, baik pemindahbukuan atau ke bank lain. Ini adalah hal yang <strong>tidak diinginkan</strong>.</p></blockquote><p>Apabila mayoritas nasabah hanya melakukan transfer dana keluar BAG, hal yang perlu diketahui lagi adalah segmen nasabah mana saja yang saat ini menggunakan produk BAG untuk melakukan transaksi pembayaran atau top-up.</p><figure><img src=\"http://127.0.0.1:5000/get-image-semantic/transaksiuntuktargetedmarketing/untitled_4.png\"/></figure><p>Terlihat bahwa nasabah dengan jenis pekerjaan Administrasi Umum, Buruh, Pengamanan, Pegawai Swasta, dan Hospitality termasuk segmen nasabah yang memiliki perilaku bertransaksi pembayaran dan Top-Up e-wallet.</p><p>Selain 5 segmen diatas, pelajar dan mahasiswa juga memiliki appetite yang tinggi untuk melakukan pembayaran.</p><figure><img src=\"http://127.0.0.1:5000/get-image-semantic/transaksiuntuktargetedmarketing/untitled_5.png\"/></figure><h2><a href=\"#kesimpulan\"></a> Kesimpulan</h2><p>Ada beberapa hal yang perlu digarisbawahi:</p><ol><li>Terdapat appetite untuk menggunakan platform BAG dalam melakukan pembayaran</li><li>Segmen nasabah yang potensial untuk disasar adalah:<ol><li>Pekerja white-collar dengan income menengah kebawah (&lt;10 juta)</li><li>Pekerja blue-collar</li><li>Buruh</li><li>Pengamanan</li></ol></li><li>Segmen pelajar/mahasiswa dengan usia dibawah produktif (15-25 tahun) memiliki appetite yang tinggi dalam melakukan transaksi pembayaran; walau dana yang masuk ke rekening relatif kecil daripada segmen usia produktif.</li></ol><h2><a href=\"#rekomendasi\"></a> Rekomendasi</h2><p>Untuk rekomendasi merchant, selain gerai makanan/kuliner, fokus marketing dan akuisisi merchant harus mendukung dan dirasakan menarik oleh segmen nasabah diatas. Contoh:</p><ol><li>Warmindo di sekitar lokasi pabrik/kost</li><li>Bengkel modifikasi sepeda motor</li><li>Distributor sparepart dan aksesoris sepeda motor</li><li>Distribusi sembako</li></ol><p>Perlu riset dan survey lebih lanjut ke segmen nasabah tersebut untuk mencari tahu lebih jauh mengenai preferensi transaksi mereka.</p><p>Perlu riset dan survey lebih lanjut terhadap kompetitor: OVO dan LINKAJA. Terutama sub-produk apa dari kompetitor yang dipakai oleh nasabah BAG.</p><h2><a href=\"#action-items\"></a> Action Items</h2><p>[ ] <strong>[PIC: Agnes &amp; Dian]</strong> Penyusunan program acquisition &amp; promo untuk:</p><ol><li>Pulsa &amp; paket data, Games —&gt; untuk segment pelajar &amp; mahasiswa —&gt; Mobile Legend, Free Fire, Apex Legend</li><li>Bengkel Modifikasi &amp; Aksesori Motor —&gt; untuk segment buruh dan pekerja</li><li>Sembako —&gt; untuk karyawan group dan all existing nasabah</li><li>Warmindo (warung indomie) —&gt; untuk segment buruh dan pekerja</li><li>% Agi Mobile User</li><li>New Customer/Conversion</li><li>Feebased income</li><li>Cost/Burn rate</li></ol><p>[x] [PIC: Bu Erika] Penyusunan naskah survey untuk riset lebih lanjut tentang use-case mobile banking/payment di segmen tersebut; Target: Senin 14 Maret 2022</p><p>[ ] [PIC: Bu Erika + Indri] Eksekusi survey untuk existing nasabah atau pengguna didalam group AG</p><p>Target: 361 data points</p><p>[ ] [PIC: Agnes] Eksekusi survey untuk target segment diluar group</p><p>Target: 361 data points</p>"
      ],
      "text/plain": [
       "<IPython.core.display.HTML object>"
      ]
     },
     "metadata": {},
     "output_type": "display_data"
    },
    {
     "data": {
      "text/html": [
       "<h1><a href=\"#analisis-merchant-qris-demografi\"></a> Analisis Merchant QRIS Demografi</h1><p>Source:</p><p><a href=\"/data insight/merchant_bahan_meeting_202304_(1).xlsx\">/data insight/merchant_bahan_meeting_202304_(1).xlsx</a></p><h3><a href=\"#grouping-category-cleansing\"></a> Grouping Category (Cleansing)</h3><pre v-pre=\"true\"><code>                  , CASE                        WHEN REGEXP_LIKE(MQ.MERCHANT_NAME, 'warteg|KUE|ayam|bakso|warteg|soto|makan|burger|kfc|food|sapi|bebek|mcd|nasi|cafe|sate|rawon|gudeg|pempek|rendang|gado|martabak|udang|mie|ikan|jamur|otak|goreng|bubur|rujak|pecel|laksa|kerupuk|lapis|puding|gulai|pepes|perkedel|sayur|sop|lontong|karedok|ketupat|tahu|gorengan|serabi|kolak|lemang|batagor|telor|semur|coffee|kopi|angkringan|dimsum|kedai|butter|catering|shihlin|solaria|fresh|xi bo ba|jco|es|janji jiwa|steak|starbucks|bakmie|shigeru|kintan|gelato|minang|crepes|onigiri|geprek|teh|kokumi|warteq|sushi|mkn|shushu|buah|kkuldak|chicken|corndog|dapur|bakery|buah|truffle|kemchicks|kantin|nyapii|kebab|makaroni|tongseng|susu|ikkudo|coffe|bakmi|koi|crepes|wingstop|ngopi|chatime|reddog|pagi sore|tea|corner|rice|koppi|warkop|ramen|eat|waroeng|masakan|wearung|jus|delico|stroberi|shabu|pig|kwetiau|kitchen|baso|lumpia|warunk|takoyaki|pizza|drinks|dessert|rotbak|auntie anne|babi|gokana|crispy|montato|yoshinoya|boba|cendol|dapoer|bbq|menantea|A&amp;W|bobain|sushi|bak|roti|chashio|uncle k|alpukat|dum|cilok|banana|wendy|kokoho|magal|kantin|juice|gokana|warunk|cream|hakata|steamboat|wing|puyo|wasabi|waroeng|potato|nasgorgil|nasgor|snack|ikkudo|saoenk|doner|broadway|jfc|imperial|kitamura|subway|breadtalk|kangtebu|shabu|talas|soerabi|eatlah|sandwich|xing fu tang|crispy|the harvest|warkop|zenbu|toast|roti|aroma|bkso|foodhall|warsun|pappajack|rm') THEN 'FOOD &amp; BEVERAGE'                        WHEN REGEXP_LIKE(MQ.MERCHANT_NAME,                                         'warung|mart|circle k|alfamart|alfamidi|market|kios|miniso|lawson|daiso|indomaret')                            THEN 'VARIETY_STORE'                        WHEN REGEXP_LIKE(MQ.MERCHANT_NAME,                                         'pay|tokko|bayar|tokopedia|indodax|blibli|itemku|guardian')                            THEN 'E-COMMERCE'                        WHEN MQC.DESCRIPTION = 'Regular' THEN 'REGULAR'                        WHEN MQC.DESCRIPTION = 'FAST FOOD RESTAURANTS' THEN 'FOOD &amp; BEVERAGES'                        WHEN MQC.DESCRIPTION = 'MISCELLANEOUS FOOD SHOPS-CONVENIENCE AND SPECIALITY RETAIL OUTLETS'                            THEN 'RETAIL OUTLETS'                        WHEN MQC.DESCRIPTION = 'SERVICE STATION' THEN 'BUILDING, ELECTRONICS, AUTOMOTIVE SERVICES'                        WHEN MQC.DESCRIPTION = 'GROCERIES AND SUPERMARKETS' THEN 'GROCERIES AND SUPERMARKETS'                        WHEN MQC.DESCRIPTION = 'OTHERS-NOT ELSEWHERE CLASSIFIED' THEN 'OTHERS-NOT ELSEWHERE CLASSIFIED'                        WHEN MQC.DESCRIPTION = 'MISCELLANEOUS AND SPECIALITY RETAIL OUTLETS' THEN 'RETAIL OUTLETS'                        WHEN MQC.DESCRIPTION = 'FAMILY CLOTHING SHOPS' THEN 'CLOTHING FASHION'                        WHEN MQC.DESCRIPTION = 'ACCOUNTING, AUDITING AND BOOKKEEPING SERVICES' THEN 'OTHER SERVICES'                        WHEN MQC.DESCRIPTION = 'BEAUTY AND BARBER SHOPS' THEN 'BEAUTY AND BARBER SHOPS'                        WHEN MQC.DESCRIPTION = 'VARIETY STORES' THEN 'VARIETY STORES'                        WHEN MQC.DESCRIPTION = 'MEN’S AND WOMEN’S CLOTHING SHOPS' THEN 'CLOTHING FASHION'                        WHEN MQC.DESCRIPTION = 'WOMEN’S ACCESSORY AND SPECIALITY SHOPS' THEN 'BEAUTY SHOP'                        WHEN MQC.DESCRIPTION = 'BAKERIES' THEN 'FOOD &amp; BEVERAGES'                        WHEN MQC.DESCRIPTION = 'ELECTRONICS SHOPS' THEN 'HOME SUPPLIES'                        WHEN MQC.DESCRIPTION = 'CLOTHING RENTALS - COSTUMES, UNIFORMS AND FORMAL WEAR'                            THEN 'CLOTHING FASHION'                        WHEN MQC.DESCRIPTION = 'AIRLINES AND AIR CARRIERS' THEN 'OTHER SERVICES'                        WHEN MQC.DESCRIPTION = 'WOMEN’S READY-TO-WEAR SHOPS' THEN 'CLOTHING FASHION'                        WHEN MQC.DESCRIPTION =                             'DRINKING PLACES (ALCOHOLIC BEVERAGES) - BARS, TAVERNS, NIGHT-CLUBS, COCKTAIL LOUNGES AND DISCOTHÈQUES'                            THEN 'FOOD &amp; BEVERAGES'                        WHEN MQC.DESCRIPTION = 'TELECOMMUNICATION EQUIPMENT AND TELEPHONE SALES' THEN 'TELCO &amp; PEYMENT'                        WHEN MQC.DESCRIPTION = 'FOOD &amp; BEVERAGE' THEN 'FOOD &amp; BEVERAGE'                        WHEN MQC.DESCRIPTION = 'COSMETIC SHOPS' THEN 'BEAUTY SHOP'                        WHEN MQC.DESCRIPTION = 'TRANSPORTATION SERVICES (NOT ELSEWHERE CLASSIFIED)'                            THEN 'BUILDING, ELECTRONICS, AUTOMOTIVE SERVICES'                        WHEN MQC.DESCRIPTION = 'GOVERNMENT SERVICES (NOT ELSEWHERE CLASSIFIED)' THEN 'OTHER SERVICES'                        WHEN MQC.DESCRIPTION = 'GOVERMENTS SERVICES (NOT ELSEWHERE CLASSIFIED)' THEN 'OTHER SERVICES'                        WHEN MQC.DESCRIPTION = 'Government Service' THEN 'OTHER SERVICES'                        WHEN MQC.DESCRIPTION = 'TAILORS, SEAMSTRESSES, MENDING AND ALTERATIONS' THEN 'CLOTHING FASHION'                        WHEN MQC.DESCRIPTION = 'AUTOMOTIVE SERVICE SHOPS (NON-DEALER)' THEN 'AUTOMOTIVE'                        WHEN MQC.DESCRIPTION =                             'FURNITURE, HOME FURNISHINGS AND EQUIPMENT SHOPS AND MANUFACTURERS, EXCEPT APPLIANCES'                            THEN 'HOME SUPPLIES'                        WHEN MQC.DESCRIPTION = 'MISCELLANEOUS PERSONAL SERVICES - NOT ELSEWHERE CLASSIFIED'                            THEN 'OTHER SERVICES'                        WHEN MQC.DESCRIPTION = 'AUTOMOTIVE PARTS AND ACCESSORIES OUTLETS' THEN 'AUTOMOTIVE'                        WHEN MQC.DESCRIPTION = 'PUBLIC GOLF COURSES' THEN 'OTHER SERVICES'                        WHEN MQC.DESCRIPTION = 'PET SHOPS, PET FOOD AND SUPPLIES' THEN 'PET SHOP'                        WHEN MQC.DESCRIPTION = 'MEN’S AND BOYS’ CLOTHING AND ACCESSORY SHOPS' THEN 'CLOTHING FASHION'                        WHEN MQC.DESCRIPTION = 'HOME SUPPLY WAREHOUSE OUTLETS' THEN 'HOME SUPPLIES'                        WHEN MQC.DESCRIPTION = 'HOBBY, TOY AND GAME SHOPS' THEN 'HOBBY, TOY AND GAME SHOPS'                        WHEN MQC.DESCRIPTION = 'LAUNDRY SERVICES - FAMILY AND COMMERCIAL' THEN 'LAUNDRY'                        WHEN MQC.DESCRIPTION = 'DAIRIES' THEN 'GROCERIES AND SUPERMARKETS'                        WHEN MQC.DESCRIPTION = 'SHOE SHOPS' THEN 'CLOTHING FASHION'                        WHEN MQC.DESCRIPTION = 'PAYMENT SERVICE PROVIDER' THEN 'TELCO &amp; PEYMENT'                        WHEN MQC.DESCRIPTION = 'FLORISTS' THEN 'HOBBY, TOY AND GAME SHOPS'                        WHEN MQC.DESCRIPTION = 'LAUNDRY, CLEANING AND GARMENT SERVICES' THEN 'LAUNDRY'                        WHEN MQC.DESCRIPTION = 'CANDY, NUT AND CONFECTIONERY SHOPS' THEN 'FOOD &amp; BEVERAGES'                        WHEN MQC.DESCRIPTION = 'MISCELLANEOUS APPAREL AND ACCESSORY SHOPS' THEN 'BEAUTY SHOP'                        WHEN MQC.DESCRIPTION = 'CONSTRUCTION MATERIALS (NOT ELSEWHERE CLASSIFIED)'                            THEN 'BUILDING, ELECTRONICS, AUTOMOTIVE SERVICES'                        WHEN MQC.DESCRIPTION = 'BLUEPRINTING AND PHOTOCOPYING SERVICES' THEN 'OFFICE &amp; SCHOOL SUPPLIES'                        WHEN MQC.DESCRIPTION = 'SCHOOLS AND EDUCATIONAL SERVICES (NOT ELSEWHERE CLASSIFIED)'                            THEN 'OFFICE &amp; SCHOOL SUPPLIES'                        WHEN MQC.DESCRIPTION = 'LODGING - HOTELS, MOTELS AND RESORTS' THEN 'OTHER SERVICES'                        WHEN MQC.DESCRIPTION = 'GIFT, CARD, NOVELTY AND SOUVENIR SHOPS' THEN 'BEAUTY SHOP'                        WHEN MQC.DESCRIPTION = 'HEALTH AND BEAUTY SPAS' THEN 'BEAUTY AND BARBER SHOPS'                        WHEN MQC.DESCRIPTION = 'DRUG STORES AND PHARMACIES' THEN 'HOSPITAL &amp; MEDICAL'                        WHEN MQC.DESCRIPTION = 'INDUSTRIAL SUPPLIES (NOT ELSEWHERE CLASSIFIED)'                            THEN 'BUILDING, ELECTRONICS, AUTOMOTIVE SERVICES'                        WHEN MQC.DESCRIPTION = 'JEWELLERY, WATCH, CLOCK AND SILVERWARE SHOPS' THEN 'CLOTHING FASHION'                        WHEN MQC.DESCRIPTION = 'AQUARIUMS, SEAQUARIUMS AND DOLPHINARIUMS'                            THEN 'HOBBY, TOY AND GAME SHOPS'                        WHEN MQC.DESCRIPTION = 'WHOLESALE CLUBS' THEN 'WHOLESALE CLUBS'                        WHEN MQC.DESCRIPTION = 'AUTOMOTIVE BODY REPAIR SHOPS' THEN 'AUTOMOTIVE'                        WHEN MQC.DESCRIPTION = 'DENTAL/LABORATORY/MEDICAL/OPHTHALMIC HOSPITAL EQUIPMENT AND SUPPLIES'                            THEN 'HOSPITAL &amp; MEDICAL'                        WHEN MQC.DESCRIPTION = 'STATIONERY, OFFICE SUPPLIES AND PRINTING AND WRITING PAPER'                            THEN 'OFFICE &amp; SCHOOL SUPPLIES'                        WHEN MQC.DESCRIPTION =                             'TELECOMMUNICATION SERVICES, INCLUDING LOCAL AND LONG DISTANCE CALLS, CREDIT CARD CALLS, CALLS THROUGH USE OF MAGNETIC STRIPE READING TELEPHONES AND FAXES'                            THEN 'TELECOMMUNICATION EQUIPMENT AND TELEPHONE SALES'                        WHEN MQC.DESCRIPTION = 'OPTICAL GOODS AND EYEGLASSES' THEN 'BEAUTY SHOP'                        WHEN MQC.DESCRIPTION = 'CAR WASHES' THEN 'AUTOMOTIVE'                        WHEN MQC.DESCRIPTION = 'CHILDREN’S AND INFANTS’ WEAR SHOPS' THEN 'CLOTHING FASHION'                        WHEN MQC.DESCRIPTION = 'FLORISTS, SUPPLIES, NURSERY STOCK AND FLOWERS' THEN 'HOME SUPPLIES'                        WHEN MQC.DESCRIPTION = 'REAL ESTATES AGENT, MANAGER &amp; RENTAL'                            THEN 'BUILDING, ELECTRONICS, AUTOMOTIVE SERVICES'                        WHEN MQC.DESCRIPTION = 'CIGAR SHOPS AND STANDS' THEN 'HOBBY, TOY AND GAME SHOPS'                        WHEN MQC.DESCRIPTION = 'UTILITIES-ELECTRIC, GAS, WATER AND SANITARY' THEN 'HOME SUPPLIES'                        WHEN MQC.DESCRIPTION = 'RELIGIOUS ORGANIZATIONS' THEN 'RELIGIOUS ORGANIZATIONS'                        WHEN MQC.DESCRIPTION = 'Religious Organization' THEN 'RELIGIOUS ORGANIZATIONS'                        WHEN MQC.DESCRIPTION = 'MISCELLANEOUS GENERAL MERCHANDISE' THEN 'RETAIL OUTLETS'                        WHEN MQC.DESCRIPTION = 'MOTOR VEHICLE SUPPLIES AND NEW PARTS' THEN 'AUTOMOTIVE'                        WHEN MQC.DESCRIPTION = 'ARTIST SUPPLY AND CRAFT SHOPS' THEN 'BEAUTY SHOP'                        WHEN MQC.DESCRIPTION = 'PARKING LOTS AND GARAGES'                            THEN 'BUILDING, ELECTRONICS, AUTOMOTIVE SERVICES'                        WHEN MQC.DESCRIPTION = 'MEDICAL SERVICES AND HEALTH PRACTITIONERS (NOT ELSEWHERE CLASSIFIED)'                            THEN 'HOSPITAL &amp; MEDICAL'                        WHEN MQC.DESCRIPTION = 'ADVERTISING SERVICES' THEN 'OTHER SERVICES'                        WHEN MQC.DESCRIPTION = 'AIR CONDITIONING AND REFRIGERATION REPAIR SHOPS' THEN 'HOME SUPPLIES'                        WHEN MQC.DESCRIPTION = 'STATIONERY, OFFICE AND SCHOOL SUPPLY SHOPS'                            THEN 'OFFICE &amp; SCHOOL SUPPLIES'                        WHEN MQC.DESCRIPTION = 'HOUSEHOLD APPLIANCE SHOPS' THEN 'HOME SUPPLIES'                        WHEN MQC.DESCRIPTION = 'AIRPORTS, FLYING FIELDS AND AIRPORT TERMINALS' THEN 'OTHER SERVICES'                        WHEN MQC.DESCRIPTION = 'ART DEALERS AND GALLERIES' THEN 'HOBBY, TOY AND GAME SHOPS'                        WHEN MQC.DESCRIPTION = 'MOTORCYCLE SHOPS AND DEALERS' THEN 'AUTOMOTIVE'                        WHEN MQC.DESCRIPTION = 'HARDWARE SHOPS' THEN 'HOME SUPPLIES'                        WHEN MQC.DESCRIPTION = 'MUSIC SHOPS - MUSICAL INSTRUMENTS, PIANOS AND SHEET MUSIC'                            THEN 'HOBBY, TOY AND GAME SHOPS'                        WHEN MQC.DESCRIPTION = 'SPORTING GOODS SHOPS' THEN 'HOBBY, TOY AND GAME SHOPS'                        WHEN MQC.DESCRIPTION = 'MOTOR HOME AND RECREATIONAL VEHICLE RENTALS' THEN 'AUTOMOTIVE'                        WHEN MQC.DESCRIPTION = 'ELECTRONICS REPAIR SHOPS'                            THEN 'BUILDING, ELECTRONICS, AUTOMOTIVE SERVICES'                        WHEN MQC.DESCRIPTION = 'COURIER SERVICES-AIR AND GROUND AND FREIGHT FORWARDERS'                            THEN 'BUILDING, ELECTRONICS, AUTOMOTIVE SERVICES'                        WHEN MQC.DESCRIPTION = 'SERVICE STATIONS (WITH OR WITHOUT ANCILLARY SERVICES)'                            THEN 'BUILDING, ELECTRONICS, AUTOMOTIVE SERVICES'                        ELSE 'OTHERS' END          AS MERCHANT_CATEGORY</code></pre>"
      ],
      "text/plain": [
       "<IPython.core.display.HTML object>"
      ]
     },
     "metadata": {},
     "output_type": "display_data"
    },
    {
     "data": {
      "text/html": [
       "<h1><a href=\"#agi-new-mobile-apps-ux-research\"></a> AGI New Mobile Apps - UX Research</h1><h2><a href=\"#usability-test-plan-scenario\"></a> Usability Test Plan: Scenario</h2><p><strong>User Goal</strong></p><ol><li>User melakukan registrasi</li><li>User melakukan login</li><li>User melakukan transaksi</li></ol><p><strong>Scenario</strong></p><ol><li>User “baru” melakukan registrasi</li><li>User “baru” melakukan login</li><li>User “baru” melakukan transaksi <strong>transfer</strong></li><li>User “baru” melakukan transaksi <strong>QRIS</strong></li><li>User “baru” melakukan transaksi “<strong>Pembayaran X</strong>”</li><li>User “baru” melakukan transaksi “<strong>Pembelian A</strong>”</li><li>User “baru” melakukan transaksi “<strong>Top Up P</strong>”</li></ol><h3><a href=\"#research-feedback\"></a> Research + feedback</h3><figure><img src=\"http://127.0.0.1:5000/get-image-semantic/aginewmobile/untitled.png\"/></figure><figure><img src=\"http://127.0.0.1:5000/get-image-semantic/aginewmobile/untitled_1.png\"/></figure><figure><img src=\"http://127.0.0.1:5000/get-image-semantic/aginewmobile/untitled_2.png\"/></figure><figure><img src=\"http://127.0.0.1:5000/get-image-semantic/aginewmobile/untitled_3.png\"/></figure><figure><img src=\"http://127.0.0.1:5000/get-image-semantic/aginewmobile/untitled_4.png\"/></figure><figure><img src=\"http://127.0.0.1:5000/get-image-semantic/aginewmobile/untitled_5.png\"/></figure><figure><img src=\"http://127.0.0.1:5000/get-image-semantic/aginewmobile/untitled_6.png\"/></figure><figure><img src=\"http://127.0.0.1:5000/get-image-semantic/aginewmobile/untitled_7.png\"/></figure><figure><img src=\"http://127.0.0.1:5000/get-image-semantic/aginewmobile/untitled_8.png\"/></figure><figure><img src=\"http://127.0.0.1:5000/get-image-semantic/aginewmobile/untitled_9.png\"/></figure><figure><img src=\"http://127.0.0.1:5000/get-image-semantic/aginewmobile/untitled_10.png\"/></figure><figure><img src=\"http://127.0.0.1:5000/get-image-semantic/aginewmobile/untitled_11.png\"/></figure><h3><a href=\"#discovered-problem\"></a> Discovered problem</h3><p><i>“categorize the pain points from Empathize”</i></p><p>Instruksi belum cukup clear dan penempatan instruksi tidak sesuai</p><p><strong>Reg 2-4, CA 1-2</strong></p><p>Beberapa fitur icon masih ada yang membingungkan untuk apa</p><p><strong>Reg 1, O 1, O 5, O 6, T 1, PP 1,</strong></p><p>Redundansi menu, tidak efisien</p><p><strong>O2, T2, PB1, TOP1,</strong></p><p>Fitur transaksi banyak yang ngumpet</p><p><strong>O3, O4</strong></p><p>Ada step yang ga terduga perlu dilakukan</p><p><strong>PB 1, TOP 1</strong></p><h3><a href=\"#ideation-suggest-for-improvement\"></a> Ideation (suggest for improvement)</h3><p><strong>Instruksi belum cukup clear dan penempatan instruksi tidak sesuai</strong></p><ol><li>Memberikan on boarding, dengan 2 case</li></ol><ul><li>Account baru</li><li>Baru menginstall regardless akun baru atau bukan</li></ul><figure><img src=\"http://127.0.0.1:5000/get-image-semantic/aginewmobile/untitled_12.png\"/></figure><p>2. Pada Registrasi foto KTP diberi petunjuk “Ambil foto KTP”</p><p>3. Pada Registrasi foto KTP diberi petunjuk contoh gambar hasil foto KTP yang benar dan salah</p><p><i>ini fungsinya biar user ngerti harus kaya gimana kalo foto KTP yang benar</i></p><p>point 2 dan 3 berlaku untuk take selfie dengan KTP</p><p><strong>for example:</strong></p><figure><img src=\"http://127.0.0.1:5000/get-image-semantic/aginewmobile/untitled_13.png\"/></figure><p>Screen take foto KTP diperbaiki box-nya; 1 box KTP aja</p><figure><img src=\"http://127.0.0.1:5000/get-image-semantic/aginewmobile/untitled_6.png\"/></figure><p><strong>Beberapa fitur icon masih ada yang membingungkan untuk apa</strong></p><p>belum kepikiran, mungkin onboarding atau dari penempatan di step yang mana</p><p><strong>Redundansi menu, tidak efisien</strong></p><p>All Fav menu bisa di ganti dengan fitur transaksi lain saja a.k.a dihilangkan</p><p>“Transfer from” dan “source of fund” di merge?? Pas pilih “Transfer from” drop down “source of fund”</p><p>PB 1 dan TOP 1 dibuat 1 page aja; di atas section menu dna di bawah section transaction history</p><ol><li>opsi lain transction history di bikin icon sendiri aja di pojok kanan atas</li></ol><p><strong>Fitur transaksi banyak yang ngumpet</strong></p><ol><li>menampilkan beberapa fitur utama di halaman depan<ol><li>bisa by favorite, most transaction used (personalised); tapi ini butuh default menu</li><li>bisa ditentukan oleh kita berdasarkan data</li></ol></li></ol><p><strong>Ada step yang ga terduga perlu dilakukan</strong></p>"
      ],
      "text/plain": [
       "<IPython.core.display.HTML object>"
      ]
     },
     "metadata": {},
     "output_type": "display_data"
    },
    {
     "data": {
      "text/html": [
       "<h1><a href=\"#analisis-kuadran-merchant-berdasarkan-transaksi-balance-dan-amount\"></a> Analisis Kuadran Merchant berdasarkan Transaksi, Balance, dan Amount</h1><h2><a href=\"#latar-belakang-dan-tujuan\"></a> Latar Belakang dan Tujuan</h2><p>Marketing analytics merupakan salah satu target pada RBB 2023. Tujuan analisis adalah menentukan target customer untuk ditawarkan produk BAG yang sesuai dengan karakteristik customer berdasarkan hasil analisis. Pada analisis ini, penentuan target customer dilakukan pada Merchant untuk penawaran produk SME dan Konsumer. Data-data seperti transaksi dan balance rekening perlu dilakukan untuk memberikan gambaran potensial merchant.</p><h2><a href=\"#analisis-populasi-data-merchant\"></a> Analisis Populasi Data Merchant</h2><p>Terdapat beberapa hal yang dianalisis untuk mendapatkan populasi merchant yang akan ditawarkan produk BAG.</p><ol><li>Merchant bukan merupakan sharing account yang dikelola oleh BAG atau cabang</li><li>Merchant bukan merupakan sharing account dari perusahaan yang ada di grup</li><li>Merchant memiliki transaksi minimal 1 sejak 90 hari terakhir (data per 28/12/2022)</li></ol><p>Berikut ringkasan hasil analisis populasi merchant</p><ul><li>Total Account Number = 3179</li><li>Total Merchant = 3335</li></ul><p>Data Merchant yang dikumpulkan</p><ul><li>Account Number</li><li>Jumlah Merchant per Account Number</li><li>Total Transaksi dalah 90 hari terakhir</li><li>Total Amount Transaksi dalam 90 hari terakhir</li><li>Average balance 90 hari terakhir</li></ul><p><i>*) data per 28/12/2022</i></p><h2><a href=\"#analisis-kuadran-transaksi-dan-balance\"></a> Analisis Kuadran Transaksi dan Balance</h2><p>Beberapa simulasi dilakukan dengan mencari proporsi Top X% merchant dengan transaksi tertinggi dan Top Y% merchant dengan balance tertinggi.</p><figure><img src=\"http://127.0.0.1:5000/get-image-semantic/insight/trx_vs_bal.jpg\"/></figure><h3><a href=\"#simulasi-1-25-transaksi-vs-25-balance\"></a> <mark>Simulasi 1 (25% Transaksi vs 25% Balance)</mark></h3><p>Dengan simulasi pertama, menggunakan TOP 25% merchant dengan transaksi terbanyak dan TOP 25% merchant dengan balance tertinggi. Diperoleh jumlah account per kuadran sebagai berikut:</p><figure><table><tbody><tr><td><strong>Kuadran</strong></td><td><strong>Count of ACCOUNT_NUMBER</strong></td></tr><tr><td>I</td><td>2</td></tr><tr><td>II</td><td>16</td></tr><tr><td>III</td><td>3146</td></tr><tr><td>IV</td><td>15</td></tr><tr><td><strong>Grand Total</strong></td><td><strong>3179</strong></td></tr></tbody></table></figure><h3><a href=\"#simulasi-2-50-transaksi-vs-50-balance\"></a> <mark>Simulasi 2 (50% Transaksi vs 50% Balance)</mark></h3><p>Dengan simulasi pertama, menggunakan TOP 50% merchant dengan transaksi terbanyak dan TOP 50% merchant dengan balance tertinggi. Diperoleh jumlah account per kuadran sebagai berikut:</p><figure><table><tbody><tr><td><strong>Kuadran</strong></td><td><strong>Count of ACCOUNT_NUMBER</strong></td></tr><tr><td>I</td><td>6</td></tr><tr><td>II</td><td>67</td></tr><tr><td>III</td><td>3062</td></tr><tr><td>IV</td><td>44</td></tr><tr><td><strong>Grand Total</strong></td><td><strong>3179</strong></td></tr></tbody></table></figure><h3><a href=\"#simulasi-3-proporsional\"></a> <mark>Simulasi 3 (proporsional)</mark></h3><p><strong>Statistik Data Transaksi Merchant</strong></p><figure><table><tbody><tr><td><strong>Kalkulasi</strong></td><td><strong>TRX</strong></td><td><strong> posisi % </strong></td></tr><tr><td>Average Transaksi</td><td>147</td><td rowspan=\"5\"></td></tr><tr><td>P25</td><td>3</td></tr><tr><td>P50</td><td>12</td></tr><tr><td>P75</td><td>63</td></tr><tr><td>P90</td><td>272</td></tr><tr><td><strong>P95</strong></td><td><strong>604</strong></td><td><strong>66%</strong></td></tr><tr><td><strong>P97</strong></td><td><strong>1021</strong></td><td><strong>60%</strong></td></tr><tr><td><strong>P99</strong></td><td><strong>2615,8</strong></td><td><strong>34%</strong></td></tr></tbody></table></figure><p><strong>Statistik Data Merchant Balance</strong></p><figure><table><tbody><tr><td><strong>Kalkulasi</strong></td><td><strong>Balance</strong></td><td><strong> posisi % </strong></td></tr><tr><td>Average Balance</td><td> 7.528.943 </td><td rowspan=\"5\"></td></tr><tr><td>P25</td><td>           49.617 </td></tr><tr><td>P50</td><td>        260.963 </td></tr><tr><td>P75</td><td>     1.531.041 </td></tr><tr><td>P90</td><td> 10.363.817 </td></tr><tr><td><strong>P95</strong></td><td><strong>   30.824.641 </strong></td><td><strong>77%</strong></td></tr><tr><td><strong>P97</strong></td><td><strong>   61.359.130 </strong></td><td><strong>65%</strong></td></tr><tr><td><strong>P99</strong></td><td><strong> 192.746.213 </strong></td><td><strong>38%</strong></td></tr></tbody></table></figure><p>Mengacu pada data statistik di atas, secara “expert judgment” angka transaksi yang di dalam batas normal ada pada posisi P95 (66%),  P97 (60%) atau P99 (34%). Untuk balance, batas normal berada pada posisi P95 (77%),  P97 (65) atau P99 (38%). </p><p>Simulasi untuk <strong>Transaksi P95</strong></p><figure><table><tbody><tr><td colspan=\"2\"><p><strong>Balance P95</strong></p></td><td> </td><td colspan=\"2\"><p><strong>Balance P97</strong></p></td><td></td><td colspan=\"2\"><p><strong>Balance P99</strong></p></td></tr><tr><td><strong>Kuadran</strong></td><td><strong>Count of ACCOUNT_NUMBER</strong></td><td> </td><td><strong>Kuadran</strong></td><td><strong>Count of ACCOUNT_NUMBER</strong></td><td> </td><td><strong>Kuadran</strong></td><td><strong>Count of ACCOUNT_NUMBER</strong></td></tr><tr><td>I</td><td>33</td><td> </td><td>I</td><td>20</td><td> </td><td>I</td><td>7</td></tr><tr><td>II</td><td>125</td><td> </td><td>II</td><td>138</td><td> </td><td>II</td><td>151</td></tr><tr><td>III</td><td>2896</td><td> </td><td>III</td><td>2948</td><td> </td><td>III</td><td>2997</td></tr><tr><td>IV</td><td>125</td><td> </td><td>IV</td><td>73</td><td> </td><td>IV</td><td>24</td></tr><tr><td><strong>Grand Total</strong></td><td><strong>3179</strong></td><td> </td><td><strong>Grand Total</strong></td><td><strong>3179</strong></td><td> </td><td><strong>Grand Total</strong></td><td><strong>3179</strong></td></tr></tbody></table></figure><p>Simulasikan untuk <strong>Transaksi P97</strong></p><figure><table><tbody><tr><td colspan=\"2\"><p><strong>Balance P95</strong></p></td><td> </td><td colspan=\"2\"><p><strong>Balance P97</strong></p></td><td></td><td colspan=\"2\"><p><strong>Balance P99</strong></p></td></tr><tr><td>Kuadran</td><td><strong>Count of ACCOUNT_NUMBER</strong></td><td> </td><td><strong>Kuadran</strong></td><td><strong>Count of ACCOUNT_NUMBER</strong></td><td> </td><td><strong>Kuadran</strong></td><td><strong>Count of ACCOUNT_NUMBER</strong></td></tr><tr><td>I</td><td>28</td><td> </td><td>I</td><td>15</td><td> </td><td>I</td><td>4</td></tr><tr><td>II</td><td>90</td><td> </td><td>II</td><td>103</td><td> </td><td>II</td><td>114</td></tr><tr><td>III</td><td>2931</td><td> </td><td>III</td><td>2983</td><td> </td><td>III</td><td>3034</td></tr><tr><td>IV</td><td>130</td><td> </td><td>IV</td><td>78</td><td> </td><td>IV</td><td>27</td></tr><tr><td><strong>Grand Total</strong></td><td><strong>3179</strong></td><td> </td><td><strong>Grand Total</strong></td><td><strong>3179</strong></td><td> </td><td><strong>Grand Total</strong></td><td><strong>3179</strong></td></tr></tbody></table></figure><p>Simulasi untuk <strong>Transaksi P99</strong></p><figure><table><tbody><tr><td colspan=\"2\"><p><strong>Balance P95</strong></p></td><td> </td><td colspan=\"2\"><p><strong>Balance P97</strong></p></td><td></td><td colspan=\"2\"><p><strong>Balance P99</strong></p></td></tr><tr><td><strong>Kuadran</strong></td><td><strong>Count of ACCOUNT_NUMBER</strong></td><td> </td><td><strong>Kuadran</strong></td><td><strong>Count of ACCOUNT_NUMBER</strong></td><td> </td><td><strong>Kuadran</strong></td><td><strong>Count of ACCOUNT_NUMBER</strong></td></tr><tr><td>I</td><td>15</td><td> </td><td>I</td><td>7</td><td> </td><td>I</td><td>2</td></tr><tr><td>II</td><td>16</td><td> </td><td>II</td><td>24</td><td> </td><td>II</td><td>29</td></tr><tr><td>III</td><td>3005</td><td> </td><td>III</td><td>3062</td><td> </td><td>III</td><td>3119</td></tr><tr><td>IV</td><td>143</td><td> </td><td>IV</td><td>86</td><td> </td><td>IV</td><td>29</td></tr><tr><td><strong>Grand Total</strong></td><td><strong>3179</strong></td><td> </td><td><strong>Grand Total</strong></td><td><strong>3179</strong></td><td> </td><td><strong>Grand Total</strong></td><td><strong>3179</strong></td></tr></tbody></table></figure><h2><a href=\"#analisis-kuadran-transaksi-dan-amount\"></a> Analisis Kuadran Transaksi dan Amount</h2><p>Beberapa simulasi dilakukan dengan mencari proporsi Top X% merchant dengan transaksi tertinggi dan Top Y% merchant dengan amount tertinggi.</p><figure><img src=\"http://127.0.0.1:5000/get-image-semantic/insight/trx_x_amt.jpg\"/></figure><h3><a href=\"#simulasi-1-25-transaksi-vs-25-amount\"></a> <mark>Simulasi 1 (25% Transaksi vs 25% Amount)</mark></h3><p>Dengan simulasi pertama, menggunakan TOP 25% merchant dengan transaksi terbanyak dan TOP 25% merchant dengan total amount tertinggi. Diperoleh jumlah account per kuadran sebagai berikut:</p><figure><table><tbody><tr><td><strong>Kuadran</strong></td><td><strong>Count of ACCOUNT_NUMBER</strong></td></tr><tr><td>I</td><td>7</td></tr><tr><td>II</td><td>3155</td></tr><tr><td>III</td><td>6</td></tr><tr><td>IV</td><td>11</td></tr><tr><td><strong>Grand Total</strong></td><td><strong>3179</strong></td></tr></tbody></table></figure><h3><a href=\"#simulasi-2-50-transaksi-vs-50-amount\"></a> <br/><mark><strong>Simulasi 2 (50% Transaksi vs 50% Amount)</strong></mark></h3><p>Dengan simulasi pertama, menggunakan TOP 50% merchant dengan transaksi terbanyak dan TOP 50% merchant dengan total amount tertinggi. Diperoleh jumlah account per kuadran sebagai berikut:</p><figure><table><tbody><tr><td><strong>Kuadran</strong></td><td><strong>Count of ACCOUNT_NUMBER</strong></td></tr><tr><td>I</td><td>36</td></tr><tr><td>II</td><td>3073</td></tr><tr><td>III</td><td>33</td></tr><tr><td>IV</td><td>37</td></tr><tr><td><strong>Grand Total</strong></td><td><strong>3179</strong></td></tr></tbody></table></figure><h3><a href=\"#simulasi-3-proporsional-1\"></a> <mark>Simulasi 3 (proporsional)</mark></h3><p><strong>Statistik Data Transaksi Merchant</strong></p><figure><table><tbody><tr><td><strong>Kalkulasi</strong></td><td><strong>TRX</strong></td><td><strong> posisi % </strong></td></tr><tr><td>Average Transaksi</td><td>147</td><td rowspan=\"5\"></td></tr><tr><td>P25</td><td>3</td></tr><tr><td>P50</td><td>12</td></tr><tr><td>P75</td><td>63</td></tr><tr><td>P90</td><td>272</td></tr><tr><td><strong>P95</strong></td><td><strong>604</strong></td><td><strong>66%</strong></td></tr><tr><td><strong>P97</strong></td><td><strong>1021</strong></td><td><strong>60%</strong></td></tr><tr><td><strong>P99</strong></td><td><strong>2615,8</strong></td><td><strong>34%</strong></td></tr></tbody></table></figure><p><strong>Statistik Data Merchant Balance</strong></p><figure><table><tbody><tr><td><strong>Kalkulasi</strong></td><td><strong>Amount</strong></td><td><strong> posisi % </strong></td></tr><tr><td>Average Balance</td><td>   12.532.268 </td><td> </td></tr><tr><td>P25</td><td>       120.000 </td><td> </td></tr><tr><td>P50</td><td>       900.000 </td><td> </td></tr><tr><td>P75</td><td>     5.330.000 </td><td> </td></tr><tr><td>P90</td><td>   23.140.000 </td><td> </td></tr><tr><td><strong>P95</strong></td><td><strong>   53.719.000 </strong></td><td><strong>66%</strong></td></tr><tr><td><strong>P97</strong></td><td><strong>   83.855.680 </strong></td><td><strong>56%</strong></td></tr><tr><td><strong>P99</strong></td><td><strong> 191.971.546 </strong></td><td><strong>37%</strong></td></tr></tbody></table></figure><p>Mengacu pada data statistik di atas, secara “expert judgment” angka transaksi yang di dalam batas normal ada pada posisi P95 (66%),  P97 (60%) atau P99 (34%). Untuk balance, batas normal berada pada posisi P95 (66%),  P97 (56%) atau P99 (37%). </p><p>Simulasi untuk <strong>Transaksi P95</strong></p><figure><table><tbody><tr><td colspan=\"2\"><p><strong>Balance P95</strong></p></td><td> </td><td colspan=\"2\"><p><strong>Balance P97</strong></p></td><td></td><td colspan=\"2\"><p><strong>Balance P99</strong></p></td></tr><tr><td><strong>Kuadran</strong></td><td><strong>Count of ACCOUNT_NUMBER</strong></td><td> </td><td><strong>Kuadran</strong></td><td><strong>Count of ACCOUNT_NUMBER</strong></td><td> </td><td><strong>Kuadran</strong></td><td><strong>Count of ACCOUNT_NUMBER</strong></td></tr><tr><td>I</td><td>87</td><td> </td><td>I</td><td>59</td><td> </td><td>I</td><td>28</td></tr><tr><td>II</td><td>2955</td><td> </td><td>II</td><td>2985</td><td> </td><td>II</td><td>3017</td></tr><tr><td>III</td><td>66</td><td> </td><td>III</td><td>36</td><td> </td><td>III</td><td>4</td></tr><tr><td>IV</td><td>71</td><td> </td><td>IV</td><td>99</td><td> </td><td>IV</td><td>130</td></tr><tr><td><strong>Grand Total</strong></td><td><strong>3179</strong></td><td> </td><td><strong>Grand Total</strong></td><td><strong>3179</strong></td><td> </td><td><strong>Grand Total</strong></td><td><strong>3179</strong></td></tr></tbody></table></figure><p>Simulasikan untuk <strong>Transaksi P97</strong></p><figure><table><tbody><tr><td colspan=\"2\"><p><strong>Balance P95</strong></p></td><td> </td><td colspan=\"2\"><p><strong>Balance P97</strong></p></td><td></td><td colspan=\"2\"><p><strong>Balance P99</strong></p></td></tr><tr><td>Kuadran</td><td><strong>Count of ACCOUNT_NUMBER</strong></td><td> </td><td><strong>Kuadran</strong></td><td><strong>Count of ACCOUNT_NUMBER</strong></td><td> </td><td><strong>Kuadran</strong></td><td><strong>Count of ACCOUNT_NUMBER</strong></td></tr><tr><td>I</td><td>77</td><td> </td><td>I</td><td>57</td><td> </td><td>I</td><td>27</td></tr><tr><td>II</td><td>2985</td><td> </td><td>II</td><td>3023</td><td> </td><td>II</td><td>3056</td></tr><tr><td>III</td><td>76</td><td> </td><td>III</td><td>38</td><td> </td><td>III</td><td>5</td></tr><tr><td>IV</td><td>41</td><td> </td><td>IV</td><td>61</td><td> </td><td>IV</td><td>91</td></tr><tr><td><strong>Grand Total</strong></td><td><strong>3179</strong></td><td> </td><td><strong>Grand Total</strong></td><td><strong>3179</strong></td><td> </td><td><strong>Grand Total</strong></td><td><strong>3179</strong></td></tr></tbody></table></figure><p>Simulasi untuk <strong>Transaksi P99</strong></p><figure><table><tbody><tr><td colspan=\"2\"><p><strong>Balance P95</strong></p></td><td> </td><td colspan=\"2\"><p><strong>Balance P97</strong></p></td><td></td><td colspan=\"2\"><p><strong>Balance P99</strong></p></td></tr><tr><td><strong>Kuadran</strong></td><td><strong>Count of ACCOUNT_NUMBER</strong></td><td> </td><td><strong>Kuadran</strong></td><td><strong>Count of ACCOUNT_NUMBER</strong></td><td> </td><td><strong>Kuadran</strong></td><td><strong>Count of ACCOUNT_NUMBER</strong></td></tr><tr><td>I</td><td>30</td><td> </td><td>I</td><td>26</td><td> </td><td>I</td><td>16</td></tr><tr><td>II</td><td>3025</td><td> </td><td>II</td><td>3079</td><td> </td><td>II</td><td>3132</td></tr><tr><td>III</td><td>123</td><td> </td><td>III</td><td>69</td><td> </td><td>III</td><td>16</td></tr><tr><td>IV</td><td>1</td><td> </td><td>IV</td><td>5</td><td> </td><td>IV</td><td>15</td></tr><tr><td><strong>Grand Total</strong></td><td><strong>3179</strong></td><td> </td><td><strong>Grand Total</strong></td><td><strong>3179</strong></td><td> </td><td><strong>Grand Total</strong></td><td><strong>3179</strong></td></tr></tbody></table></figure><h2><a href=\"#rekomendasi\"></a> Rekomendasi</h2><h3><a href=\"#rekomendasi-1-akuisisi-sme\"></a> <mark>Rekomendasi 1: Akuisisi SME</mark></h3><p>Mengacu pada <strong>Analisis Kuadran Transaksi-Balance, Kuadran I dan IV dengan titik Balance pada P95 dapat dijadikan target untuk AKUISISI SME</strong>. Justifikasinya adalah merchant-merchant pada titik tersebut memiliki Avaragae Balance di batas atas normal (P95). Dengan kata lain merchant yang merupakan nasabah cukup …(istilahnya apa lupa gw) sehingga dapat ditawarkan produk SME.</p><h3><a href=\"#rekomendasi-2-melakukan-deep-analysis-untuk-penawaran-produk-konsumer\"></a> <mark>Rekomendasi 2: Melakukan deep analysis untuk penawaran produk Konsumer</mark></h3><p>Mengacu pada <strong>Analisis Kuadran Transaksi-Balance, Kuadran II dengan titik Balance pada P95 dapat dijadikan target untuk AKUISISI KONSUMER</strong>.</p><h3><a href=\"#\"></a>  </h3>"
      ],
      "text/plain": [
       "<IPython.core.display.HTML object>"
      ]
     },
     "metadata": {},
     "output_type": "display_data"
    },
    {
     "data": {
      "text/html": [
       "<h1><a href=\"#analisis-transaksi-qris-biller\"></a> Analisis Transaksi Qris &amp; Biller</h1><h2><a href=\"#latar-belakang-dan-tujuan\"></a> LATAR BELAKANG DAN TUJUAN</h2><p>Analisis ini dibuat untuk memberikan insight dalam penentuan fokus dan opsi untuk menentukan promo yang akan diberikan untuk menstimulasi proses transaksi pada merchant yang dituju</p><h2><a href=\"#temuan-utama\"></a> Temuan Utama</h2><p>Data yang digunakan adalah dana transasksi QRIS dari Bulan Maret 2021 dan dana transaksi Pembelian dan Pembayaran dari Tahun 2017</p><h3><a href=\"#biller\"></a> BILLER</h3><p>Detail Isi Pulsa</p><p>List Provider</p><p>Data Di atas merupakan data dari banyaknya transaksi dan besar transaksi yang dilakukan oleh nasabah ke provider</p><blockquote><p>Dari data diatas kita bisa lihat bahwa transaksi terbanyak Dilakukan provider Telkomsel bahkan jumlahnya melebihi semua provider lain jika digabungkan.</p></blockquote><p>Banyak Transaksi</p><p>Ringkasan Perbulan</p><p>Berikut merupakan ringkasan jumlah transaksi dan besar nilai transaksi yang dilakukan nasabah</p><p>Maret 22</p><p>Febuari 22</p><p>Januari 22</p><p>Desember 21</p><p>November 21</p><p>Oktober 21</p><p>September 21</p><h2><a href=\"#kesimpulan\"></a> Kesimpulan</h2><p>Ada beberapa hal yang perlu digarisbawahi:</p><ol><li>Terdapat appetite untuk menggunakan platform BAG dalam melakukan pembayaran</li><li>Pembayaran transaksi Terbanyak dilakukan pada Pembelian Isi Ulang Pulsa selama 6 bulan terakhir</li><li>Tekomsel merupakan provider dengan nilai transaksi terbesar dan jumlah transaksi terbanyak</li></ol><h1><a href=\"#rekomendasi\"></a> Rekomendasi</h1><p>Perlu riset dan survey lebih lanjut ke segmen nasabah tersebut untuk mencari tahu lebih jauh mengenai preferensi transaksi mereka.</p><h1><a href=\"#qris\"></a> QRIS</h1><p>Ringkasan Terbesar</p><p>Berikut merupakan ringkasan dari nilai transaksi dan banyaknya transaksi yang dilakukan dengan nasabah dalam pembayaran QRIS</p><p>10 Merchant Paling banyak Melakukan Transaksi</p><p>10 Merchant Dengan Nilai Transaksi Terbesar</p><p>Ringkasan Terkecil</p><p>Berikut merupakan ringkasan dari nilai transaksi dan banyaknya transaksi yang dilakukan dengan nasabah dalam pembayaran QRIS</p><p>10 Merchant Paling Sedikit Melakukan Transaksi dengan Nilai Transaksi Sedikit</p><p>10 Merchant Paling Sedikit Melakukan Transaksi dengan Nilai Transaksi Paling Besar</p><blockquote><p>Data diatas merupakan data dari merchant yang sedikit melakukan transaksi tetapi nilai nilai transaksi besar. merchant dengan data tersebut melakukan satu transaksi dengan nilai transaksi yang besar</p></blockquote><p>Kategori Merchant</p><p>Berikut kategori-kategori merchant yang bekerjasama dengan bank</p><p>Berdasarkan Kategori Merchant</p><p>Berdasarkan Kode kategori yang ada</p><p>Berdasarkan Badan Usaha</p><p>Data Perbulan</p><p>Maret 22</p><p>Febuari 22</p><p>Januari 22</p><p>Desember 21</p><p>November 21</p><p>Oktober 21</p><p>September 21</p><p>Data diatas merupakan data dari nilai transaksi dan Banyak transaksi perbulannya selama 6 bulan terakhir</p><h2><a href=\"#kesimpulan-1\"></a> Kesimpulan</h2><p>Ada beberapa hal yang perlu digarisbawahi:</p><ol><li>Terdapat appetite untuk menggunakan platform BAG dalam melakukan pembayaran</li><li>tidak ada merchant yang menempati urutan tertinggi selama 2 bulan dengan nilai transaksi terbesar</li><li>ada merchant yang melakukan nilai transaksi yang besar dengan transaksi yang sedikit</li></ol><h1><a href=\"#rekomendasi-1\"></a> Rekomendasi</h1><p>Untuk rekomendasi pemberian Promo pada merchant kita bisa memberikan beberapa opsi yang bisa menguntungkan pembeli. dari hasil data diatas kita bisa memberikan promo dengan cara:</p><ul><li>Memberikan Jenis Promo untuk barang cepat habis yang bertujuan untuk merchant dengan jumlah transaksi yang banyak. hal ini dapat menstimulasi pembeli pada merchant yang menjual barang yang dapat dikonsumsi dan harganya murah. jenis promo yang diberikan bisa berupa potongan harga atau bonus menu untuk pembelian dengan harga tertentu</li><li>Memberikan Penurunan harga untuk produk tertentu jika sudah mencapai harga yang ditentukan. hal ini dapat menstimulasi pembeli untuk membeli barang jika harga barang yang seharusnya dapat dibeli dengan harga yang lebih murah</li><li>Memberikan undian ketika membeli barang dengan harga tertentu dan berlaku kelipatan</li></ul>"
      ],
      "text/plain": [
       "<IPython.core.display.HTML object>"
      ]
     },
     "metadata": {},
     "output_type": "display_data"
    },
    {
     "data": {
      "text/html": [
       "<h1><a href=\"#emoney-abuse\"></a> Emoney Abuse</h1><p><a href=\"/meeting_notes.pdf\">/meeting_notes.pdf</a></p><h3><a href=\"#kronologi\"></a> Kronologi</h3><ul><li>Narasi</li></ul><figure><table><thead><tr><th>No</th><th>Korban</th><th>Pelaku</th><th>BAG</th></tr></thead><tbody><tr><td>1</td><td> </td><td>Menghubungi Korban mengaku sebagai karyawan Shopee</td><td> </td></tr><tr><td>2</td><td>Dihubungi Pelaku bahwa Korban mendapat hadiah/cashback senilai (contoh Rp. 2jt)</td><td> </td><td> </td></tr><tr><td>3</td><td> </td><td>Meminta Korban download aplikasi Pinjaman Onliner (ex: Kredivo)</td><td> </td></tr><tr><td>4</td><td>Mendowload dan registrasi akun Pinjaman nline</td><td> </td><td> </td></tr><tr><td>5</td><td> </td><td><p>Meminta informasi data Pinjol Korban </p><p>- OTP </p><p>- KTP </p><p>- Foto </p><p>- Ibu Kandung </p><p>- Email </p><p>- dll.</p></td><td> </td></tr><tr><td>6</td><td>Memberikan informasi data Pinjol ke Pelaku</td><td> </td><td> </td></tr><tr><td>7</td><td> </td><td>Membajak akun Pinjol Korban</td><td> </td></tr><tr><td>8</td><td> </td><td>Membuat trasnaksi pinjaman di aku Pinjol Korban</td><td> </td></tr><tr><td>9</td><td>Mendapat Notifikasi Pinjaman dari aplikasi Pinjol</td><td> </td><td> </td></tr><tr><td>10</td><td> </td><td>Membuat akun BAG atas nama Korban</td><td> </td></tr><tr><td>11</td><td> </td><td>Membuat trasnaksi pinjaman di aku Pinjol Korban</td><td> </td></tr><tr><td>12</td><td> </td><td>Membuat transaksi di akun BAG</td><td> </td></tr><tr><td>13</td><td>Membuat laporan ke BAG dan Kepolisian</td><td> </td><td> </td></tr><tr><td>14</td><td> </td><td> </td><td>Mendapat Laporan dari Korban</td></tr><tr><td>15</td><td> </td><td> </td><td>Memblokir akun yang terkait Korban</td></tr></tbody></table></figure><h3><a href=\"#data-analysis\"></a> Data Analysis</h3><p><strong>Data Komplain</strong></p><ul><li>Tanggal transaksi terlapor : 11 Agustus 2021 - 19 Juni 2022</li><li>47 nomor rekening terlapor</li><li>Total nominal terlapor : Rp 83,079,000</li></ul><p><strong>Data Suspect</strong></p><ul><li>Tanggal data terdeteksi : 6 Febuari 2022 - 19 Juni 2022</li><li>41 nomor rekening dengan</li><li>Total Nominal suspicious transaction: Rp 72,590,542</li></ul><p><strong>Document</strong></p><p><a href=\"/clean_suspicious_transcation_old_mb_-_20220624.xlsx\">Clean_Suspicious Transcation OLD MB - 20220624.xlsx</a></p><p><a href=\"/kronologi_pengaduan_nasabah_penyalahgunaan_data_bagi_money.xls\">Kronologi pengaduan nasabah penyalahgunaan data BAGI Money.xls</a></p><h3><a href=\"#rekomendasi\"></a> Rekomendasi</h3><p><strong>Limitasi Friction</strong></p><ol><li>Limitasi amount transaksi per har per user</li><li>Limitasi transaksi User Biasa dan User Upgrade</li></ol><p><strong>User Flow Friction</strong></p><ol><li>OTP</li><li>Upgrade Account</li><li>Create Rekening</li></ol><p><strong>Edukasi</strong></p><ol><li>Memberikan onboarding pada aplikasi di entry point tertentu<ol><li>Registrasi Mobile Banking</li><li>Aktivasi Emoney</li></ol></li><li>Menambahkan wording “menjaga keamanan” pada SMS OTP dan Email notif</li><li>Social Media</li><li>Notifikasi himbauan “security awareness” regular</li></ol><p><strong>Hold Pencairan/Transaksi dengan rekomendasi Amount tertentu</strong></p><ul><li>Penambahan bisnis proses id Anti Fraud</li></ul>"
      ],
      "text/plain": [
       "<IPython.core.display.HTML object>"
      ]
     },
     "metadata": {},
     "output_type": "display_data"
    },
    {
     "data": {
      "text/html": [
       "<h1><a href=\"#program-promotion-agi-mobile-acqactv\"></a> Program Promotion Agi Mobile ACQ,ACTV</h1><p>Donasi</p><p>Pembelian Hewa Kurban</p><p>Jual murah</p><p>Produk</p><ul><li>hewan kurban</li><li>bumbu masak</li><li>arang, tusuk sate</li><li>ketupat</li><li>sembako</li></ul><p>Target subjek</p><ul><li>pedagang hewan kurban</li><li>subject untuk trigger donasi</li><li>pedagang bumbu/arang/tusuk sate/ketupat</li><li>Pedagang sembako, jual murah</li></ul>"
      ],
      "text/plain": [
       "<IPython.core.display.HTML object>"
      ]
     },
     "metadata": {},
     "output_type": "display_data"
    },
    {
     "data": {
      "text/html": [
       "<h1><a href=\"#startup-kasirpos-research\"></a> Startup Kasir/POS Research</h1><p>Source: <a href=\"https://id.techinasia.com/kumpulan-startup-pos-di-indonesia\">https://id.techinasia.com/kumpulan-startup-pos-di-indonesia</a></p><ol><li>Moka</li><li>Pawoon</li><li>Majoo (add.)</li><li>Olsera</li><li>Deal POS</li><li>Omega POS Cloud</li><li>HelloBill</li><li>Nadi POS</li><li>Meeber POS</li><li>Dokuku</li><li>Folio</li><li>Qasir (Add.)</li></ol><h3><a href=\"#agi-use-case\"></a> AGI use case:</h3><ul><li>pake app kasir/POS partner, otomatis dibukain rekening AG</li><li>pembeli di toko bisa terima pembayaran QRIS pake QRISnya AG</li><li>pembeli di toko bisa pakai payment channelnya paprika (<a href=\"https://www.paprika.co.id\">https://www.paprika.co.id</a>)</li><li>prefer yang belum punya partnership eksklusif sama bank lain</li></ul><h3><a href=\"#comparison\"></a> Comparison</h3><figure><table><tbody><tr><td><strong>Startup</strong></td><td><strong>Website</strong></td><td><strong>Tag</strong></td><td><strong>Bisnis Model</strong></td><td><strong>Partnership</strong></td><td><strong>QRIS/VA/Payment Channel Use Case</strong></td><td><strong> </strong></td></tr><tr><td>Moka</td><td><code>https://www.mokapos.com/</code></td><td><p>- POS </p><p>- CRM </p><p>- Digital Lending (Moka Capital)</p></td><td><p>- Tablet is installed Moka POS mobile app </p><p>- Hardware<i> </i></p><p><i>- S</i>ubscription </p><p>- Moka Capital (digital lending) </p><p>- Digital Payment</p></td><td><p>- PT Mandiri Capital Indonesia, Bank Mandiri</p><p> - Modalku </p><p>- Commonwealth</p></td><td><p>- e-Wallet (digital payment) </p><p>- QRIS *MDR is applied</p></td><td> </td></tr><tr><td>Pawoon</td><td><code>https://www.pawoon.com/</code></td><td><p>- POS </p><p>- CRM</p></td><td><p>-Mobile app<i> </i></p><p><i>- S</i>ubscription </p><p>- Hardware </p><p>- Digital Payment </p></td><td>- No banking partner</td><td><p>- e-Wallet (digital payment) </p><p>- QRIS *MDR is applied </p><p>- VA for subscriber</p></td><td>Prefered 100.000+ install</td></tr><tr><td>Majoo</td><td> </td><td><p>- POS - Digital Lending: (Majoo Capital) </p><p>- Ads </p><p>- Omnichannel</p></td><td><p>- Mobile app</p><p><i> - S</i>ubscription</p><p> - Hardware </p><p>- Digital Payment </p></td><td><p>- modalku </p><p>- BRI </p><p>- Commonwealth </p><p>- BRI Ventures</p></td><td><p>- e-Wallet (digital payment) </p><p>- QRIS *MDR is applied</p></td><td> </td></tr><tr><td>Qasir</td><td>qasir.id</td><td><p>- POS</p><p>- Digital Lending</p></td><td><p>- Mobile app<i> </i></p><p><i>- S</i>ubscription </p><p>- Hardware </p><p>- Digital Payment </p></td><td>No banking partner</td><td><p>- e-Wallet (digital payment) </p><p>- QRIS *MDR is applied</p></td><td><p>Prefered but syariah</p><p>500.000+ install</p></td></tr><tr><td> Olsera</td><td> olsera.com</td><td><p> - POS </p><p>- Omnichannel</p></td><td><p> - Mobile app<i> </i></p><p><i>- S</i>ubscription </p><p>- Hardware </p><p>- Digital Payment </p></td><td> No banking partner</td><td><p> - e-Wallet (digital payment)</p><p> - QRIS *MDR is applied</p></td><td>Prefered 50.000+ Install</td></tr><tr><td> Deal POS</td><td> dealpos.co.id</td><td><p> - POS </p><p>- Digital Lending </p><p>- omnichannel </p><p>- Payment link</p></td><td><p> - Mobile apps </p><p>- Hardware </p><p>- subscription </p><p>- Digital Payment </p><p>- Omnichannel</p></td><td> No banking partner</td><td><p> - e-wallet(digital payment) </p><p>- QRIS </p><p>- Bank transfer/ATM</p></td><td>Prefered 5000+ Install</td></tr><tr><td> cashlez</td><td> </td><td> </td><td> </td><td> </td><td> </td><td>10000+ install</td></tr></tbody></table></figure><h3><a href=\"#recommendation\"></a> Recommendation</h3><ul><li>Moka (kontak: venny xBL)</li><li>Pawoon (kontak: venny xBL)</li><li>Majoo</li><li>Olsera</li><li>DealPos</li><li>Qasir??? (syariah)</li></ul>"
      ],
      "text/plain": [
       "<IPython.core.display.HTML object>"
      ]
     },
     "metadata": {},
     "output_type": "display_data"
    },
    {
     "data": {
      "text/html": [
       "<h1>Analisis Transaksi Scan QRIS atau Pay Now pada Mobile Banking Oleh Nasabah Bank Artha Graha Internasional</h1><h1><a href=\"#background\"></a> <strong>Background</strong></h1><p>Seiring berkembangnya zaman, saat ini sudah banyak <i>merchant-merchant </i>ataupun penjual yang menggunakan metode <i>cashless</i> sebagai metode pembayaran, salah satunya dengan menggunakan QRIS. BAGI melalui aplikasi agi mobile menyediakan layanan <i>scan</i> QRIS atau Pay Now sebagai salah satu fasilitas untuk melakukan pembayaran secara <i>cashless</i> di <i>merchant-mechant </i>yang menyediakan faislitas tersebut. Diketahui transaksi penggunaan fasilitas <i>scan</i> QRIS atau Pay Now nasabah BAGI masih rendah. Untuk itu diambil sampel data transaksi <i>scan</i> QRIS atau Pay Now nasabah selama 6 bulan terakhir, yaitu pada periode Februari sampai dengan Juli 2023.</p><h1><a href=\"#data-source-time-scope\"></a> <strong>Data Source &amp; Time Scope</strong></h1><ol><li>Data nasabah yang melakukan transaksi QRIS atau Pay Now pada Februari-Juli 2023</li><li>Data CASA 31 Juli 2023</li></ol><h1><a href=\"#key-findings\"></a> <strong>Key Findings</strong></h1><ol><li>Dari 230.289 pengguna AGI Mobile, jumlah transaksi nasabah yang menggunakan <i>scan</i> QRIS/Pay Now hanya <strong>247.897 transaksi</strong> atau sebanding dengan 1x transaksi/user all time.</li><li>Terdapat <strong>10.929 nasabah</strong> melakukan transaksi <i>scan</i> QRIS all time dan <strong>8.264 nasabah </strong>dalam periode Februari sampai dengan Juli 2023.</li><li><strong>1.501 nasabah baru 2023 </strong>melakukan transaksi <i>scan</i> QRIS atau setidaknya 18% dari total nasabah yang bertransaksi QRIS pada Februari - Juli 2023.</li><li><strong>Nasabah Artha Payroll </strong>merupakan nasabah yang paling banyak melakukan transaksi <i>scan </i>QRIS.</li></ol><h1><a href=\"#recommendation\"></a> <strong>Recommendation</strong></h1><p>Sebutkan rekomendasi apa aja yang ingin dilakukan berdasarkan Key Findings</p><h1><a href=\"#analysis\"></a> <strong>Analysis</strong></h1><p>Tuliskan proses kalian dalam menganalisis, proses bisa diceritakan dahulu apa yang mau dicari, kemudian divisualisasi, lalu disimpulkan.</p><h1><a href=\"#appendix\"></a> <strong>Appendix</strong></h1><p>Masukin ke sini query, atau file2 kalian dari hasil analisis.</p>"
      ],
      "text/plain": [
       "<IPython.core.display.HTML object>"
      ]
     },
     "metadata": {},
     "output_type": "display_data"
    },
    {
     "data": {
      "text/html": [
       "<h1><a href=\"#tracker-program-cashback\"></a> Tracker Program Cashback</h1><p>Cashback Rule</p><ol><li>Cashback diberikan untuk TRANSAKSI PERTAMA setiap customer SEJAK START PERIODE PROMO<ol><li>merchantnya hanya ke yang eligible</li><li>kalo customer transaksi ke 3 merchant yang eligible ambil yang pertama</li></ol></li><li>Cashback hanya applied ke UMI, UKE</li><li>Cashback hanya X% max RpY</li></ol><p>WHAT DO WE WANT TO KNOW?</p><ol><li>jumlah merchant yang eligible</li><li>jumlah customer yang mendapat cashback</li><li>jumlah transaksi yang mendapatkan cashback &gt; harusnya sama kaya point 2</li><li>jumlah cashback yang keluar berdasarkan no 3 dnegan perhitungan % amount cashback</li></ol><p>Res:</p><p>Query:</p><p><a href=\"/automation_cashback_report.sql\">/automation_cashback_report.sql</a></p>"
      ],
      "text/plain": [
       "<IPython.core.display.HTML object>"
      ]
     },
     "metadata": {},
     "output_type": "display_data"
    }
   ],
   "source": [
    "for new_test in new_data_test:\n",
    "    display(HTML(new_test['text_content']))"
   ]
  },
  {
   "cell_type": "code",
   "execution_count": 17,
   "id": "8948cdbb-2eea-48c5-9416-5eeca483a97b",
   "metadata": {},
   "outputs": [],
   "source": [
    "documents = []\n",
    "embeddings = []\n",
    "metadatas = []\n",
    "ids = []\n",
    "\n",
    "for index, data in enumerate(new_data_test):\n",
    "    documents.append(data['text_content'])\n",
    "    embedding = model.encode(data['text_content']).tolist()\n",
    "    embeddings.append(embedding)\n",
    "    metadatas.append({'title': data['title_content'], 'topic_document' : data['topic_document'], 'tanggal_content' : data['tanggal_content'],\n",
    "                      'author_content' : data['author_content'], 'link_content': data['link_content'], 'direktorat_content' : data['direktorat_content'],\n",
    "                     'pic_analyst_content' : data['PIC_Analyst']})\n",
    "    ids.append(str(index + 1))"
   ]
  },
  {
   "cell_type": "code",
   "execution_count": 18,
   "id": "74d742a5-f5a3-422e-b274-3ff12624af17",
   "metadata": {},
   "outputs": [],
   "source": [
    "import chromadb\n",
    "client = chromadb.Client()\n",
    "agi_collection_emb = client.create_collection(\"agi_collection_emb\")"
   ]
  },
  {
   "cell_type": "code",
   "execution_count": 19,
   "id": "bf15415b-7d9c-4a54-866c-9ccc170426b4",
   "metadata": {},
   "outputs": [],
   "source": [
    "agi_collection_emb.add(\n",
    "    documents=documents,\n",
    "    embeddings=embeddings,\n",
    "    metadatas=metadatas,\n",
    "    ids=ids\n",
    ")"
   ]
  },
  {
   "cell_type": "code",
   "execution_count": 20,
   "id": "b1cace81-8440-45b1-948e-f5aa822e40de",
   "metadata": {},
   "outputs": [],
   "source": [
    "query = \"Simulai kondisi realistis pada dokumen analisis target akuisisi dan aktivasi merchant\".lower()\n",
    "input_em = model.encode(query).tolist()\n",
    "\n",
    "results = agi_collection_emb.query(\n",
    "    query_embeddings=[input_em],\n",
    "    n_results=3,\n",
    ")"
   ]
  },
  {
   "cell_type": "code",
   "execution_count": 21,
   "id": "d1435d82-b971-476c-9b41-b3dd5c0c6927",
   "metadata": {},
   "outputs": [],
   "source": [
    "output = []\n",
    "for metadata, document_list, distances, ids in zip(results['metadatas'], results['documents'], results['distances'], results['ids']):\n",
    "    for metadata_item, document, distance, ids_doc in zip(metadata, document_list, distances, ids):\n",
    "        title = metadata_item['title']\n",
    "        topic_document = metadata_item['topic_document']\n",
    "        tanggal_content = metadata_item['tanggal_content']\n",
    "        author_content = metadata_item['author_content']\n",
    "        link_content = metadata_item['link_content']\n",
    "        direktorat_content =  metadata_item['direktorat_content']\n",
    "        pic_analyst_content = metadata_item['pic_analyst_content']\n",
    "        output.append({\n",
    "            'ids_doc' : ids_doc,\n",
    "            'title': title,\n",
    "            'document': document,\n",
    "            'topic_document' :topic_document,\n",
    "            'tanggal_content' : tanggal_content,\n",
    "            'author_content' : author_content,\n",
    "            'direktorat_content' : direktorat_content,\n",
    "            'pic_analyst_content' : pic_analyst_content,\n",
    "            'link_content' : link_content,\n",
    "            'length' : len(document),\n",
    "            'distance_doc' : distance,\n",
    "        })"
   ]
  },
  {
   "cell_type": "code",
   "execution_count": 22,
   "id": "9bbaade0-0c09-4114-8260-88e0c9c70612",
   "metadata": {},
   "outputs": [
    {
     "name": "stdout",
     "output_type": "stream",
     "text": [
      "[07042022] Analisis Target Akuisisi dan Aktivasi Merchant QRIS\n",
      "Analisis Kuadran Merchant berdasarkan Transaksi, Balance, dan Amount\n",
      "[08042022] Database Promo Ideation\n"
     ]
    }
   ],
   "source": [
    "for doc in output:\n",
    "    print(doc['title'])"
   ]
  },
  {
   "cell_type": "code",
   "execution_count": 23,
   "id": "e14f46ed-4c38-4f8a-a027-62dbefa80687",
   "metadata": {},
   "outputs": [],
   "source": [
    "### tuning model"
   ]
  },
  {
   "cell_type": "code",
   "execution_count": 24,
   "id": "82cc4143-0995-4cbf-a535-3e337d8242d4",
   "metadata": {},
   "outputs": [],
   "source": [
    "# model_sentence_list = [\"msmarco-MiniLM-L6-cos-v5\",\n",
    "#                       \"msmarco-MiniLM-L12-cos-v5\",\n",
    "#                       \"msmarco-distilbert-cos-v5\",\n",
    "#                       \"multi-qa-MiniLM-L6-cos-v1\",\n",
    "#                       \"multi-qa-distilbert-cos-v1\",\n",
    "#                       \"multi-qa-mpnet-base-cos-v1\",]\n",
    "\n",
    "# for model_item in model_sentence_list:\n",
    "#     modelBaca = Reducer(model_item)\n",
    "\n",
    "#     answer = []\n",
    "#     for doc in output:\n",
    "#         answerNew= modelBaca.reduce(doc['document'], query, num_sents=4)\n",
    "#         answer.append({\"id_doc\" : doc['ids_doc'],\"title_doc\" : doc['title'], \"content_doc\" : answerNew, \"length_doc\" : len(answerNew), \"distance_doc\" : round(doc['distance_doc'], 3) })\n",
    "\n",
    "\n",
    "\n",
    "# # print(answer)    \n",
    "\n"
   ]
  },
  {
   "cell_type": "code",
   "execution_count": 25,
   "id": "d2b2ef4b-e01b-47bf-abfe-603dbe8a9781",
   "metadata": {},
   "outputs": [],
   "source": [
    "modelBaca = Reducer(\"msmarco-MiniLM-L-6-v3\")\n",
    "\n",
    "answer = []\n",
    "for doc in output:\n",
    "    answerNew= modelBaca.reduce(doc['document'], query, num_sents=6)\n",
    "    content = answerNew\n",
    "    soup = BeautifulSoup(content, 'html.parser')\n",
    "    formatted_content = soup.prettify()\n",
    "    \n",
    "    # Mengembalikan konten yang telah diperbaiki ke dalam objek data\n",
    "    answer.append({\"id_doc\" : doc['ids_doc'],\"title_doc\" : doc['title'], \"content_doc\" : formatted_content, \"length_doc\" : len(answerNew), \"distance_doc\" : round(doc['distance_doc'], 3),\n",
    "                  \"topic_documents\" : doc['topic_document'], \"tanggal_content\" : doc['tanggal_content'], \"author_content\" : doc['author_content'],\n",
    "                  \"link_content\" : doc['link_content'], 'direktorat_content' : doc['direktorat_content'], 'pic_analyst_content' : doc['pic_analyst_content']})\n",
    "\n",
    "# print(answer)"
   ]
  },
  {
   "cell_type": "code",
   "execution_count": 26,
   "id": "5f241467-f74e-4cf1-a659-738efd7589c0",
   "metadata": {},
   "outputs": [
    {
     "data": {
      "text/plain": [
       "[{'id_doc': '1',\n",
       "  'title_doc': '[07042022] Analisis Target Akuisisi dan Aktivasi Merchant QRIS',\n",
       "  'content_doc': '<h1>\\n <a href=\"#h-07042022-analisis-target-akuisisi-dan-aktivasi-merchant-qris\">\\n </a>\\n [07042022] Analisis Target Akuisisi dan Aktivasi Merchant QRIS\\n</h1>\\n<h2>\\n <a href=\"#latar-belakang-dan-tujuan\">\\n </a>\\n Latar Belakang dan Tujuan\\n</h2>\\n<p>\\n Analisis ini dibuat sebagai dasar pembuatan dan desain kontrol untuk strategi akuisisi dan aktivasi merchant QRIS.\\n</p>\\n<p>\\n Target full year 2022 adalah akuisisi 100.000 merchant QRIS, dan 1 Trilyun CASA. Oleh karena itu perlu dilakukan analisis untuk menyusun strategi akuisisi dan aktivasi merchant QRIS, menurunkan teknis pelaksanaan di lapangan, dan desain &amp; mekanisme kontrol pelaksanaannya.\\n</p>\\n<h2>\\n <a href=\"#temuan-utama\">\\n </a>\\n Temuan Utama\\n</h2>\\n<h3>\\n <a href=\"#simulasi-target\">\\n </a>\\n Simulasi Target\\n</h3>\\n<p>\\n Berangkat dari target 100 ribu customer dan asumsi 1T target CASA bisa didapatkan\\n <strong>\\n  seluruhnya\\n </strong>\\n dari transaksi QRIS. Skema simulasi menggunakan skema Referral yang sudah terdefinisi di dokumen ‘Target 1 Juta Nasabah’.\\n</p>\\n<h3>\\n <a href=\"#simulasi-kondisi-ideal\">\\n </a>\\n Simulasi kondisi ideal\\n</h3>\\n<p>\\n Dalam simulasi ini, metric yang harus dijaga untuk dapat mencapai tujuan adalah:\\n</p>\\n<p>\\n Metric akuisisi merchant:\\n</p>\\n<ol>\\n <li>\\n  Rasio Merchant Aktif: 20%\\n </li>\\n <li>\\n  Merchant MGM % Merchant Aktif: 30%\\n </li>\\n <li>\\n  Rata-rata Akuisisi per Merchant MGM: 5 merchant\\n </li>\\n</ol>\\n<p>\\n Metric aktivasi merchant:\\n</p>\\n<ol>\\n <li>\\n  Banyaknya Transaksi per Merchant: 150 transaksi\\n </li>\\n <li>\\n  Rata-rata Nilai Transaksi: IDR 100.000\\n </li>\\n</ol>\\n<figure>\\n <img baik=\"\" bank.<=\"\" berdampak=\"\" bisnis=\"\" cabang=\"\" dan=\"\" dipastikan=\"\" hubungan=\"\" itu=\"\" kerjasama=\"\" merchant=\"\" p=\"\" perlu=\"\" positif=\"\" sehingga=\"\" terhadap=\"\" terjalin=\"\" untuk=\"\" yang=\"\"/>\\n <p>\\n  Untuk menunjang kunci keberhasilan tersebut, perlu adanya tracking dan definisi target untuk metric tertentu kepada cabang, baik itu dalam aspek akuisisi maupun aktivasi.\\n </p>\\n <p>\\n  Perlu adanya gamifikasi sebagai sarana berkompetisi antar cabang, dan perlu diadakan reward bagi cabang yang membuktikan prestasinya.\\n </p>\\n <p>\\n  Oleh karena itu, direkomendasikan model pemantauan metric berupa kuadran capaian dengan poros-poros:\\n </p>\\n <ol>\\n  <li>\\n   Metric Akuisisi: Total Merchant, dimana pencapaian cabang dibagi berpusat pada median akuisisi cabang.\\n  </li>\\n  <li>\\n   Metric Aktivasi: Raiso Merchant aktif, dimana pencapaian cabang dibagi berpusat pada target user aktif (20%)\\n  </li>\\n </ol>\\n <figure>\\n  <img src=\"http://127.0.0.1:5000/get-image-semantic/aktivasimerchantqris/untitled_6.png\"/>\\n </figure>\\n <p>\\n  Target user aktif harus rutin dikaji berdasarkan realisasi capaian cabang dan kebutuhan pemenuhan target tahun 2022\\n </p>\\n <p>\\n  Perlu adanya arahan rutin ke cabang sebagai sarana cabang untuk mengidentifikasi merchant yang perlu distimulasi untuk kembali aktif dan/atau diberikan apresiasi karena telah menjadi merchant yang loyal kepada BAG.\\n </p>\\n .\\n</figure>\\n',\n",
       "  'length_doc': 2723,\n",
       "  'distance_doc': 0.967,\n",
       "  'topic_documents': 'Digital Insight',\n",
       "  'tanggal_content': '2022-12-28T02:53:36.352Z',\n",
       "  'author_content': 'Rahmi',\n",
       "  'link_content': 'http://10.0.232.117:3000/en/Insight/Data_Insight/AnalisisTargetAkuisisidanAktivasiMerchantQRIS',\n",
       "  'direktorat_content': 'Digital Insight',\n",
       "  'pic_analyst_content': 'Ghifari Daulagiri'},\n",
       " {'id_doc': '6',\n",
       "  'title_doc': 'Analisis Kuadran Merchant berdasarkan Transaksi, Balance, dan Amount',\n",
       "  'content_doc': '<h1>\\n <a href=\"#analisis-kuadran-merchant-berdasarkan-transaksi-balance-dan-amount\">\\n </a>\\n Analisis Kuadran Merchant berdasarkan Transaksi, Balance, dan Amount\\n</h1>\\n<h2>\\n <a href=\"#latar-belakang-dan-tujuan\">\\n </a>\\n Latar Belakang dan Tujuan\\n</h2>\\n<p>\\n Marketing analytics merupakan salah satu target pada RBB 2023. Tujuan analisis adalah menentukan target customer untuk ditawarkan produk BAG yang sesuai dengan karakteristik customer berdasarkan hasil analisis. Data-data seperti transaksi dan balance rekening perlu dilakukan untuk memberikan gambaran potensial merchant.\\n</p>\\n<h2>\\n <a href=\"#analisis-populasi-data-merchant\">\\n </a>\\n Analisis Populasi Data Merchant\\n</h2>\\n<p>\\n Terdapat beberapa hal yang dianalisis untuk mendapatkan populasi merchant yang akan ditawarkan produk BAG.\\n</p>\\n<ol>\\n <li>\\n  Merchant bukan merupakan sharing account yang dikelola oleh BAG atau cabang\\n </li>\\n <li>\\n  Merchant bukan merupakan sharing account dari perusahaan yang ada di grup\\n </li>\\n <li>\\n  Merchant memiliki transaksi minimal 1 sejak 90 hari terakhir (data per 28/12/2022)\\n </li>\\n</ol>\\n<p>\\n Berikut ringkasan hasil analisis populasi merchant\\n</p>\\n<ul>\\n <li>\\n  Total Account Number = 3179\\n </li>\\n <li>\\n  Total Merchant = 3335\\n </li>\\n</ul>\\n<p>\\n Data Merchant yang dikumpulkan\\n</p>\\n<ul>\\n <li>\\n  Account Number\\n </li>\\n <li>\\n  Jumlah Merchant per Account Number\\n </li>\\n <li>\\n  Total Transaksi dalah 90 hari terakhir\\n </li>\\n <li>\\n  Total Amount Transaksi dalam 90 hari terakhir\\n </li>\\n <li>\\n  Average balance 90 hari terakhir\\n </li>\\n</ul>\\n<p>\\n <i>\\n  *) data per 28/12/2022\\n </i>\\n</p>\\n<h2>\\n <a href=\"#analisis-kuadran-transaksi-dan-balance\">\\n </a>\\n Analisis Kuadran Transaksi dan Balance\\n</h2>\\n<p>\\n Beberapa simulasi dilakukan dengan mencari proporsi Top X% merchant dengan transaksi tertinggi dan Top Y% merchant dengan balance tertinggi.\\n</p>\\n<figure>\\n <img src=\"http://127.0.0.1:5000/get-image-semantic/insight/trx_vs_bal.jpg\"/>\\n</figure>\\n<h3>\\n <a href=\"#simulasi-1-25-transaksi-vs-25-balance\">\\n </a>\\n <mark>\\n  Simulasi 1 (25% Transaksi vs 25% Balance)\\n </mark>\\n</h3>\\n<p>\\n Dengan simulasi pertama, menggunakan TOP 25% merchant dengan transaksi terbanyak dan TOP 25% merchant dengan balance tertinggi. Dengan kata lain merchant yang merupakan nasabah cukup …(istilahnya apa lupa gw) sehingga dapat ditawarkan produk SME.\\n</p>\\n<h3>\\n <a href=\"#rekomendasi-2-melakukan-deep-analysis-untuk-penawaran-produk-konsumer\">\\n </a>\\n <mark>\\n  Rekomendasi 2: Melakukan deep analysis untuk penawaran produk Konsumer\\n </mark>\\n</h3>\\n<p>\\n Mengacu pada\\n <strong>\\n  Analisis Kuadran Transaksi-Balance, Kuadran II dengan titik Balance pada P95 dapat dijadikan target untuk AKUISISI KONSUMER\\n </strong>\\n .\\n</p>\\n<h3>\\n <a href=\"#\">\\n </a>\\n</h3>\\n.\\n',\n",
       "  'length_doc': 2533,\n",
       "  'distance_doc': 1.026,\n",
       "  'topic_documents': 'Digital Insight',\n",
       "  'tanggal_content': '2022-12-30T10:23:27.674Z',\n",
       "  'author_content': 'Rahmi',\n",
       "  'link_content': 'http://10.0.232.117:3000/en/Insight/Data_Insight/Analisis_Kuadran_Merchant',\n",
       "  'direktorat_content': 'Digital Insight',\n",
       "  'pic_analyst_content': 'Rahmi Julianasari'},\n",
       " {'id_doc': '2',\n",
       "  'title_doc': '[08042022] Database Promo Ideation',\n",
       "  'content_doc': 'Analisis Target Akuisisi dan Aktivasi Merchant QRIS\\n, rekomendasi promo yang ditargetkan adalah\\n<ol>\\n <li>\\n  Metric Akuisisi: Total Merchant, dimana pencapaian cabang dibagi berpusat pada median akuisisi cabang.\\n </li>\\n <li>\\n  Metric Aktivasi: Raiso Merchant aktif, dimana pencapaian cabang dibagi berpusat pada target user aktif (20%)\\n </li>\\n</ol>\\n<p>\\n Dengan skema pemberian promo berdasarkan mapping kuadran ini\\n</p>\\n<figure>\\n <img src=\"http://127.0.0.1:5000/get-image-semantic/database_promo.png\"/>\\n</figure>\\n<figure>\\n <table>\\n  <thead>\\n   <tr>\\n    <th>\\n     No\\n    </th>\\n    <th>\\n     Promo\\n    </th>\\n    <th>\\n     Bentuk Promo\\n    </th>\\n    <th>\\n     Mekanisme Promo\\n    </th>\\n    <th>\\n     Achievement\\n    </th>\\n   </tr>\\n  </thead>\\n  <tbody>\\n   <tr>\\n    <td>\\n     0\\n    </td>\\n    <td>\\n     promo apa yang diusulkan?\\n    </td>\\n    <td>\\n     bentuknya diskon, cashback, atau apa?\\n    </td>\\n    <td>\\n     bagiamana skema promo-nya?\\n    </td>\\n    <td>\\n     apa yang mission yang diachieve untuk kita\\n    </td>\\n   </tr>\\n   <tr>\\n    <td>\\n     1\\n    </td>\\n    <td>\\n     Merchant discount\\n    </td>\\n    <td>\\n     Discount or cashback\\n    </td>\\n    <td>\\n     User mendapatkan sejumlah X% discount max A jika belanja di merchant tertentu (yang sudah ditentukan merchantnya) dengan AGI mobile/agicash\\n    </td>\\n    <td>\\n     Meningkatkan activation dan retention user; target Activation Zone dan Hall of Fame\\n    </td>\\n   </tr>\\n   <tr>\\n    <td>\\n     2\\n    </td>\\n    <td>\\n     Mission Referral\\n    </td>\\n    <td>\\n     Cashback &amp; Gamification\\n    </td>\\n    <td>\\n     Referrer akan mendapatkan cashback sejumlah X jika TELAH mencapai misi refer P orang untuk memuat akun agi mobile/agicash\\n    </td>\\n    <td>\\n     Meningkatkan acquisition; Dengan gamification user akan distimulasi untuk melakukan misi mencapai target cashback; target Acquisition Zone\\n    </td>\\n   </tr>\\n   <tr>\\n    <td>\\n     3\\n    </td>\\n    <td>\\n     Mission Referral Transaction\\n    </td>\\n    <td>\\n     Cashback &amp; Gamification\\n    </td>\\n    <td>\\n     Referrer dan Referee mendapatkan cashback sejumlah X jika Referee telah membuat transaksi pertama\\n    </td>\\n    <td>\\n     Meningkatkan acquisition dan activation; Dengan gamification user akan distimulasi untuk melakukan misi mencapai target cashback; target Acquisition Zone dan Activation Zone\\n    </td>\\n   </tr>\\n   <tr>\\n    <td>\\n     4\\n    </td>\\n    <td>\\n     Mission Transaction\\n    </td>\\n    <td>\\n     Cashback &amp; Gamification\\n    </td>\\n    <td>\\n     User mendapatkan cashback sejumlah X jika telah mencapai misi membuat transaksi sebanyak N kali\\n    </td>\\n    <td>\\n     User mendapatkan cashback sejumlah X jika mendaftarkan akun menjadi nasabah AGI\\n    </td>\\n    <td>\\n     Meningkatkan activation AGI acccount (Tabungan Icon bukan ya???)\\n    </td>\\n   </tr>\\n   <tr>\\n    <td>\\n     6\\n    </td>\\n    <td>\\n     Discount admin fee connect to emoney\\n    </td>\\n    <td>\\n     Discount\\n    </td>\\n    <td>\\n     User mendapatkan discount admin fee untuk topup emoney; misalnya GOPAY, OVO (*lumayan 1000)\\n    </td>\\n    <td>\\n     Meningkatkan activation dan retention user; target Activation Zone dan Hall of Fame\\n    </td>\\n   </tr>\\n   <tr>\\n    <td>\\n     7\\n    </td>\\n    <td>\\n     Voucher redeem\\n    </td>\\n    <td>\\n     Cashback\\n    </td>\\n    <td>\\n     AGI menyediakan sejulah voucher untuk di redeem, user bisa kapan saja redeem; voucher juga memiliki waktu expired\\n    </td>\\n    <td>\\n     Meningkatkan activation dan retention user; target Activation Zone dan Hall of Fame\\n    </td>\\n   </tr>\\n   <tr>\\n    <td>\\n     8\\n    </td>\\n    <td>\\n     Donasi\\n    </td>\\n    <td>\\n     -\\n    </td>\\n    <td>\\n     Menambahkan fitur donasi ketika melakukan pembayaran\\n    </td>\\n    <td>\\n     Meningkatkan value “for others”\\n    </td>\\n   </tr>\\n   <tr>\\n    <td>\\n     9\\n    </td>\\n    <td>\\n     Program mendapatkan ide dari internal, sebulan sekali atau 2 bulan sekali\\n    </td>\\n    <td>\\n     Voucher atau cashback di Agi mobile\\n    </td>\\n    <td>\\n     Membuat program untuk intenal AGI (ditentukan siapa); siapa pun yang punya ide untuk meningkatkan acquisition atau activation atau program yang bsa membantu mencapai target, maka akan mendaatkan voucher yang bisa di redeem\\n    </td>\\n    <td>\\n     Meningkatkan bounding di internal AGI dan gotong royong mencapat target; sekaligus mengajak karyawan menggunakan agi mobile dan bertransaksi dengan agi mobile\\n    </td>\\n   </tr>\\n   <tr>\\n    <td>\\n     10\\n    </td>\\n    <td>\\n     Hackethon Bug Bountie atau Deasign\\n    </td>\\n    <td>\\n     Voucher atau cashback di Agi mobile\\n    </td>\\n    <td>\\n     Membuat program bug bountie atau design aplikasi untuk internal karyawan\\n    </td>\\n    <td>\\n    </td>\\n   </tr>\\n  </tbody>\\n </table>\\n</figure>\\n',\n",
       "  'length_doc': 3641,\n",
       "  'distance_doc': 1.083,\n",
       "  'topic_documents': 'Digital Insight',\n",
       "  'tanggal_content': '2022-12-28T08:26:29.398Z',\n",
       "  'author_content': 'Rahmi',\n",
       "  'link_content': 'http://10.0.232.117:3000/en/Insight/Data_Insight/DatabasePromoIdeation',\n",
       "  'direktorat_content': 'Digital Insight',\n",
       "  'pic_analyst_content': 'Ghifari Daulagiri'}]"
      ]
     },
     "execution_count": 26,
     "metadata": {},
     "output_type": "execute_result"
    }
   ],
   "source": [
    "answer[0:3]"
   ]
  },
  {
   "cell_type": "code",
   "execution_count": 45,
   "id": "c9019d2f-d69a-4018-8680-4a234f639ead",
   "metadata": {},
   "outputs": [],
   "source": [
    "# Use any translator you like, in this example GoogleTranslator\n",
    "translatedGPT = GoogleTranslator(source='id', target='en').translate(\"rangkum kalimat berikut :\" + \"\"\"Latar Belakang dan Tujuan Analisis ini dibuat sebagai dasar pembuatan dan desain kontrol untuk strategi akuisisi dan aktivasi merchant QRIS. Target full year 2022 adalah akuisisi 100.000 merchant QRIS, dan 1 Trilyun CASA. Dimana transaksi QRIS adalah salah satu channel untuk mencapai target CASA. Oleh karena itu perlu dilakukan analisis untuk menyusun strategi akuisisi dan aktivasi merchant QRIS, menurunkan teknis pelaksanaan di lapangan, dan desain & mekanisme kontrol pelaksanaannya. Temuan Utama Simulasi Target Berangkat dari target 100 ribu customer dan asumsi 1T target CASA bisa didapatkan seluruhnya dari transaksi QRIS. Skema simulasi menggunakan skema Referral yang sudah terdefinisi di dokumen ‘Target 1 Juta Nasabah’. Simulasi kondisi ideal Dalam simulasi ini, metric yang harus dijaga untuk dapat mencapai tujuan adalah: Metric akuisisi merchant: Rasio Merchant Aktif: 20% Merchant MGM % Merchant Aktif: 30% Rata-rata Akuisisi per Merchant MGM: 5 merchant Metric aktivasi merchant: Banyaknya Transaksi per Merchant: 150 transaksi Rata-rata Nilai Transaksi: IDR 100.000 \"\"\" + \" menjadi kalimat yang rapi dan benar\")"
   ]
  },
  {
   "cell_type": "code",
   "execution_count": 46,
   "id": "8129caaa-0366-4858-ab4f-fd61df623ea2",
   "metadata": {},
   "outputs": [
    {
     "name": "stdout",
     "output_type": "stream",
     "text": [
      "Found model file at  /home/diginsight/.cache/gpt4all/ggml-model-gpt4all-falcon-q4_0.bin\n",
      "falcon_model_load: loading model from '/home/diginsight/.cache/gpt4all/ggml-model-gpt4all-falcon-q4_0.bin' - please wait ...\n",
      "falcon_model_load: n_vocab   = 65024\n",
      "falcon_model_load: n_embd    = 4544\n",
      "falcon_model_load: n_head    = 71\n",
      "falcon_model_load: n_head_kv = 1\n",
      "falcon_model_load: n_layer   = 32\n",
      "falcon_model_load: ftype     = 2\n",
      "falcon_model_load: qntvr     = 0\n",
      "falcon_model_load: ggml ctx size = 3872.64 MB\n",
      "falcon_model_load: memory_size =    32.00 MB, n_mem = 65536\n",
      "falcon_model_load: ........................ done\n",
      "falcon_model_load: model size =  3872.59 MB / num tensors = 196\n"
     ]
    }
   ],
   "source": [
    "modelGPT = GPT4All(\"ggml-model-gpt4all-falcon-q4_0.bin\")"
   ]
  },
  {
   "cell_type": "code",
   "execution_count": 47,
   "id": "fd038b92-da29-418b-a44f-4929f4d6b7ff",
   "metadata": {},
   "outputs": [
    {
     "name": "stdout",
     "output_type": "stream",
     "text": [
      "summarize the following sentences :Background and Purpose This analysis is made as a basis for the creation and design of controls for QRIS merchant acquisition and activation strategy. The full year 2022 target is the acquisition of 100,000 QRIS merchants and 1 trillion CASA. Where QRIS transactions are one of the channels to achieve CASA targets. Therefore it is necessary to carry out an analysis to develop a strategy for acquiring and activating QRIS merchants, reducing technical implementation in the field, and designing & controlling mechanisms for its implementation. Main Findings of Target Simulation Departing from a target of 100 thousand customers and assuming 1T CASA targets can be obtained entirely from QRIS transactions. The simulation scheme uses the Referral scheme that has been defined in the 'Target of 1 Million Customers' document. Simulation of ideal conditions In this simulation, the metrics that must be maintained to achieve the goal are: Merchant acquisition metric: Active Merchant Ratio: 20% MGM Merchants % Active Merchants: 30% Average Acquisition per MGM Merchant: 5 merchants Merchant activation metric: Number Transactions per Merchant: 150 transactions Average Transaction Value: IDR 100,000 into neat and correct sentences\n"
     ]
    }
   ],
   "source": [
    "print(translatedGPT)"
   ]
  },
  {
   "cell_type": "code",
   "execution_count": 48,
   "id": "631a2bf5-39f8-45e1-a1ae-efaf012fb199",
   "metadata": {},
   "outputs": [],
   "source": [
    "output_3 = modelGPT.generate(translatedGPT)"
   ]
  },
  {
   "cell_type": "code",
   "execution_count": 51,
   "id": "e72cd0c0-5d87-4f67-ae08-329dc98f4ed9",
   "metadata": {},
   "outputs": [],
   "source": [
    "output_3 = GoogleTranslator(source='en', target='id').translate(output_3)"
   ]
  },
  {
   "cell_type": "code",
   "execution_count": 52,
   "id": "f3596234-f1b1-4202-81c9-08d03b7e371c",
   "metadata": {},
   "outputs": [
    {
     "data": {
      "text/html": [
       "Latar Belakang dan Tujuan: Analisis ini dibuat sebagai dasar pembuatan dan perancangan pengendalian strategi akuisisi dan aktivasi merchant QRIS. Target setahun penuh 2022 adalah akuisisi 100.000 merchant QRIS dan 1 triliun CASA. Dimana transaksi QRIS menjadi salah satu saluran untuk mencapai target CASA. Oleh karena itu perlu dilakukan analisis untuk menyusun strategi akuisisi dan aktivasi merchant QRIS, pengurangan teknis pelaksanaan di lapangan, serta perancangan & pengendalian mekanisme pelaksanaannya.\n",
       "\n",
       "Temuan Utama Simulasi Target: Berangkat dari target 1.000.000 nasabah dan dengan asumsi target CASA 1T dapat diperoleh seluruhnya dari transaksi QRIS. Skema simulasi menggunakan skema Referral yang telah ditetapkan dalam dokumen 'Target 1 Juta Pelanggan'. Simulasi kondisi ideal: Dalam simulasi ini, metrik yang harus dipertahankan untuk mencapai tujuan adalah: Metrik akuisisi pedagang: Rasio Pedagang Aktif: 2%"
      ],
      "text/plain": [
       "<IPython.core.display.HTML object>"
      ]
     },
     "metadata": {},
     "output_type": "display_data"
    }
   ],
   "source": [
    "display(HTML(output_3))"
   ]
  },
  {
   "cell_type": "code",
   "execution_count": null,
   "id": "6b628489-581c-46fc-9955-ffde8324c7bf",
   "metadata": {},
   "outputs": [],
   "source": [
    "for data_answer_2 in answer:\n",
    "    print(data_answer_2['distance_doc'])"
   ]
  },
  {
   "cell_type": "code",
   "execution_count": 65,
   "id": "cbc6240b-3c11-43d6-968f-5b82aaf0df88",
   "metadata": {},
   "outputs": [],
   "source": [
    "answer_4 = []\n",
    "\n",
    "for data_answer_4 in answer:\n",
    "    soup_2 = BeautifulSoup(data_answer_4['content_doc'], 'html.parser')\n",
    "    h1_tags = soup_2.find_all('h1')\n",
    "    h2_tags = soup_2.find_all('h2')\n",
    "    h3_tags = soup_2.find_all('h3')\n",
    "    p_tags = soup_2.find_all('p')\n",
    "    li_tags = soup_2.find_all('li')\n",
    "    table_tags = soup_2.find_all('table')\n",
    "\n",
    "    for h1_tag in h1_tags:\n",
    "        h1_tag['class'] = 'text-base text-[#41B4BE] font-bold'\n",
    "    for h2_tag in h2_tags:\n",
    "        h2_tag['class'] = 'text-xs text-[#41B4BE] font-semibold'\n",
    "    for h3_tag in h3_tags:\n",
    "        h3_tag['class'] = 'text-xs text-[#41B4BE] font-semibold'\n",
    "    for p_tag in p_tags:\n",
    "        p_tag['class'] = 'text-xs text-[#41B4BE] font-regular'\n",
    "    for li_tag in li_tags:\n",
    "        li_tag['class'] = 'text-xs text-red-500'\n",
    "    for table_tag in table_tags:\n",
    "        table_tag['class'] = 'table-auto border border-collapse border-blue-500'\n",
    "\n",
    "    # Tambahkan kode untuk mengganti div dengan tag p\n",
    "    div_tags = soup_2.find_all('div', class_='item-content-document')\n",
    "    for div_tag in div_tags:\n",
    "        if div_tag.get_text(strip=True):\n",
    "            new_p_tag = soup_2.new_tag('p', class_='text-xs text-[#41B4BE] font-regular')\n",
    "            new_p_tag.string = div_tag.get_text()\n",
    "            div_tag.replace_with(new_p_tag)\n",
    "\n",
    "    data_answer_4['content_doc'] = str(soup_2.prettify())\n",
    "    answer_4.append(data_answer_4)"
   ]
  },
  {
   "cell_type": "code",
   "execution_count": 66,
   "id": "f8f2a159-6a4d-45fc-b2a8-8a55434a1fca",
   "metadata": {},
   "outputs": [
    {
     "data": {
      "text/html": [
       "Isi Value Query : simulai kondisi realistis pada dokumen analisis target akuisisi dan aktivasi merchant</h1>"
      ],
      "text/plain": [
       "<IPython.core.display.HTML object>"
      ]
     },
     "metadata": {},
     "output_type": "display_data"
    },
    {
     "data": {
      "text/html": [
       "<h1>Data Summary ke-1</h1>"
      ],
      "text/plain": [
       "<IPython.core.display.HTML object>"
      ]
     },
     "metadata": {},
     "output_type": "display_data"
    },
    {
     "data": {
      "text/html": [
       "<h1>===================================================</h1>"
      ],
      "text/plain": [
       "<IPython.core.display.HTML object>"
      ]
     },
     "metadata": {},
     "output_type": "display_data"
    },
    {
     "data": {
      "text/html": [
       "<h1 class=\"text-base text-[#41B4BE] font-bold\" classname=\"text-base text-[#41B4BE] font-bold\">\n",
       " <a href=\"#h-07042022-analisis-target-akuisisi-dan-aktivasi-merchant-qris\">\n",
       " </a>\n",
       " [07042022] Analisis Target Akuisisi dan Aktivasi Merchant QRIS\n",
       "</h1>\n",
       "<h2 class=\"text-xs text-[#41B4BE] font-semibold\" classname=\"text-xs text-[#41B4BE] font-semibold\">\n",
       " <a href=\"#latar-belakang-dan-tujuan\">\n",
       " </a>\n",
       " Latar Belakang dan Tujuan\n",
       "</h2>\n",
       "<p class=\"text-xs text-[#41B4BE] font-regular\" classname=\"text-xs text-[#41B4BE] font-regular\">\n",
       " Analisis ini dibuat sebagai dasar pembuatan dan desain kontrol untuk strategi akuisisi dan aktivasi merchant QRIS.\n",
       "</p>\n",
       "<p class=\"text-xs text-[#41B4BE] font-regular\" classname=\"text-xs text-[#41B4BE] font-regular\">\n",
       " Target full year 2022 adalah akuisisi 100.000 merchant QRIS, dan 1 Trilyun CASA. Oleh karena itu perlu dilakukan analisis untuk menyusun strategi akuisisi dan aktivasi merchant QRIS, menurunkan teknis pelaksanaan di lapangan, dan desain &amp; mekanisme kontrol pelaksanaannya.\n",
       "</p>\n",
       "<h2 class=\"text-xs text-[#41B4BE] font-semibold\" classname=\"text-xs text-[#41B4BE] font-semibold\">\n",
       " <a href=\"#temuan-utama\">\n",
       " </a>\n",
       " Temuan Utama\n",
       "</h2>\n",
       "<h3 class=\"text-xs text-[#41B4BE] font-semibold\">\n",
       " <a href=\"#simulasi-target\">\n",
       " </a>\n",
       " Simulasi Target\n",
       "</h3>\n",
       "<p class=\"text-xs text-[#41B4BE] font-regular\" classname=\"text-xs text-[#41B4BE] font-regular\">\n",
       " Berangkat dari target 100 ribu customer dan asumsi 1T target CASA bisa didapatkan\n",
       " <strong>\n",
       "  seluruhnya\n",
       " </strong>\n",
       " dari transaksi QRIS. Skema simulasi menggunakan skema Referral yang sudah terdefinisi di dokumen ‘Target 1 Juta Nasabah’.\n",
       "</p>\n",
       "<h3 class=\"text-xs text-[#41B4BE] font-semibold\">\n",
       " <a href=\"#simulasi-kondisi-ideal\">\n",
       " </a>\n",
       " Simulasi kondisi ideal\n",
       "</h3>\n",
       "<p class=\"text-xs text-[#41B4BE] font-regular\" classname=\"text-xs text-[#41B4BE] font-regular\">\n",
       " Dalam simulasi ini, metric yang harus dijaga untuk dapat mencapai tujuan adalah:\n",
       "</p>\n",
       "<p class=\"text-xs text-[#41B4BE] font-regular\" classname=\"text-xs text-[#41B4BE] font-regular\">\n",
       " Metric akuisisi merchant:\n",
       "</p>\n",
       "<ol>\n",
       " <li class=\"text-xs text-red-500\">\n",
       "  Rasio Merchant Aktif: 20%\n",
       " </li>\n",
       " <li class=\"text-xs text-red-500\">\n",
       "  Merchant MGM % Merchant Aktif: 30%\n",
       " </li>\n",
       " <li class=\"text-xs text-red-500\">\n",
       "  Rata-rata Akuisisi per Merchant MGM: 5 merchant\n",
       " </li>\n",
       "</ol>\n",
       "<p class=\"text-xs text-[#41B4BE] font-regular\" classname=\"text-xs text-[#41B4BE] font-regular\">\n",
       " Metric aktivasi merchant:\n",
       "</p>\n",
       "<ol>\n",
       " <li class=\"text-xs text-red-500\">\n",
       "  Banyaknya Transaksi per Merchant: 150 transaksi\n",
       " </li>\n",
       " <li class=\"text-xs text-red-500\">\n",
       "  Rata-rata Nilai Transaksi: IDR 100.000\n",
       " </li>\n",
       "</ol>\n",
       "<figure>\n",
       " <img baik=\"\" bank.<=\"\" berdampak=\"\" bisnis=\"\" cabang=\"\" dan=\"\" dipastikan=\"\" hubungan=\"\" itu=\"\" kerjasama=\"\" merchant=\"\" p=\"\" perlu=\"\" positif=\"\" sehingga=\"\" terhadap=\"\" terjalin=\"\" untuk=\"\" yang=\"\"/>\n",
       " <p class=\"text-xs text-[#41B4BE] font-regular\" classname=\"text-xs text-[#41B4BE] font-regular\">\n",
       "  Untuk menunjang kunci keberhasilan tersebut, perlu adanya tracking dan definisi target untuk metric tertentu kepada cabang, baik itu dalam aspek akuisisi maupun aktivasi.\n",
       " </p>\n",
       " <p class=\"text-xs text-[#41B4BE] font-regular\" classname=\"text-xs text-[#41B4BE] font-regular\">\n",
       "  Perlu adanya gamifikasi sebagai sarana berkompetisi antar cabang, dan perlu diadakan reward bagi cabang yang membuktikan prestasinya.\n",
       " </p>\n",
       " <p class=\"text-xs text-[#41B4BE] font-regular\" classname=\"text-xs text-[#41B4BE] font-regular\">\n",
       "  Oleh karena itu, direkomendasikan model pemantauan metric berupa kuadran capaian dengan poros-poros:\n",
       " </p>\n",
       " <ol>\n",
       "  <li class=\"text-xs text-red-500\">\n",
       "   Metric Akuisisi: Total Merchant, dimana pencapaian cabang dibagi berpusat pada median akuisisi cabang.\n",
       "  </li>\n",
       "  <li class=\"text-xs text-red-500\">\n",
       "   Metric Aktivasi: Raiso Merchant aktif, dimana pencapaian cabang dibagi berpusat pada target user aktif (20%)\n",
       "  </li>\n",
       " </ol>\n",
       " <figure>\n",
       "  <img src=\"http://127.0.0.1:5000/get-image-semantic/aktivasimerchantqris/untitled_6.png\"/>\n",
       " </figure>\n",
       " <p class=\"text-xs text-[#41B4BE] font-regular\" classname=\"text-xs text-[#41B4BE] font-regular\">\n",
       "  Target user aktif harus rutin dikaji berdasarkan realisasi capaian cabang dan kebutuhan pemenuhan target tahun 2022\n",
       " </p>\n",
       " <p class=\"text-xs text-[#41B4BE] font-regular\" classname=\"text-xs text-[#41B4BE] font-regular\">\n",
       "  Perlu adanya arahan rutin ke cabang sebagai sarana cabang untuk mengidentifikasi merchant yang perlu distimulasi untuk kembali aktif dan/atau diberikan apresiasi karena telah menjadi merchant yang loyal kepada BAG.\n",
       " </p>\n",
       " .\n",
       "</figure>\n"
      ],
      "text/plain": [
       "<IPython.core.display.HTML object>"
      ]
     },
     "metadata": {},
     "output_type": "display_data"
    },
    {
     "data": {
      "text/html": [
       "Isi Value Query : simulai kondisi realistis pada dokumen analisis target akuisisi dan aktivasi merchant</h1>"
      ],
      "text/plain": [
       "<IPython.core.display.HTML object>"
      ]
     },
     "metadata": {},
     "output_type": "display_data"
    },
    {
     "data": {
      "text/html": [
       "<h1>Data Summary ke-2</h1>"
      ],
      "text/plain": [
       "<IPython.core.display.HTML object>"
      ]
     },
     "metadata": {},
     "output_type": "display_data"
    },
    {
     "data": {
      "text/html": [
       "<h1>===================================================</h1>"
      ],
      "text/plain": [
       "<IPython.core.display.HTML object>"
      ]
     },
     "metadata": {},
     "output_type": "display_data"
    },
    {
     "data": {
      "text/html": [
       "<h1 class=\"text-base text-[#41B4BE] font-bold\" classname=\"text-base text-[#41B4BE] font-bold\">\n",
       " <a href=\"#analisis-kuadran-merchant-berdasarkan-transaksi-balance-dan-amount\">\n",
       " </a>\n",
       " Analisis Kuadran Merchant berdasarkan Transaksi, Balance, dan Amount\n",
       "</h1>\n",
       "<h2 class=\"text-xs text-[#41B4BE] font-semibold\" classname=\"text-xs text-[#41B4BE] font-semibold\">\n",
       " <a href=\"#latar-belakang-dan-tujuan\">\n",
       " </a>\n",
       " Latar Belakang dan Tujuan\n",
       "</h2>\n",
       "<p class=\"text-xs text-[#41B4BE] font-regular\" classname=\"text-xs text-[#41B4BE] font-regular\">\n",
       " Marketing analytics merupakan salah satu target pada RBB 2023. Tujuan analisis adalah menentukan target customer untuk ditawarkan produk BAG yang sesuai dengan karakteristik customer berdasarkan hasil analisis. Data-data seperti transaksi dan balance rekening perlu dilakukan untuk memberikan gambaran potensial merchant.\n",
       "</p>\n",
       "<h2 class=\"text-xs text-[#41B4BE] font-semibold\" classname=\"text-xs text-[#41B4BE] font-semibold\">\n",
       " <a href=\"#analisis-populasi-data-merchant\">\n",
       " </a>\n",
       " Analisis Populasi Data Merchant\n",
       "</h2>\n",
       "<p class=\"text-xs text-[#41B4BE] font-regular\" classname=\"text-xs text-[#41B4BE] font-regular\">\n",
       " Terdapat beberapa hal yang dianalisis untuk mendapatkan populasi merchant yang akan ditawarkan produk BAG.\n",
       "</p>\n",
       "<ol>\n",
       " <li class=\"text-xs text-red-500\">\n",
       "  Merchant bukan merupakan sharing account yang dikelola oleh BAG atau cabang\n",
       " </li>\n",
       " <li class=\"text-xs text-red-500\">\n",
       "  Merchant bukan merupakan sharing account dari perusahaan yang ada di grup\n",
       " </li>\n",
       " <li class=\"text-xs text-red-500\">\n",
       "  Merchant memiliki transaksi minimal 1 sejak 90 hari terakhir (data per 28/12/2022)\n",
       " </li>\n",
       "</ol>\n",
       "<p class=\"text-xs text-[#41B4BE] font-regular\" classname=\"text-xs text-[#41B4BE] font-regular\">\n",
       " Berikut ringkasan hasil analisis populasi merchant\n",
       "</p>\n",
       "<ul>\n",
       " <li class=\"text-xs text-red-500\">\n",
       "  Total Account Number = 3179\n",
       " </li>\n",
       " <li class=\"text-xs text-red-500\">\n",
       "  Total Merchant = 3335\n",
       " </li>\n",
       "</ul>\n",
       "<p class=\"text-xs text-[#41B4BE] font-regular\" classname=\"text-xs text-[#41B4BE] font-regular\">\n",
       " Data Merchant yang dikumpulkan\n",
       "</p>\n",
       "<ul>\n",
       " <li class=\"text-xs text-red-500\">\n",
       "  Account Number\n",
       " </li>\n",
       " <li class=\"text-xs text-red-500\">\n",
       "  Jumlah Merchant per Account Number\n",
       " </li>\n",
       " <li class=\"text-xs text-red-500\">\n",
       "  Total Transaksi dalah 90 hari terakhir\n",
       " </li>\n",
       " <li class=\"text-xs text-red-500\">\n",
       "  Total Amount Transaksi dalam 90 hari terakhir\n",
       " </li>\n",
       " <li class=\"text-xs text-red-500\">\n",
       "  Average balance 90 hari terakhir\n",
       " </li>\n",
       "</ul>\n",
       "<p class=\"text-xs text-[#41B4BE] font-regular\" classname=\"text-xs text-[#41B4BE] font-regular\">\n",
       " <i>\n",
       "  *) data per 28/12/2022\n",
       " </i>\n",
       "</p>\n",
       "<h2 class=\"text-xs text-[#41B4BE] font-semibold\" classname=\"text-xs text-[#41B4BE] font-semibold\">\n",
       " <a href=\"#analisis-kuadran-transaksi-dan-balance\">\n",
       " </a>\n",
       " Analisis Kuadran Transaksi dan Balance\n",
       "</h2>\n",
       "<p class=\"text-xs text-[#41B4BE] font-regular\" classname=\"text-xs text-[#41B4BE] font-regular\">\n",
       " Beberapa simulasi dilakukan dengan mencari proporsi Top X% merchant dengan transaksi tertinggi dan Top Y% merchant dengan balance tertinggi.\n",
       "</p>\n",
       "<figure>\n",
       " <img src=\"http://127.0.0.1:5000/get-image-semantic/insight/trx_vs_bal.jpg\"/>\n",
       "</figure>\n",
       "<h3 class=\"text-xs text-[#41B4BE] font-semibold\">\n",
       " <a href=\"#simulasi-1-25-transaksi-vs-25-balance\">\n",
       " </a>\n",
       " <mark>\n",
       "  Simulasi 1 (25% Transaksi vs 25% Balance)\n",
       " </mark>\n",
       "</h3>\n",
       "<p class=\"text-xs text-[#41B4BE] font-regular\" classname=\"text-xs text-[#41B4BE] font-regular\">\n",
       " Dengan simulasi pertama, menggunakan TOP 25% merchant dengan transaksi terbanyak dan TOP 25% merchant dengan balance tertinggi. Dengan kata lain merchant yang merupakan nasabah cukup …(istilahnya apa lupa gw) sehingga dapat ditawarkan produk SME.\n",
       "</p>\n",
       "<h3 class=\"text-xs text-[#41B4BE] font-semibold\">\n",
       " <a href=\"#rekomendasi-2-melakukan-deep-analysis-untuk-penawaran-produk-konsumer\">\n",
       " </a>\n",
       " <mark>\n",
       "  Rekomendasi 2: Melakukan deep analysis untuk penawaran produk Konsumer\n",
       " </mark>\n",
       "</h3>\n",
       "<p class=\"text-xs text-[#41B4BE] font-regular\" classname=\"text-xs text-[#41B4BE] font-regular\">\n",
       " Mengacu pada\n",
       " <strong>\n",
       "  Analisis Kuadran Transaksi-Balance, Kuadran II dengan titik Balance pada P95 dapat dijadikan target untuk AKUISISI KONSUMER\n",
       " </strong>\n",
       " .\n",
       "</p>\n",
       "<h3 class=\"text-xs text-[#41B4BE] font-semibold\">\n",
       " <a href=\"#\">\n",
       " </a>\n",
       "</h3>\n",
       ".\n"
      ],
      "text/plain": [
       "<IPython.core.display.HTML object>"
      ]
     },
     "metadata": {},
     "output_type": "display_data"
    },
    {
     "data": {
      "text/html": [
       "Isi Value Query : simulai kondisi realistis pada dokumen analisis target akuisisi dan aktivasi merchant</h1>"
      ],
      "text/plain": [
       "<IPython.core.display.HTML object>"
      ]
     },
     "metadata": {},
     "output_type": "display_data"
    },
    {
     "data": {
      "text/html": [
       "<h1>Data Summary ke-3</h1>"
      ],
      "text/plain": [
       "<IPython.core.display.HTML object>"
      ]
     },
     "metadata": {},
     "output_type": "display_data"
    },
    {
     "data": {
      "text/html": [
       "<h1>===================================================</h1>"
      ],
      "text/plain": [
       "<IPython.core.display.HTML object>"
      ]
     },
     "metadata": {},
     "output_type": "display_data"
    },
    {
     "data": {
      "text/html": [
       "Analisis Target Akuisisi dan Aktivasi Merchant QRIS\n",
       ", rekomendasi promo yang ditargetkan adalah\n",
       "<ol>\n",
       " <li class=\"text-xs text-red-500\">\n",
       "  Metric Akuisisi: Total Merchant, dimana pencapaian cabang dibagi berpusat pada median akuisisi cabang.\n",
       " </li>\n",
       " <li class=\"text-xs text-red-500\">\n",
       "  Metric Aktivasi: Raiso Merchant aktif, dimana pencapaian cabang dibagi berpusat pada target user aktif (20%)\n",
       " </li>\n",
       "</ol>\n",
       "<p class=\"text-xs text-[#41B4BE] font-regular\" classname=\"text-xs text-[#41B4BE] font-regular\">\n",
       " Dengan skema pemberian promo berdasarkan mapping kuadran ini\n",
       "</p>\n",
       "<figure>\n",
       " <img src=\"http://127.0.0.1:5000/get-image-semantic/database_promo.png\"/>\n",
       "</figure>\n",
       "<figure>\n",
       " <table class=\"table-auto border border-collapse border-blue-500\">\n",
       "  <thead>\n",
       "   <tr>\n",
       "    <th>\n",
       "     No\n",
       "    </th>\n",
       "    <th>\n",
       "     Promo\n",
       "    </th>\n",
       "    <th>\n",
       "     Bentuk Promo\n",
       "    </th>\n",
       "    <th>\n",
       "     Mekanisme Promo\n",
       "    </th>\n",
       "    <th>\n",
       "     Achievement\n",
       "    </th>\n",
       "   </tr>\n",
       "  </thead>\n",
       "  <tbody>\n",
       "   <tr>\n",
       "    <td>\n",
       "     0\n",
       "    </td>\n",
       "    <td>\n",
       "     promo apa yang diusulkan?\n",
       "    </td>\n",
       "    <td>\n",
       "     bentuknya diskon, cashback, atau apa?\n",
       "    </td>\n",
       "    <td>\n",
       "     bagiamana skema promo-nya?\n",
       "    </td>\n",
       "    <td>\n",
       "     apa yang mission yang diachieve untuk kita\n",
       "    </td>\n",
       "   </tr>\n",
       "   <tr>\n",
       "    <td>\n",
       "     1\n",
       "    </td>\n",
       "    <td>\n",
       "     Merchant discount\n",
       "    </td>\n",
       "    <td>\n",
       "     Discount or cashback\n",
       "    </td>\n",
       "    <td>\n",
       "     User mendapatkan sejumlah X% discount max A jika belanja di merchant tertentu (yang sudah ditentukan merchantnya) dengan AGI mobile/agicash\n",
       "    </td>\n",
       "    <td>\n",
       "     Meningkatkan activation dan retention user; target Activation Zone dan Hall of Fame\n",
       "    </td>\n",
       "   </tr>\n",
       "   <tr>\n",
       "    <td>\n",
       "     2\n",
       "    </td>\n",
       "    <td>\n",
       "     Mission Referral\n",
       "    </td>\n",
       "    <td>\n",
       "     Cashback &amp; Gamification\n",
       "    </td>\n",
       "    <td>\n",
       "     Referrer akan mendapatkan cashback sejumlah X jika TELAH mencapai misi refer P orang untuk memuat akun agi mobile/agicash\n",
       "    </td>\n",
       "    <td>\n",
       "     Meningkatkan acquisition; Dengan gamification user akan distimulasi untuk melakukan misi mencapai target cashback; target Acquisition Zone\n",
       "    </td>\n",
       "   </tr>\n",
       "   <tr>\n",
       "    <td>\n",
       "     3\n",
       "    </td>\n",
       "    <td>\n",
       "     Mission Referral Transaction\n",
       "    </td>\n",
       "    <td>\n",
       "     Cashback &amp; Gamification\n",
       "    </td>\n",
       "    <td>\n",
       "     Referrer dan Referee mendapatkan cashback sejumlah X jika Referee telah membuat transaksi pertama\n",
       "    </td>\n",
       "    <td>\n",
       "     Meningkatkan acquisition dan activation; Dengan gamification user akan distimulasi untuk melakukan misi mencapai target cashback; target Acquisition Zone dan Activation Zone\n",
       "    </td>\n",
       "   </tr>\n",
       "   <tr>\n",
       "    <td>\n",
       "     4\n",
       "    </td>\n",
       "    <td>\n",
       "     Mission Transaction\n",
       "    </td>\n",
       "    <td>\n",
       "     Cashback &amp; Gamification\n",
       "    </td>\n",
       "    <td>\n",
       "     User mendapatkan cashback sejumlah X jika telah mencapai misi membuat transaksi sebanyak N kali\n",
       "    </td>\n",
       "    <td>\n",
       "     User mendapatkan cashback sejumlah X jika mendaftarkan akun menjadi nasabah AGI\n",
       "    </td>\n",
       "    <td>\n",
       "     Meningkatkan activation AGI acccount (Tabungan Icon bukan ya???)\n",
       "    </td>\n",
       "   </tr>\n",
       "   <tr>\n",
       "    <td>\n",
       "     6\n",
       "    </td>\n",
       "    <td>\n",
       "     Discount admin fee connect to emoney\n",
       "    </td>\n",
       "    <td>\n",
       "     Discount\n",
       "    </td>\n",
       "    <td>\n",
       "     User mendapatkan discount admin fee untuk topup emoney; misalnya GOPAY, OVO (*lumayan 1000)\n",
       "    </td>\n",
       "    <td>\n",
       "     Meningkatkan activation dan retention user; target Activation Zone dan Hall of Fame\n",
       "    </td>\n",
       "   </tr>\n",
       "   <tr>\n",
       "    <td>\n",
       "     7\n",
       "    </td>\n",
       "    <td>\n",
       "     Voucher redeem\n",
       "    </td>\n",
       "    <td>\n",
       "     Cashback\n",
       "    </td>\n",
       "    <td>\n",
       "     AGI menyediakan sejulah voucher untuk di redeem, user bisa kapan saja redeem; voucher juga memiliki waktu expired\n",
       "    </td>\n",
       "    <td>\n",
       "     Meningkatkan activation dan retention user; target Activation Zone dan Hall of Fame\n",
       "    </td>\n",
       "   </tr>\n",
       "   <tr>\n",
       "    <td>\n",
       "     8\n",
       "    </td>\n",
       "    <td>\n",
       "     Donasi\n",
       "    </td>\n",
       "    <td>\n",
       "     -\n",
       "    </td>\n",
       "    <td>\n",
       "     Menambahkan fitur donasi ketika melakukan pembayaran\n",
       "    </td>\n",
       "    <td>\n",
       "     Meningkatkan value “for others”\n",
       "    </td>\n",
       "   </tr>\n",
       "   <tr>\n",
       "    <td>\n",
       "     9\n",
       "    </td>\n",
       "    <td>\n",
       "     Program mendapatkan ide dari internal, sebulan sekali atau 2 bulan sekali\n",
       "    </td>\n",
       "    <td>\n",
       "     Voucher atau cashback di Agi mobile\n",
       "    </td>\n",
       "    <td>\n",
       "     Membuat program untuk intenal AGI (ditentukan siapa); siapa pun yang punya ide untuk meningkatkan acquisition atau activation atau program yang bsa membantu mencapai target, maka akan mendaatkan voucher yang bisa di redeem\n",
       "    </td>\n",
       "    <td>\n",
       "     Meningkatkan bounding di internal AGI dan gotong royong mencapat target; sekaligus mengajak karyawan menggunakan agi mobile dan bertransaksi dengan agi mobile\n",
       "    </td>\n",
       "   </tr>\n",
       "   <tr>\n",
       "    <td>\n",
       "     10\n",
       "    </td>\n",
       "    <td>\n",
       "     Hackethon Bug Bountie atau Deasign\n",
       "    </td>\n",
       "    <td>\n",
       "     Voucher atau cashback di Agi mobile\n",
       "    </td>\n",
       "    <td>\n",
       "     Membuat program bug bountie atau design aplikasi untuk internal karyawan\n",
       "    </td>\n",
       "    <td>\n",
       "    </td>\n",
       "   </tr>\n",
       "  </tbody>\n",
       " </table>\n",
       "</figure>\n"
      ],
      "text/plain": [
       "<IPython.core.display.HTML object>"
      ]
     },
     "metadata": {},
     "output_type": "display_data"
    }
   ],
   "source": [
    "num = 0\n",
    "for data_answer in answer_4:\n",
    "    num = num + 1\n",
    "    display(HTML(f\"Isi Value Query : {query}</h1>\"))\n",
    "    display(HTML(f\"<h1>Data Summary ke-{(num)}</h1>\"))\n",
    "    display(HTML(f\"<h1>===================================================</h1>\"))\n",
    "    display(HTML(data_answer['content_doc']))"
   ]
  },
  {
   "cell_type": "code",
   "execution_count": 60,
   "id": "2c5735f2-0a1b-41c3-91a3-90bbf663021a",
   "metadata": {},
   "outputs": [],
   "source": [
    "answer_2 = []\n",
    "\n",
    "for in_answer in answer:\n",
    "    answer_2.append(in_answer)"
   ]
  },
  {
   "cell_type": "code",
   "execution_count": null,
   "id": "f26c2fa3-dd62-4303-851a-e5d4911f4d54",
   "metadata": {},
   "outputs": [],
   "source": [
    "new_answer_2 = []\n",
    "for doc1 in answer_2:\n",
    "    matching_data2 = next((doc2 for doc2 in data_test_2 if doc2[\"title_content\"] == doc1[\"title_doc\"]), None)\n",
    "    if matching_data2:\n",
    "        doc1[\"doc_link_content\"] = matching_data2[\"link_content\"]\n",
    "        new_answer_2.append(doc1)"
   ]
  },
  {
   "cell_type": "code",
   "execution_count": null,
   "id": "d8ae9fb9-fa94-45b8-a29e-940dceba45e0",
   "metadata": {},
   "outputs": [],
   "source": [
    "print(new_answer_2)"
   ]
  },
  {
   "cell_type": "code",
   "execution_count": null,
   "id": "223c3637-d3bb-4282-a741-e0657f1ea785",
   "metadata": {},
   "outputs": [],
   "source": []
  }
 ],
 "metadata": {
  "kernelspec": {
   "display_name": "Python 3 (ipykernel)",
   "language": "python",
   "name": "python3"
  },
  "language_info": {
   "codemirror_mode": {
    "name": "ipython",
    "version": 3
   },
   "file_extension": ".py",
   "mimetype": "text/x-python",
   "name": "python",
   "nbconvert_exporter": "python",
   "pygments_lexer": "ipython3",
   "version": "3.10.12"
  }
 },
 "nbformat": 4,
 "nbformat_minor": 5
}
